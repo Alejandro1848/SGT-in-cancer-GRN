{
 "cells": [
  {
   "cell_type": "code",
   "execution_count": 2,
   "metadata": {},
   "outputs": [],
   "source": [
    "import numpy as np\n",
    "import pandas as pd \n",
    "import networkx as nx\n",
    "import math\n",
    "import sympy as sp\n",
    "import matplotlib.pyplot as plt\n",
    "\n",
    "from sympy import *\n",
    "from numpy import linalg as LA\n",
    "from numpy.linalg import matrix_rank"
   ]
  },
  {
   "cell_type": "code",
   "execution_count": null,
   "metadata": {},
   "outputs": [],
   "source": []
  },
  {
   "cell_type": "code",
   "execution_count": null,
   "metadata": {},
   "outputs": [],
   "source": [
    "from IPython.core.interactiveshell import InteractiveShell\n",
    "InteractiveShell.ast_node_interactivity =\"all\""
   ]
  },
  {
   "cell_type": "code",
   "execution_count": 3,
   "metadata": {},
   "outputs": [
    {
     "name": "stdout",
     "output_type": "stream",
     "text": [
      "File directory:/Users/alex/Desktop/MatrizAdjSano/MatrizAdjTumor/adjmatrix_UNT.txt\n"
     ]
    }
   ],
   "source": [
    "#Establecer directorio de datos\n",
    "\n",
    "DIR='/Users/alex/Desktop/MatrizAdjSano/MatrizAdjTumor'\n",
    "FILE='/adjmatrix_UNT.txt'\n",
    "\n",
    "file='{}{}'.format(DIR,FILE)\n",
    "\n",
    "print('File directory:{}'.format(file))\n",
    "\n"
   ]
  },
  {
   "cell_type": "code",
   "execution_count": null,
   "metadata": {},
   "outputs": [],
   "source": []
  },
  {
   "cell_type": "code",
   "execution_count": 4,
   "metadata": {},
   "outputs": [],
   "source": [
    "data=pd.read_table(file)"
   ]
  },
  {
   "cell_type": "code",
   "execution_count": null,
   "metadata": {},
   "outputs": [],
   "source": []
  },
  {
   "cell_type": "code",
   "execution_count": 5,
   "metadata": {},
   "outputs": [
    {
     "data": {
      "text/plain": [
       "(16748, 16748)"
      ]
     },
     "execution_count": 5,
     "metadata": {},
     "output_type": "execute_result"
    }
   ],
   "source": [
    "data.shape"
   ]
  },
  {
   "cell_type": "code",
   "execution_count": null,
   "metadata": {},
   "outputs": [],
   "source": []
  },
  {
   "cell_type": "code",
   "execution_count": 6,
   "metadata": {},
   "outputs": [],
   "source": [
    "a=np.diag(np.ones(16748),0)\n",
    "A=data-a"
   ]
  },
  {
   "cell_type": "code",
   "execution_count": null,
   "metadata": {},
   "outputs": [],
   "source": []
  },
  {
   "cell_type": "code",
   "execution_count": 7,
   "metadata": {},
   "outputs": [],
   "source": [
    "#Este modulo calcula un valor umbral (\"threshold\") que promedia todos los valores de las \n",
    "# entradas de un data set\n",
    "\n",
    "# Función convertir a lista el resultado de aplicar .mean() a un DataFrame\n",
    "\n",
    "def mean_to_list(df):\n",
    "    arr=[]\n",
    "    for i in range(0,len(df)):\n",
    "        a=df.iloc[i]\n",
    "        arr.append(a)\n",
    "    return arr\n",
    "\n",
    "# Función para calcular el promedio de las entradas de una lista \n",
    "\n",
    "def cal_prom_en_list(num):\n",
    "    sum_num=0\n",
    "    for entrada in num:\n",
    "        sum_num=sum_num +entrada\n",
    "        \n",
    "    prom = sum_num/len(num)\n",
    "    return prom\n",
    "\n",
    "# Cálculo del umbral, promediando sobre todas las entradas de la matriz de adyacencia\n",
    "\n",
    "A_prom_cols=A.mean()\n",
    "A_mean_list=mean_to_list(A_prom_cols)\n",
    "cal_prom_en_list(A_mean_list)\n",
    "threshold=cal_prom_en_list(A_mean_list)"
   ]
  },
  {
   "cell_type": "code",
   "execution_count": null,
   "metadata": {},
   "outputs": [],
   "source": []
  },
  {
   "cell_type": "code",
   "execution_count": 8,
   "metadata": {},
   "outputs": [
    {
     "data": {
      "text/plain": [
       "0.033064517362779086"
      ]
     },
     "execution_count": 8,
     "metadata": {},
     "output_type": "execute_result"
    }
   ],
   "source": [
    "threshold"
   ]
  },
  {
   "cell_type": "code",
   "execution_count": null,
   "metadata": {},
   "outputs": [],
   "source": []
  },
  {
   "cell_type": "code",
   "execution_count": 10,
   "metadata": {},
   "outputs": [],
   "source": [
    "#Función para contruir la matriz de grado a partir de la de la matriz de adyacencia\n",
    "\n",
    "def degreeMat_from_Adj(mat,n):\n",
    "    new_data=mat.iloc[:n,:n]\n",
    "    \n",
    "    new_data2=new_data.apply(lambda x:(np.where(x<threshold,0,x)))\n",
    "    adj_mat=new_data2.apply(lambda x:(np.where(x>threshold,1,x)))\n",
    "    \n",
    "    #completar la matriz triangular superior para tener la forma completa de una matriz\n",
    "    # simétrica\n",
    "    \n",
    "    adj_mod=np.matrix(adj_mat.fillna(0))\n",
    "    adj_mod_trans=adj_mod.transpose()\n",
    "    simm_mat=adj_mod+adj_mod_trans    #type(simm_mat)=numpy matrix\n",
    "    \n",
    "    \n",
    "    Adj_to_nx=nx.from_numpy_matrix(simm_mat)\n",
    "    L_from_Adj=nx.laplacian_matrix(Adj_to_nx) #obtener la Laplaciana asociada a la de adyacencia\n",
    "    \n",
    "    L_arr=L_from_Adj.toarray()\n",
    "    \n",
    "    L_np=np.matrix(L_arr)\n",
    "    \n",
    "    deg_Mat=L_np+simm_mat\n",
    "    \n",
    "    return deg_Mat"
   ]
  },
  {
   "cell_type": "code",
   "execution_count": null,
   "metadata": {},
   "outputs": [],
   "source": []
  },
  {
   "cell_type": "code",
   "execution_count": null,
   "metadata": {},
   "outputs": [],
   "source": []
  },
  {
   "cell_type": "code",
   "execution_count": 11,
   "metadata": {},
   "outputs": [],
   "source": [
    "# El siguiente módulo, crea un array con los primeros \"n\" genes que deseen obtener del\n",
    "# Data Frame \"data\"\n",
    "\n",
    "#Parametros: data , n \n",
    "\n",
    "def get_genes(data,n):\n",
    "    \n",
    "    genes_arr = sorted(data) #obtener un array que contiene los elementos del header del DataFrame\n",
    "    num_genes_extracted = range(n)\n",
    "    genes = np.array(genes_arr)[num_genes_extracted]\n",
    "    \n",
    "    return genes"
   ]
  },
  {
   "cell_type": "code",
   "execution_count": null,
   "metadata": {},
   "outputs": [],
   "source": []
  },
  {
   "cell_type": "code",
   "execution_count": 12,
   "metadata": {},
   "outputs": [],
   "source": [
    "#La siguiente función sirve para obtener los elementos de la diagonal de la matriz de\n",
    "# grado y la guarda en un array llamado out_p\n",
    "\n",
    "\n",
    "def get_elem_in_diag(Mat):\n",
    "    Mat_mod = np.squeeze(np.asarray(Mat))#convierte numpy matrix en array\n",
    "    out_p=[]\n",
    "    for elem in np.nditer(Mat_mod): #nditer itera sobre arrays\n",
    "        if elem != 0: # omite los valores 0 en el array pues la matriz de grado fuera de la diagonal tiene solo ceros\n",
    "            out_p.append(int(elem))\n",
    "            \n",
    "    return out_p "
   ]
  },
  {
   "cell_type": "code",
   "execution_count": null,
   "metadata": {},
   "outputs": [],
   "source": []
  },
  {
   "cell_type": "code",
   "execution_count": 13,
   "metadata": {},
   "outputs": [],
   "source": [
    "#Función para obtener el número mayor de una lista de números dentro de un array\n",
    "\n",
    "# El parámetro debe tener el mismo número que la dimensión de la matriz \n",
    "# de grado que se está analizando\n",
    "\n",
    "#def get_biggest_num_in_diag(l,n):\n",
    "#    count=0\n",
    "#    for i in range(n):\n",
    "#        for j in range(n):\n",
    "#            if l[j]>l[i]:\n",
    "#                count=l[j]\n",
    "#    return count   \n",
    "\n",
    "# En la siguiente función el parámetro \"a\" es un array que contiene los elementos de \n",
    "# la diagonal de la matriz de grado y \"N\" es el número de elementos que se tomará para\n",
    "# ordenarlos de mayor a menor.\n",
    "\n",
    "# El output indica la posición de la entrada y no su valor, pues con ello podremos \n",
    "# identificar cuál es el gen que tiene más aristas incidentes dentro de él \n",
    "\n",
    "def func(a,N):\n",
    "    return np.argsort(a)[::-1][:N]"
   ]
  },
  {
   "cell_type": "code",
   "execution_count": null,
   "metadata": {},
   "outputs": [],
   "source": []
  },
  {
   "cell_type": "code",
   "execution_count": 14,
   "metadata": {},
   "outputs": [
    {
     "data": {
      "text/plain": [
       "array([24, 61, 83,  6, 60, 31, 86, 14, 47, 79, 53, 90, 39, 92, 44, 94, 82,\n",
       "       34, 57, 64, 17, 97, 13, 36, 29, 77, 78, 27,  3, 41, 32, 18, 48,  0,\n",
       "       87, 72,  4, 10, 12, 75, 38, 95, 46, 21, 22, 85, 45, 59, 28, 42, 11,\n",
       "       96, 43, 81,  9, 68, 91, 56, 71, 69, 51, 37, 66, 70, 62, 15, 23, 30,\n",
       "       99, 33, 98, 84, 58, 16, 55, 89, 49,  8, 20,  1, 63, 50, 93, 74, 73,\n",
       "        7, 76,  5, 88, 65, 52, 25, 40, 80, 19, 26, 54, 67,  2, 35])"
      ]
     },
     "execution_count": 14,
     "metadata": {},
     "output_type": "execute_result"
    }
   ],
   "source": [
    "func(get_elem_in_diag(degreeMat_from_Adj(A,100)),100)"
   ]
  },
  {
   "cell_type": "code",
   "execution_count": 15,
   "metadata": {},
   "outputs": [
    {
     "data": {
      "text/plain": [
       "array([465, 221, 555, 365, 732, 373, 346, 514,  66, 166, 557, 358, 251,\n",
       "       214, 649, 894, 317,  41, 811, 375, 918, 263, 640, 806, 153, 619,\n",
       "        31, 565, 297, 127,  43, 520, 728, 241, 690, 747, 371, 398,  47,\n",
       "       820, 316, 197,  94, 652, 156,  61, 455, 788, 123, 171, 161, 710,\n",
       "        79, 763, 571, 289, 198, 586, 258, 863, 424, 639, 752, 205, 545,\n",
       "       415, 892, 641,   3, 165, 441, 862, 479, 868, 132, 593, 861, 549,\n",
       "       734, 389, 716, 803, 874, 799, 204, 845,  74, 217, 357, 667, 147,\n",
       "        29, 815, 929, 839, 329, 943, 920, 288,  83, 150, 661, 588,  75,\n",
       "       886, 883, 805, 272, 416, 426, 663, 534, 470, 266, 719, 891, 481,\n",
       "       843, 847,  53, 781, 162, 852, 896, 574, 611, 249, 818, 561, 253,\n",
       "         0, 889, 160, 438, 991, 973, 448, 286,  82, 701, 237, 628, 854,\n",
       "       875, 392, 767, 445, 882,  24,  48, 633, 212, 718, 686, 469, 798,\n",
       "       341, 990, 695, 927, 254,  71, 459, 961, 271, 944, 169, 864, 804,\n",
       "       427, 853, 616,  12, 617, 490, 282, 758, 179, 871, 432, 138, 713,\n",
       "       707, 412, 851, 283, 729, 900, 235, 877, 682, 932, 884, 888,  44,\n",
       "       980, 122, 381, 354, 466, 796,  95,  85,  32, 173, 379, 318, 972,\n",
       "       471, 287, 107, 226, 968,  16, 234, 564, 736, 352, 583, 778, 144,\n",
       "       114, 802, 596, 592, 510, 164, 589, 105, 496, 744, 332, 216, 311,\n",
       "       935,  86, 751, 563, 570, 236, 260, 582, 933, 646, 542, 342, 512,\n",
       "       848, 607,  64, 507, 687, 934, 120, 309, 456, 731, 443, 625,  34,\n",
       "       211, 636, 675,  55,  56, 706,  69,  28, 604, 111,  23, 622,   6,\n",
       "        57, 644, 902, 118, 560, 422, 210, 629, 170,  18, 267,  96,  38,\n",
       "       914,  50, 109, 302, 890, 655, 702, 223,  51, 218, 742, 315, 579,\n",
       "       951, 296, 313, 585, 760,  92, 231, 814, 725,  78, 314, 948, 230,\n",
       "       957, 182, 403, 506, 274, 243,  42, 794, 463, 431, 364, 191,  14,\n",
       "       658, 917, 950,  33, 921,  72, 672, 994, 419, 831, 793, 858, 257,\n",
       "       278, 712, 159, 904, 869, 978, 656, 941, 721, 285, 134, 395, 997,\n",
       "       954, 637,  90, 462, 949, 444, 229,  65, 773, 538, 273, 531, 787,\n",
       "       450,  84, 248, 989,  46, 417, 475, 550, 969, 404, 908, 915, 828,\n",
       "       327, 537,  20, 993, 924, 562, 349, 442, 835, 952, 143, 458, 224,\n",
       "       912, 761, 930, 689, 756, 824, 922, 959, 368, 717, 190, 187, 777,\n",
       "       664,  58, 812, 522, 956, 677, 630, 590, 984, 387, 757, 548, 168,\n",
       "       916, 177, 245, 115, 913, 483, 568, 807, 940, 418, 319, 429, 275,\n",
       "       685, 650,  77, 602, 907, 627, 898,   5, 881, 974, 338, 821, 722,\n",
       "       378, 247, 740, 382, 958, 518, 764,  13, 391, 992, 779, 304, 511,\n",
       "       525, 436, 491, 965, 816, 813, 108, 866, 167, 745, 238, 305, 524,\n",
       "       976, 739, 910, 246, 768, 276, 323, 895, 529, 530, 827, 925, 536,\n",
       "       704,  70, 385, 293, 834, 433, 601, 775, 790,  11, 819, 826, 859,\n",
       "       681, 100, 743, 782, 829, 397, 666, 121, 684, 700, 140, 697, 117,\n",
       "       970,  39, 724, 339, 635, 328, 136, 830, 584, 501,  81, 184, 842,\n",
       "       151, 440, 199, 208,  27, 492, 931,  36, 347, 116, 610, 454, 307,\n",
       "       503, 370, 480, 410, 242, 495, 608, 232, 306, 603, 727, 227, 192,\n",
       "       647, 298, 822, 312, 587, 774, 300, 753,  22, 163, 363, 489, 340,\n",
       "       269,  59,  60, 540, 659, 517, 447, 504,  99, 106, 484, 402, 215,\n",
       "       696, 407, 671, 280, 547, 292, 281, 733,  87, 451, 615, 102, 321,\n",
       "       406, 244, 188, 499, 457, 996, 698, 400, 985, 691, 409, 337, 741,\n",
       "       945, 942, 413, 268, 193, 152, 228, 634, 554, 500, 148, 322, 620,\n",
       "       505, 668, 938, 261, 841,  30, 535, 425, 155, 158, 772, 776, 928,\n",
       "       966, 995, 334, 265, 762, 678, 838, 792, 130, 867, 643, 291, 149,\n",
       "         8, 553, 533, 937, 600, 964, 653, 101, 674, 823, 420, 348, 452,\n",
       "       172, 703, 453, 486, 200, 947, 157, 638, 825, 175,  93, 988, 939,\n",
       "       376, 735, 770, 865, 780, 478, 982, 986, 361,  15, 194, 551, 380,\n",
       "        76, 137, 906, 301, 926, 468, 367, 252,  17, 676, 857, 181, 250,\n",
       "       688, 599, 374, 476, 519, 532, 472, 390, 326, 207, 528, 632, 154,\n",
       "       612, 642, 502, 559, 833, 860, 428, 856, 785, 901, 240, 186, 482,\n",
       "       377, 256, 905, 897, 408, 981, 998, 598, 714, 351, 738, 110, 832,\n",
       "       558, 552, 575, 508, 435, 578, 303, 567, 665, 683, 437, 967, 669,\n",
       "        73, 523, 919, 131, 290, 125, 310,   7, 754, 594, 146, 844, 786,\n",
       "        97, 135, 345, 679, 103, 836, 651, 308, 618, 613, 336, 749, 461,\n",
       "       394, 203, 294, 526, 112, 923, 711, 498,  68, 270, 577, 837, 648,\n",
       "       580, 855, 748, 401, 279, 572, 434, 515, 360,  25, 509, 870, 460,\n",
       "       386, 405, 396, 977, 113,  37, 423, 680, 840,  49,  88, 362, 705,\n",
       "       262, 591, 178, 430, 330, 750, 784, 759, 128, 581, 569, 119, 987,\n",
       "       955, 885, 124, 295, 769, 797, 369,   1, 464, 566, 693, 880, 887,\n",
       "        62, 576, 556, 899, 343, 737, 264, 626, 692, 541, 399, 277, 872,\n",
       "       614, 213, 325,  67, 645, 605, 543, 494, 449, 196, 239, 355, 789,\n",
       "       903, 694, 873, 133, 225, 715, 195, 473, 795, 963, 335, 488, 485,\n",
       "       284,  52,   9, 353, 527,  80, 513, 801, 180, 493, 846, 810, 411,\n",
       "       755, 344, 670, 621, 393, 800, 350,  91,  35, 791, 320, 372,  21,\n",
       "       421,   2,  10, 953, 946, 139, 893, 201, 849, 597, 388, 222,  40,\n",
       "         4, 202,  98, 808, 708, 746, 324, 183,  89, 356, 809, 299, 960,\n",
       "       220, 660, 662, 609, 850, 673, 654, 384, 176, 189, 999, 439, 539,\n",
       "       623, 331, 631, 723, 911, 219, 971, 783, 979, 141, 359, 174, 720,\n",
       "       726, 126, 129, 366,  63, 709, 233, 766, 878, 255, 383,  26, 521,\n",
       "       699, 209, 573, 185, 142, 975, 962, 477, 657, 817, 333, 544, 876,\n",
       "       259, 909, 879, 765, 497, 595,  54, 467, 771,  19, 446, 206, 730,\n",
       "       936,  45, 145, 474, 104, 546, 487, 516, 624, 983, 606, 414])"
      ]
     },
     "execution_count": 15,
     "metadata": {},
     "output_type": "execute_result"
    }
   ],
   "source": [
    "func(get_elem_in_diag(degreeMat_from_Adj(A,1000)),1000)"
   ]
  },
  {
   "cell_type": "code",
   "execution_count": 16,
   "metadata": {},
   "outputs": [
    {
     "data": {
      "text/plain": [
       "array([ 465, 1716,  365, ..., 1910, 1847,  414])"
      ]
     },
     "execution_count": 16,
     "metadata": {},
     "output_type": "execute_result"
    }
   ],
   "source": [
    "func(get_elem_in_diag(degreeMat_from_Adj(A,2000)),2000)"
   ]
  },
  {
   "cell_type": "code",
   "execution_count": 17,
   "metadata": {},
   "outputs": [
    {
     "data": {
      "text/plain": [
       "array([ 465, 2457, 2005, ..., 2112, 2473,  414])"
      ]
     },
     "execution_count": 17,
     "metadata": {},
     "output_type": "execute_result"
    }
   ],
   "source": [
    "func(get_elem_in_diag(degreeMat_from_Adj(A,3000)),3000)"
   ]
  },
  {
   "cell_type": "code",
   "execution_count": 18,
   "metadata": {},
   "outputs": [
    {
     "data": {
      "text/plain": [
       "array([ 465, 3742,  365, ...,  414, 1910, 2112])"
      ]
     },
     "execution_count": 18,
     "metadata": {},
     "output_type": "execute_result"
    }
   ],
   "source": [
    "func(get_elem_in_diag(degreeMat_from_Adj(A,4000)),4000)"
   ]
  },
  {
   "cell_type": "code",
   "execution_count": 19,
   "metadata": {},
   "outputs": [
    {
     "data": {
      "text/plain": [
       "array([ 465, 3742,  365, ...,  414, 1910, 2112])"
      ]
     },
     "execution_count": 19,
     "metadata": {},
     "output_type": "execute_result"
    }
   ],
   "source": [
    "func(get_elem_in_diag(degreeMat_from_Adj(A,5000)),5000)"
   ]
  },
  {
   "cell_type": "code",
   "execution_count": 20,
   "metadata": {},
   "outputs": [
    {
     "data": {
      "text/plain": [
       "array([ 465, 3742,  365, ..., 2112, 5860, 5143])"
      ]
     },
     "execution_count": 20,
     "metadata": {},
     "output_type": "execute_result"
    }
   ],
   "source": [
    "func(get_elem_in_diag(degreeMat_from_Adj(A,6000)),6000)"
   ]
  },
  {
   "cell_type": "code",
   "execution_count": 21,
   "metadata": {},
   "outputs": [
    {
     "data": {
      "text/plain": [
       "array([ 465, 3742,  365, ..., 5860, 2112, 5143])"
      ]
     },
     "execution_count": 21,
     "metadata": {},
     "output_type": "execute_result"
    }
   ],
   "source": [
    "func(get_elem_in_diag(degreeMat_from_Adj(A,7000)),7000)"
   ]
  },
  {
   "cell_type": "code",
   "execution_count": 22,
   "metadata": {},
   "outputs": [
    {
     "data": {
      "text/plain": [
       "array([ 465, 7948, 3742, ..., 2112, 7635, 5143])"
      ]
     },
     "execution_count": 22,
     "metadata": {},
     "output_type": "execute_result"
    }
   ],
   "source": [
    "func(get_elem_in_diag(degreeMat_from_Adj(A,8000)),8000)"
   ]
  },
  {
   "cell_type": "code",
   "execution_count": 23,
   "metadata": {},
   "outputs": [
    {
     "data": {
      "text/plain": [
       "array([ 465, 7948, 3742, ..., 2112, 5143, 8300])"
      ]
     },
     "execution_count": 23,
     "metadata": {},
     "output_type": "execute_result"
    }
   ],
   "source": [
    "func(get_elem_in_diag(degreeMat_from_Adj(A,9000)),9000)"
   ]
  },
  {
   "cell_type": "code",
   "execution_count": 24,
   "metadata": {},
   "outputs": [
    {
     "data": {
      "text/plain": [
       "array([ 465, 7948, 7261, ..., 5143, 9116, 8300])"
      ]
     },
     "execution_count": 24,
     "metadata": {},
     "output_type": "execute_result"
    }
   ],
   "source": [
    "func(get_elem_in_diag(degreeMat_from_Adj(A,10000)),10000)"
   ]
  },
  {
   "cell_type": "code",
   "execution_count": null,
   "metadata": {},
   "outputs": [],
   "source": [
    " "
   ]
  },
  {
   "cell_type": "code",
   "execution_count": null,
   "metadata": {},
   "outputs": [],
   "source": []
  },
  {
   "cell_type": "code",
   "execution_count": 13,
   "metadata": {},
   "outputs": [
    {
     "data": {
      "text/plain": [
       "'ENSG00000003056'"
      ]
     },
     "execution_count": 13,
     "metadata": {},
     "output_type": "execute_result"
    }
   ],
   "source": [
    "get_genes(data,16748)[24]"
   ]
  },
  {
   "cell_type": "code",
   "execution_count": 14,
   "metadata": {},
   "outputs": [
    {
     "data": {
      "text/plain": [
       "ENSG00000000003    0.000000\n",
       "ENSG00000000419    0.011007\n",
       "ENSG00000000457    0.021131\n",
       "ENSG00000000460    0.064793\n",
       "ENSG00000000938    0.029265\n",
       "                     ...   \n",
       "hsa-mir-9500       0.028380\n",
       "hsa-mir-96         0.034278\n",
       "hsa-mir-98         0.031001\n",
       "hsa-mir-99a        0.032875\n",
       "hsa-mir-99b        0.032385\n",
       "Length: 16748, dtype: float64"
      ]
     },
     "execution_count": 14,
     "metadata": {},
     "output_type": "execute_result"
    }
   ],
   "source": [
    "A.mean()"
   ]
  },
  {
   "cell_type": "code",
   "execution_count": 15,
   "metadata": {},
   "outputs": [
    {
     "data": {
      "text/plain": [
       "array([ 465, 1716,  365, ..., 1910, 1847,  414])"
      ]
     },
     "execution_count": 15,
     "metadata": {},
     "output_type": "execute_result"
    }
   ],
   "source": [
    " func(get_elem_in_diag(degreeMat_from_Adj(A,2000)),2000)"
   ]
  },
  {
   "cell_type": "code",
   "execution_count": 17,
   "metadata": {},
   "outputs": [
    {
     "data": {
      "text/plain": [
       "array([24, 61, 83,  6, 60, 31, 86, 14, 47, 79, 53, 90, 39, 92, 44, 94, 82,\n",
       "       34, 57, 64, 17, 97, 13, 36, 29, 77, 78, 27,  3, 41, 32, 18, 48,  0,\n",
       "       87, 72,  4, 10, 12, 75, 38, 95, 46, 21, 22, 85, 45, 59, 28, 42, 11,\n",
       "       96, 43, 81,  9, 68, 91, 56, 71, 69, 51, 37, 66, 70, 62, 15, 23, 30,\n",
       "       99, 33, 98, 84, 58, 16, 55, 89, 49,  8, 20,  1, 63, 50, 93, 74, 73,\n",
       "        7, 76,  5, 88, 65, 52, 25, 40, 80, 19, 26, 54, 67,  2, 35])"
      ]
     },
     "execution_count": 17,
     "metadata": {},
     "output_type": "execute_result"
    }
   ],
   "source": [
    " func(get_elem_in_diag(degreeMat_from_Adj(A,100)),100)"
   ]
  },
  {
   "cell_type": "code",
   "execution_count": null,
   "metadata": {},
   "outputs": [],
   "source": [
    " func(get_elem_in_diag(degreeMat_from_Adj(A,9000)),9000)"
   ]
  },
  {
   "cell_type": "code",
   "execution_count": null,
   "metadata": {},
   "outputs": [],
   "source": []
  },
  {
   "cell_type": "code",
   "execution_count": null,
   "metadata": {},
   "outputs": [],
   "source": []
  },
  {
   "cell_type": "code",
   "execution_count": 1,
   "metadata": {},
   "outputs": [
    {
     "ename": "NameError",
     "evalue": "name 'func' is not defined",
     "output_type": "error",
     "traceback": [
      "\u001b[0;31m---------------------------------------------------------------------------\u001b[0m",
      "\u001b[0;31mNameError\u001b[0m                                 Traceback (most recent call last)",
      "\u001b[0;32m<ipython-input-1-c94fc01fdc44>\u001b[0m in \u001b[0;36m<module>\u001b[0;34m\u001b[0m\n\u001b[0;32m----> 1\u001b[0;31m \u001b[0mfunc\u001b[0m\u001b[0;34m(\u001b[0m\u001b[0mget_elem_in_diag\u001b[0m\u001b[0;34m(\u001b[0m\u001b[0mdegreeMat_from_Adj\u001b[0m\u001b[0;34m(\u001b[0m\u001b[0mA\u001b[0m\u001b[0;34m,\u001b[0m\u001b[0;36m2000\u001b[0m\u001b[0;34m)\u001b[0m\u001b[0;34m)\u001b[0m\u001b[0;34m,\u001b[0m\u001b[0;36m2000\u001b[0m\u001b[0;34m)\u001b[0m\u001b[0;34m\u001b[0m\u001b[0;34m\u001b[0m\u001b[0m\n\u001b[0m",
      "\u001b[0;31mNameError\u001b[0m: name 'func' is not defined"
     ]
    }
   ],
   "source": [
    " func(get_elem_in_diag(degreeMat_from_Adj(A,2000)),2000)"
   ]
  },
  {
   "cell_type": "code",
   "execution_count": null,
   "metadata": {},
   "outputs": [],
   "source": []
  }
 ],
 "metadata": {
  "kernelspec": {
   "display_name": "Python 3",
   "language": "python",
   "name": "python3"
  },
  "language_info": {
   "codemirror_mode": {
    "name": "ipython",
    "version": 3
   },
   "file_extension": ".py",
   "mimetype": "text/x-python",
   "name": "python",
   "nbconvert_exporter": "python",
   "pygments_lexer": "ipython3",
   "version": "3.7.4"
  }
 },
 "nbformat": 4,
 "nbformat_minor": 2
}
