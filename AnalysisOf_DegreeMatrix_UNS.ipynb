{
 "cells": [
  {
   "cell_type": "markdown",
   "metadata": {},
   "source": [
    "# Análisis de datos de IM por medio de la matriz de grado"
   ]
  },
  {
   "cell_type": "code",
   "execution_count": 2,
   "metadata": {},
   "outputs": [],
   "source": [
    "import numpy as np\n",
    "import pandas as pd \n",
    "import networkx as nx\n",
    "import math\n",
    "import sympy as sp\n",
    "import matplotlib.pyplot as plt\n",
    "\n",
    "from sympy import *\n",
    "from numpy import linalg as LA\n",
    "from numpy.linalg import matrix_rank"
   ]
  },
  {
   "cell_type": "code",
   "execution_count": null,
   "metadata": {},
   "outputs": [],
   "source": []
  },
  {
   "cell_type": "code",
   "execution_count": null,
   "metadata": {},
   "outputs": [],
   "source": []
  },
  {
   "cell_type": "code",
   "execution_count": 2,
   "metadata": {},
   "outputs": [],
   "source": [
    "from IPython.core.interactiveshell import InteractiveShell\n",
    "InteractiveShell.ast_node_interactivity =\"all\""
   ]
  },
  {
   "cell_type": "code",
   "execution_count": null,
   "metadata": {},
   "outputs": [],
   "source": []
  },
  {
   "cell_type": "code",
   "execution_count": 3,
   "metadata": {},
   "outputs": [
    {
     "name": "stdout",
     "output_type": "stream",
     "text": [
      "File directory:/Users/alex/Desktop/MatrizAdjSano/MatrizAdjSano/adjmatrix_UNS.txt\n"
     ]
    }
   ],
   "source": [
    "#Establecer directorio de datos\n",
    "\n",
    "DIR='/Users/alex/Desktop/MatrizAdjSano/MatrizAdjSano'\n",
    "FILE='/adjmatrix_UNS.txt'\n",
    "\n",
    "file='{}{}'.format(DIR,FILE)\n",
    "\n",
    "print('File directory:{}'.format(file))"
   ]
  },
  {
   "cell_type": "code",
   "execution_count": null,
   "metadata": {},
   "outputs": [],
   "source": []
  },
  {
   "cell_type": "code",
   "execution_count": 4,
   "metadata": {},
   "outputs": [],
   "source": [
    "data=pd.read_table(file)"
   ]
  },
  {
   "cell_type": "code",
   "execution_count": null,
   "metadata": {},
   "outputs": [],
   "source": []
  },
  {
   "cell_type": "code",
   "execution_count": 4,
   "metadata": {},
   "outputs": [
    {
     "data": {
      "text/html": [
       "<div>\n",
       "<style scoped>\n",
       "    .dataframe tbody tr th:only-of-type {\n",
       "        vertical-align: middle;\n",
       "    }\n",
       "\n",
       "    .dataframe tbody tr th {\n",
       "        vertical-align: top;\n",
       "    }\n",
       "\n",
       "    .dataframe thead th {\n",
       "        text-align: right;\n",
       "    }\n",
       "</style>\n",
       "<table border=\"1\" class=\"dataframe\">\n",
       "  <thead>\n",
       "    <tr style=\"text-align: right;\">\n",
       "      <th></th>\n",
       "      <th>ENSG00000000003</th>\n",
       "      <th>ENSG00000000419</th>\n",
       "      <th>ENSG00000000457</th>\n",
       "      <th>ENSG00000000460</th>\n",
       "      <th>ENSG00000000938</th>\n",
       "      <th>ENSG00000001036</th>\n",
       "      <th>ENSG00000001167</th>\n",
       "      <th>ENSG00000001460</th>\n",
       "      <th>ENSG00000001461</th>\n",
       "      <th>ENSG00000001497</th>\n",
       "      <th>...</th>\n",
       "      <th>hsa-mir-941-5</th>\n",
       "      <th>hsa-mir-942</th>\n",
       "      <th>hsa-mir-943</th>\n",
       "      <th>hsa-mir-944</th>\n",
       "      <th>hsa-mir-95</th>\n",
       "      <th>hsa-mir-9500</th>\n",
       "      <th>hsa-mir-96</th>\n",
       "      <th>hsa-mir-98</th>\n",
       "      <th>hsa-mir-99a</th>\n",
       "      <th>hsa-mir-99b</th>\n",
       "    </tr>\n",
       "  </thead>\n",
       "  <tbody>\n",
       "    <tr>\n",
       "      <td>0</td>\n",
       "      <td>1.0</td>\n",
       "      <td>0.103197</td>\n",
       "      <td>0.152306</td>\n",
       "      <td>0.107439</td>\n",
       "      <td>0.151863</td>\n",
       "      <td>0.050207</td>\n",
       "      <td>0.047916</td>\n",
       "      <td>0.152306</td>\n",
       "      <td>0.162813</td>\n",
       "      <td>0.032128</td>\n",
       "      <td>...</td>\n",
       "      <td>0.038779</td>\n",
       "      <td>0.016197</td>\n",
       "      <td>0.052990</td>\n",
       "      <td>0.062391</td>\n",
       "      <td>0.070298</td>\n",
       "      <td>0.038779</td>\n",
       "      <td>0.044215</td>\n",
       "      <td>0.259474</td>\n",
       "      <td>0.151107</td>\n",
       "      <td>0.074188</td>\n",
       "    </tr>\n",
       "    <tr>\n",
       "      <td>1</td>\n",
       "      <td>NaN</td>\n",
       "      <td>1.000000</td>\n",
       "      <td>0.120830</td>\n",
       "      <td>0.128810</td>\n",
       "      <td>0.121863</td>\n",
       "      <td>0.076382</td>\n",
       "      <td>0.064962</td>\n",
       "      <td>0.120830</td>\n",
       "      <td>0.250164</td>\n",
       "      <td>0.102605</td>\n",
       "      <td>...</td>\n",
       "      <td>0.108833</td>\n",
       "      <td>0.124237</td>\n",
       "      <td>0.120423</td>\n",
       "      <td>0.125844</td>\n",
       "      <td>0.020272</td>\n",
       "      <td>0.108833</td>\n",
       "      <td>0.127723</td>\n",
       "      <td>0.069236</td>\n",
       "      <td>0.199134</td>\n",
       "      <td>0.112418</td>\n",
       "    </tr>\n",
       "    <tr>\n",
       "      <td>2</td>\n",
       "      <td>NaN</td>\n",
       "      <td>NaN</td>\n",
       "      <td>1.000000</td>\n",
       "      <td>0.051569</td>\n",
       "      <td>0.107554</td>\n",
       "      <td>0.057486</td>\n",
       "      <td>0.038834</td>\n",
       "      <td>0.334130</td>\n",
       "      <td>0.248721</td>\n",
       "      <td>0.048574</td>\n",
       "      <td>...</td>\n",
       "      <td>0.059112</td>\n",
       "      <td>0.044184</td>\n",
       "      <td>0.051950</td>\n",
       "      <td>0.091854</td>\n",
       "      <td>0.071886</td>\n",
       "      <td>0.059112</td>\n",
       "      <td>0.030633</td>\n",
       "      <td>0.097257</td>\n",
       "      <td>0.045373</td>\n",
       "      <td>0.075525</td>\n",
       "    </tr>\n",
       "    <tr>\n",
       "      <td>3</td>\n",
       "      <td>NaN</td>\n",
       "      <td>NaN</td>\n",
       "      <td>NaN</td>\n",
       "      <td>1.000000</td>\n",
       "      <td>0.032182</td>\n",
       "      <td>0.069682</td>\n",
       "      <td>0.042741</td>\n",
       "      <td>0.051569</td>\n",
       "      <td>0.126349</td>\n",
       "      <td>0.051244</td>\n",
       "      <td>...</td>\n",
       "      <td>0.054916</td>\n",
       "      <td>0.133838</td>\n",
       "      <td>0.062266</td>\n",
       "      <td>0.132682</td>\n",
       "      <td>0.021764</td>\n",
       "      <td>0.054916</td>\n",
       "      <td>0.103477</td>\n",
       "      <td>0.123546</td>\n",
       "      <td>0.184396</td>\n",
       "      <td>0.057522</td>\n",
       "    </tr>\n",
       "    <tr>\n",
       "      <td>4</td>\n",
       "      <td>NaN</td>\n",
       "      <td>NaN</td>\n",
       "      <td>NaN</td>\n",
       "      <td>NaN</td>\n",
       "      <td>1.000000</td>\n",
       "      <td>0.214658</td>\n",
       "      <td>0.029944</td>\n",
       "      <td>0.107554</td>\n",
       "      <td>0.108194</td>\n",
       "      <td>0.094873</td>\n",
       "      <td>...</td>\n",
       "      <td>0.102947</td>\n",
       "      <td>0.156264</td>\n",
       "      <td>0.069491</td>\n",
       "      <td>0.128388</td>\n",
       "      <td>0.018218</td>\n",
       "      <td>0.102947</td>\n",
       "      <td>0.094818</td>\n",
       "      <td>0.178692</td>\n",
       "      <td>0.051804</td>\n",
       "      <td>0.064486</td>\n",
       "    </tr>\n",
       "  </tbody>\n",
       "</table>\n",
       "<p>5 rows × 16748 columns</p>\n",
       "</div>"
      ],
      "text/plain": [
       "   ENSG00000000003  ENSG00000000419  ENSG00000000457  ENSG00000000460  \\\n",
       "0              1.0         0.103197         0.152306         0.107439   \n",
       "1              NaN         1.000000         0.120830         0.128810   \n",
       "2              NaN              NaN         1.000000         0.051569   \n",
       "3              NaN              NaN              NaN         1.000000   \n",
       "4              NaN              NaN              NaN              NaN   \n",
       "\n",
       "   ENSG00000000938  ENSG00000001036  ENSG00000001167  ENSG00000001460  \\\n",
       "0         0.151863         0.050207         0.047916         0.152306   \n",
       "1         0.121863         0.076382         0.064962         0.120830   \n",
       "2         0.107554         0.057486         0.038834         0.334130   \n",
       "3         0.032182         0.069682         0.042741         0.051569   \n",
       "4         1.000000         0.214658         0.029944         0.107554   \n",
       "\n",
       "   ENSG00000001461  ENSG00000001497  ...  hsa-mir-941-5  hsa-mir-942  \\\n",
       "0         0.162813         0.032128  ...       0.038779     0.016197   \n",
       "1         0.250164         0.102605  ...       0.108833     0.124237   \n",
       "2         0.248721         0.048574  ...       0.059112     0.044184   \n",
       "3         0.126349         0.051244  ...       0.054916     0.133838   \n",
       "4         0.108194         0.094873  ...       0.102947     0.156264   \n",
       "\n",
       "   hsa-mir-943  hsa-mir-944  hsa-mir-95  hsa-mir-9500  hsa-mir-96  hsa-mir-98  \\\n",
       "0     0.052990     0.062391    0.070298      0.038779    0.044215    0.259474   \n",
       "1     0.120423     0.125844    0.020272      0.108833    0.127723    0.069236   \n",
       "2     0.051950     0.091854    0.071886      0.059112    0.030633    0.097257   \n",
       "3     0.062266     0.132682    0.021764      0.054916    0.103477    0.123546   \n",
       "4     0.069491     0.128388    0.018218      0.102947    0.094818    0.178692   \n",
       "\n",
       "   hsa-mir-99a  hsa-mir-99b  \n",
       "0     0.151107     0.074188  \n",
       "1     0.199134     0.112418  \n",
       "2     0.045373     0.075525  \n",
       "3     0.184396     0.057522  \n",
       "4     0.051804     0.064486  \n",
       "\n",
       "[5 rows x 16748 columns]"
      ]
     },
     "execution_count": 4,
     "metadata": {},
     "output_type": "execute_result"
    }
   ],
   "source": [
    "data.head()"
   ]
  },
  {
   "cell_type": "code",
   "execution_count": 5,
   "metadata": {},
   "outputs": [],
   "source": [
    "a=np.diag(np.ones(16748),0)\n",
    "A=data-a"
   ]
  },
  {
   "cell_type": "code",
   "execution_count": null,
   "metadata": {},
   "outputs": [],
   "source": [
    " "
   ]
  },
  {
   "cell_type": "code",
   "execution_count": null,
   "metadata": {},
   "outputs": [],
   "source": []
  },
  {
   "cell_type": "code",
   "execution_count": 6,
   "metadata": {},
   "outputs": [],
   "source": [
    "#Este modulo calcula un valor umbral (\"threshold\") que promedia todos los valores de las \n",
    "# entradas de un data set\n",
    "\n",
    "# Función convertir a lista el resultado de aplicar .mean() a un DataFrame\n",
    "\n",
    "def mean_to_list(df):\n",
    "    arr=[]\n",
    "    for i in range(0,len(df)):\n",
    "        a=df.iloc[i]\n",
    "        arr.append(a)\n",
    "    return arr\n",
    "\n",
    "# Función para calcular el promedio de las entradas de una lista \n",
    "\n",
    "def cal_prom_en_list(num):\n",
    "    sum_num=0\n",
    "    for entrada in num:\n",
    "        sum_num=sum_num +entrada\n",
    "        \n",
    "    prom = sum_num/len(num)\n",
    "    return prom\n",
    "\n",
    "# Cálculo del umbral, promediando sobre todas las entradas de la matriz de adyacencia\n",
    "\n",
    "A_prom_cols=A.mean()\n",
    "A_mean_list=mean_to_list(A_prom_cols)\n",
    "cal_prom_en_list(A_mean_list)\n",
    "threshold=cal_prom_en_list(A_mean_list)"
   ]
  },
  {
   "cell_type": "code",
   "execution_count": null,
   "metadata": {},
   "outputs": [],
   "source": []
  },
  {
   "cell_type": "code",
   "execution_count": 7,
   "metadata": {},
   "outputs": [
    {
     "data": {
      "text/plain": [
       "0.08567775225309081"
      ]
     },
     "execution_count": 7,
     "metadata": {},
     "output_type": "execute_result"
    }
   ],
   "source": [
    "threshold"
   ]
  },
  {
   "cell_type": "code",
   "execution_count": null,
   "metadata": {},
   "outputs": [],
   "source": []
  },
  {
   "cell_type": "code",
   "execution_count": null,
   "metadata": {},
   "outputs": [],
   "source": []
  },
  {
   "cell_type": "code",
   "execution_count": 8,
   "metadata": {},
   "outputs": [],
   "source": [
    "#Función para contruir la matriz de grado a partir de la de la matriz de adyacencia\n",
    "\n",
    "def degreeMat_from_Adj(mat,n):\n",
    "    new_data=mat.iloc[:n,:n]\n",
    "    \n",
    "    new_data2=new_data.apply(lambda x:(np.where(x<threshold,0,x)))\n",
    "    adj_mat=new_data2.apply(lambda x:(np.where(x>threshold,1,x)))\n",
    "    \n",
    "    #completar la matriz triangular superior para tener la forma completa de una matriz\n",
    "    # simétrica\n",
    "    \n",
    "    adj_mod=np.matrix(adj_mat.fillna(0))\n",
    "    adj_mod_trans=adj_mod.transpose()\n",
    "    simm_mat=adj_mod+adj_mod_trans    #type(simm_mat)=numpy matrix\n",
    "    \n",
    "    \n",
    "    Adj_to_nx=nx.from_numpy_matrix(simm_mat)\n",
    "    L_from_Adj=nx.laplacian_matrix(Adj_to_nx) #obtener la Laplaciana asociada a la de adyacencia\n",
    "    \n",
    "    L_arr=L_from_Adj.toarray()\n",
    "    \n",
    "    L_np=np.matrix(L_arr)\n",
    "    \n",
    "    deg_Mat=L_np+simm_mat\n",
    "    \n",
    "    return deg_Mat"
   ]
  },
  {
   "cell_type": "code",
   "execution_count": null,
   "metadata": {},
   "outputs": [],
   "source": []
  },
  {
   "cell_type": "code",
   "execution_count": null,
   "metadata": {},
   "outputs": [],
   "source": []
  },
  {
   "cell_type": "code",
   "execution_count": 9,
   "metadata": {},
   "outputs": [],
   "source": [
    "# El siguiente módulo, crea un array con los primeros \"n\" genes que deseen obtener del\n",
    "# Data Frame \"data\"\n",
    "\n",
    "#Parametros: data , n \n",
    "\n",
    "def get_genes(data,n):\n",
    "    \n",
    "    genes_arr = sorted(data) #obtener un array que contiene los elementos del header del DataFrame\n",
    "    num_genes_extracted = range(n)\n",
    "    genes = np.array(genes_arr)[num_genes_extracted]\n",
    "    \n",
    "    return genes"
   ]
  },
  {
   "cell_type": "code",
   "execution_count": null,
   "metadata": {},
   "outputs": [],
   "source": []
  },
  {
   "cell_type": "code",
   "execution_count": null,
   "metadata": {},
   "outputs": [],
   "source": []
  },
  {
   "cell_type": "code",
   "execution_count": 10,
   "metadata": {},
   "outputs": [],
   "source": [
    "#Este script es capaz de dibujar el grafo con sus vértices respectivos etiquetados\n",
    "\n",
    "#Este módulo ha sifo modificado para que sea capaz de etiquetar los nombres de los genes \n",
    "#involucrados\n",
    "\n",
    "def plt_with_label(mat,n):\n",
    "    \n",
    "    new_data=mat.iloc[:n,:n]\n",
    "    \n",
    "    new_data2=new_data.apply(lambda x:(np.where(x<threshold,0,x)))\n",
    "    adj_mat=new_data2.apply(lambda x:(np.where(x>threshold,1,x)))\n",
    "    \n",
    "    #completar la matriz triangular superior para tener la forma completa de una matriz\n",
    "    # simétrica\n",
    "    \n",
    "    adj_mod=np.matrix(adj_mat.fillna(0))\n",
    "    adj_mod_trans=adj_mod.transpose()\n",
    "    simm_mat=adj_mod+adj_mod_trans\n",
    "    adj_to_graph=nx.from_numpy_matrix(simm_mat)\n",
    "    \n",
    "    labelmap=dict(zip(adj_to_graph.nodes(),get_genes(data,n))) # el primer parámetro es \n",
    "    #el grupo de nodos que será manipulado y el segundo todos los nombres o etiquetas que se usaran\n",
    "    \n",
    "    plt.figure(1,figsize=(12,12))\n",
    "    nx.draw(adj_to_graph, labels=labelmap, with_labels=True,\n",
    "    font_size=7,font_weight='bold',font_color='green',edge_color='gray',node_color='blue')\n",
    "    \n",
    "    \n",
    "    \n",
    "    graph_with_lab=plt.show()\n",
    "    \n",
    "    return graph_with_lab"
   ]
  },
  {
   "cell_type": "code",
   "execution_count": null,
   "metadata": {},
   "outputs": [],
   "source": []
  },
  {
   "cell_type": "code",
   "execution_count": null,
   "metadata": {},
   "outputs": [],
   "source": []
  },
  {
   "cell_type": "code",
   "execution_count": 12,
   "metadata": {},
   "outputs": [
    {
     "data": {
      "image/png": "[encoded data removed]",
      "text/plain": [
       "<Figure size 864x864 with 1 Axes>"
      ]
     },
     "metadata": {},
     "output_type": "display_data"
    }
   ],
   "source": [
    "plt_with_label(A,10)"
   ]
  },
  {
   "cell_type": "code",
   "execution_count": 13,
   "metadata": {},
   "outputs": [],
   "source": [
    "Mat_p=degreeMat_from_Adj(A,4)"
   ]
  },
  {
   "cell_type": "code",
   "execution_count": null,
   "metadata": {},
   "outputs": [],
   "source": []
  },
  {
   "cell_type": "code",
   "execution_count": 11,
   "metadata": {},
   "outputs": [],
   "source": [
    "#La siguiente función sirve para obtener los elementos de la diagonal de la matriz de\n",
    "# grado y la guarda en un array llamado out_p\n",
    "\n",
    "\n",
    "def get_elem_in_diag(Mat):\n",
    "    Mat_mod = np.squeeze(np.asarray(Mat))#convierte numpy matrix en array\n",
    "    out_p=[]\n",
    "    for elem in np.nditer(Mat_mod): #nditer itera sobre arrays\n",
    "        if elem != 0: # omite los valores 0 en el array pues la matriz de grado fuera de la diagonal tiene solo ceros\n",
    "            out_p.append(int(elem))\n",
    "            \n",
    "    return out_p \n",
    "    "
   ]
  },
  {
   "cell_type": "code",
   "execution_count": null,
   "metadata": {},
   "outputs": [],
   "source": []
  },
  {
   "cell_type": "code",
   "execution_count": 12,
   "metadata": {},
   "outputs": [],
   "source": [
    "#Función para obtener el número mayor de una lista de números dentro de un array\n",
    "\n",
    "# El parámetro debe tener el mismo número que la dimensión de la matriz \n",
    "# de grado que se está analizando\n",
    "\n",
    "#def get_biggest_num_in_diag(l,n):\n",
    "#    count=0\n",
    "#    for i in range(n):\n",
    "#        for j in range(n):\n",
    "#            if l[j]>l[i]:\n",
    "#                count=l[j]\n",
    "#    return count   \n",
    "\n",
    "# En la siguiente función el parámetro \"a\" es un array que contiene los elementos de \n",
    "# la diagonal de la matriz de grado y \"N\" es el número de elementos que se tomará para\n",
    "# ordenarlos de mayor a menor.\n",
    "\n",
    "# El output indica la posición de la entrada y no su valor, pues con ello podremos \n",
    "# identificar cuál es el gen que tiene más aristas incidentes dentro de él \n",
    "\n",
    "def func(a,N):\n",
    "    return np.argsort(a)[::-1][:N]"
   ]
  },
  {
   "cell_type": "code",
   "execution_count": null,
   "metadata": {},
   "outputs": [],
   "source": []
  },
  {
   "cell_type": "code",
   "execution_count": null,
   "metadata": {},
   "outputs": [],
   "source": []
  },
  {
   "cell_type": "code",
   "execution_count": 13,
   "metadata": {},
   "outputs": [
    {
     "data": {
      "text/plain": [
       "array([77, 12, 32, 91, 73, 93, 83, 44, 65, 43, 51, 34, 54,  0, 19, 60, 39,\n",
       "       29,  8, 55,  1, 13, 48, 57, 78, 75, 74, 49, 76, 90,  3, 89, 45, 37,\n",
       "       70, 26, 62, 33, 98, 20, 63, 92, 85, 96, 82,  6, 24, 22, 40, 88, 23,\n",
       "       17, 68, 47, 61, 35, 42,  5, 79,  7, 64,  2, 87, 14, 71, 72, 59, 50,\n",
       "       80, 84, 97, 95, 94, 99, 16, 41, 58, 11, 15, 56, 31, 46, 25, 21, 53,\n",
       "       10, 30, 52, 66,  9,  4, 69, 81, 18, 28, 67, 36, 38, 27, 86])"
      ]
     },
     "execution_count": 13,
     "metadata": {},
     "output_type": "execute_result"
    }
   ],
   "source": [
    "func(get_elem_in_diag(degreeMat_from_Adj(A,100)),100)"
   ]
  },
  {
   "cell_type": "code",
   "execution_count": null,
   "metadata": {},
   "outputs": [],
   "source": []
  },
  {
   "cell_type": "code",
   "execution_count": 1,
   "metadata": {},
   "outputs": [
    {
     "ename": "NameError",
     "evalue": "name 'func' is not defined",
     "output_type": "error",
     "traceback": [
      "\u001b[0;31m---------------------------------------------------------------------------\u001b[0m",
      "\u001b[0;31mNameError\u001b[0m                                 Traceback (most recent call last)",
      "\u001b[0;32m<ipython-input-1-ecad09800041>\u001b[0m in \u001b[0;36m<module>\u001b[0;34m\u001b[0m\n\u001b[0;32m----> 1\u001b[0;31m \u001b[0mfunc\u001b[0m\u001b[0;34m(\u001b[0m\u001b[0mget_elem_in_diag\u001b[0m\u001b[0;34m(\u001b[0m\u001b[0mdegreeMat_from_Adj\u001b[0m\u001b[0;34m(\u001b[0m\u001b[0mA\u001b[0m\u001b[0;34m,\u001b[0m\u001b[0;36m100\u001b[0m\u001b[0;34m)\u001b[0m\u001b[0;34m)\u001b[0m\u001b[0;34m,\u001b[0m\u001b[0;36m100\u001b[0m\u001b[0;34m)\u001b[0m\u001b[0;34m\u001b[0m\u001b[0;34m\u001b[0m\u001b[0m\n\u001b[0m",
      "\u001b[0;31mNameError\u001b[0m: name 'func' is not defined"
     ]
    }
   ],
   "source": [
    "func(get_elem_in_diag(degreeMat_from_Adj(A,100)),100)"
   ]
  },
  {
   "cell_type": "code",
   "execution_count": null,
   "metadata": {},
   "outputs": [],
   "source": []
  },
  {
   "cell_type": "code",
   "execution_count": 19,
   "metadata": {},
   "outputs": [
    {
     "data": {
      "text/plain": [
       "array([237, 658, 296, 213, 436, 244, 861,  77, 592, 486,  32, 327,  54,\n",
       "       992, 488, 226, 332, 940, 565, 811, 834, 690, 386, 764, 927, 380,\n",
       "        29, 275, 991, 554, 773, 576,  65, 841,  73,  93, 314, 892, 106,\n",
       "       638, 193, 657, 602, 953, 379, 758, 640, 852, 771, 667, 518,  83,\n",
       "       648, 663, 438, 382, 702, 603, 331, 637, 541,  43, 713, 598, 417,\n",
       "       888, 166, 616, 631, 754, 340, 957, 682, 604, 933, 320,  55, 875,\n",
       "       641, 783, 140, 472, 476, 183,  51, 555, 463, 714, 934,  57, 240,\n",
       "        12,  91, 390, 542, 924, 722,  78, 843, 551, 155, 274, 882, 620,\n",
       "       232,  44, 575,  75, 650, 801, 952,   3, 440, 660, 187, 747,  34,\n",
       "       571, 424, 805, 972, 480, 378, 334, 453, 617, 880, 391, 268, 685,\n",
       "       757, 820, 315, 652, 504, 157, 399, 583, 439, 701, 949, 257, 124,\n",
       "       530, 225, 905, 946, 404, 283, 717, 694, 136, 794, 113, 550, 238,\n",
       "       267, 169, 826, 768, 732, 184, 168, 958, 128, 185, 153, 422, 836,\n",
       "       644, 403, 363, 284, 192, 673, 503, 569, 980, 566, 922, 608, 538,\n",
       "       879, 203, 762, 636, 860, 249, 376, 448, 920,  39, 779, 482, 832,\n",
       "       691, 983, 545, 388, 818, 123, 536,  26, 142, 335, 848, 494, 626,\n",
       "       749, 862, 937, 831, 712, 177, 787, 164, 152, 786,  13,   8, 273,\n",
       "       639, 967, 228, 793, 821, 812, 670, 534, 526, 915,   1, 804, 816,\n",
       "       997, 171, 389, 186, 405, 993,  19, 984, 126, 607, 167, 642, 828,\n",
       "       665, 863, 109, 735, 433, 299, 711, 450,  45, 923, 197, 354, 865,\n",
       "       678,  90, 511, 191,  76, 305, 750, 889, 400, 705, 466, 110, 360,\n",
       "       426, 791, 154, 204, 377, 209, 829,  62, 557, 830, 698,  92, 318,\n",
       "       740, 728, 553,  63, 416, 258, 745, 580, 176, 936,   0, 734, 262,\n",
       "       108, 104, 914,  89, 733, 206, 729, 655, 769, 394, 460, 697, 421,\n",
       "       263, 260, 630, 309,  98, 582, 611, 731, 393, 447, 726, 248, 877,\n",
       "       219, 912, 917,  48,  85, 281, 107, 218, 872, 398, 605, 529, 837,\n",
       "        60, 760, 535, 840, 252, 146, 454, 118, 441, 462, 509, 200, 896,\n",
       "       704, 114, 614, 151, 347, 971, 746, 825, 138, 444, 710, 429, 307,\n",
       "       748, 100,  22, 364, 410, 799, 753, 759, 458, 343, 406, 600, 929,\n",
       "       208, 292, 326, 679, 222, 195, 385, 950, 739, 741, 224, 141, 527,\n",
       "       302,  37, 591, 539, 158, 961, 235, 163, 844, 963, 210, 574, 329,\n",
       "       609, 180, 409, 659, 765, 490, 412, 489, 478, 243, 312, 634, 174,\n",
       "       767, 775, 505, 671, 833, 901, 531, 752, 285,  71,   5, 103, 468,\n",
       "       847, 321, 190,  24, 101, 736, 214, 982, 585, 622, 664, 737, 646,\n",
       "       724, 981, 647, 265, 451, 324,  94, 383, 683, 751, 116, 358, 921,\n",
       "       781, 373, 121, 964, 632, 874, 132,  88, 792, 845, 654, 677,  47,\n",
       "       231, 628, 242, 162, 853, 956, 499,  74, 485, 703, 471, 822, 239,\n",
       "       519, 254, 401, 328, 948, 926, 577, 435, 755, 593, 723, 430, 911,\n",
       "       221, 618, 969, 533, 392,  33, 965, 868, 105, 150, 464, 573, 947,\n",
       "       230, 871, 198, 668, 229, 866, 858, 939, 599, 528, 211, 935, 266,\n",
       "       408, 558, 289, 587, 556, 977, 278, 807, 189, 891, 908, 941, 431,\n",
       "       615, 286, 932,  23, 102, 135,  82, 842,  70, 483, 313, 234, 129,\n",
       "       311, 601, 521,  35, 201, 215, 500, 159, 649, 115, 613, 784, 588,\n",
       "       418, 715, 194,  72, 428,  96, 367,   7,  87, 420, 806,   2, 827,\n",
       "       959, 131, 994, 179, 813,  49, 610, 532, 282, 506, 873, 581, 449,\n",
       "       563, 291, 796, 144, 790, 902, 161, 962,  20, 803, 501, 692, 387,\n",
       "       402, 708, 236, 857, 547, 635, 988, 968, 525, 559, 974, 985, 898,\n",
       "       706, 537, 597, 562, 881, 319, 814, 899, 271, 290, 143, 160, 989,\n",
       "        41, 943, 277, 241,  59, 549, 147, 619, 303, 423, 954, 137, 916,\n",
       "       835, 944, 246, 467, 456, 469, 182,  68, 567, 727, 342, 738, 250,\n",
       "       287, 623,  64, 270,  17, 854, 867, 298, 446, 884, 515, 352, 130,\n",
       "       259, 970, 369, 596, 371,   6,  10, 134, 217, 560,  58, 374, 344,\n",
       "       572,  95, 465, 253, 716, 960, 341, 337,  30, 338, 493, 543, 297,\n",
       "        46, 809, 979, 370, 589, 117,  84, 288,  11, 172, 594, 919,  97,\n",
       "       859, 978, 570, 353, 300,  40, 996, 361, 986,  61, 578, 120, 368,\n",
       "        42, 175, 251, 643, 495, 479, 883, 491, 780,  15,  14, 788, 973,\n",
       "       357, 452, 362, 457, 795, 502, 909, 306, 233, 323, 139, 895, 742,\n",
       "       612, 849, 165,   4, 149, 625, 772, 216, 925, 413,  50, 766, 966,\n",
       "       207, 910, 942, 770, 903,  56,  79, 990, 633, 196, 349, 579, 756,\n",
       "       524, 810, 346, 561, 247, 514, 513,  25, 931, 212, 272, 823,  31,\n",
       "       839, 279, 838, 774, 951, 999, 695, 325, 720,  80, 202, 721,  66,\n",
       "       627, 869, 316, 119, 624, 372, 477,  81, 330, 133, 333, 675, 995,\n",
       "       445, 645, 339, 800, 276, 897, 913, 351, 223, 653, 876,  36,  67,\n",
       "         9, 546, 304, 666, 819, 437, 381, 629, 718, 407, 497, 473, 684,\n",
       "        99, 798, 595, 255, 205, 256, 148, 815, 336, 419, 907, 651, 293,\n",
       "       145, 656, 455,  86, 415, 427, 512, 517, 345, 484, 987, 548, 348,\n",
       "       432, 365, 227, 900, 998,  21, 395,  16, 661, 442, 523, 945, 606,\n",
       "       280, 181, 111, 411, 687, 544, 122, 699, 384,  53,  52, 112, 906,\n",
       "       481, 709, 498, 802, 938, 808, 904, 459, 475, 681, 586, 700, 693,\n",
       "       846, 507, 540, 584, 662, 856, 707, 689, 785,  69, 245, 396, 928,\n",
       "       356, 730, 510, 295, 686, 156, 761, 474, 322, 366, 789, 496, 470,\n",
       "       520, 552, 918, 173, 782, 855, 696, 688, 269,  18, 492, 359, 930,\n",
       "       522, 777, 885, 397, 890, 301, 864, 976, 674,  28, 743, 778, 851,\n",
       "       568, 719, 308, 725, 516, 487, 886, 878, 188, 261, 894, 199, 824,\n",
       "       621, 564, 669, 850, 887, 776, 461, 975, 763,  38, 870, 425, 676,\n",
       "       590, 680, 443, 375, 127, 170, 178, 264, 310, 797,  27, 317, 414,\n",
       "       125, 355, 744, 220, 893, 434, 294, 817, 955, 350, 508, 672])"
      ]
     },
     "execution_count": 19,
     "metadata": {},
     "output_type": "execute_result"
    }
   ],
   "source": [
    "func(get_elem_in_diag(degreeMat_from_Adj(A,1000)),1000)"
   ]
  },
  {
   "cell_type": "code",
   "execution_count": 20,
   "metadata": {},
   "outputs": [
    {
     "data": {
      "text/plain": [
       "array([1222,  658,  237, ...,  672, 1724, 1797])"
      ]
     },
     "execution_count": 20,
     "metadata": {},
     "output_type": "execute_result"
    }
   ],
   "source": [
    "func(get_elem_in_diag(degreeMat_from_Adj(A,2000)),2000)"
   ]
  },
  {
   "cell_type": "code",
   "execution_count": 21,
   "metadata": {},
   "outputs": [
    {
     "data": {
      "text/plain": [
       "array([1222,  658,  237, ...,  672, 1724, 1797])"
      ]
     },
     "execution_count": 21,
     "metadata": {},
     "output_type": "execute_result"
    }
   ],
   "source": [
    "func(get_elem_in_diag(degreeMat_from_Adj(A,3000)),3000)"
   ]
  },
  {
   "cell_type": "code",
   "execution_count": 22,
   "metadata": {},
   "outputs": [
    {
     "data": {
      "text/plain": [
       "array([1222, 3696, 3103, ..., 3952, 1724, 1797])"
      ]
     },
     "execution_count": 22,
     "metadata": {},
     "output_type": "execute_result"
    }
   ],
   "source": [
    "func(get_elem_in_diag(degreeMat_from_Adj(A,4000)),4000)"
   ]
  },
  {
   "cell_type": "code",
   "execution_count": 23,
   "metadata": {},
   "outputs": [
    {
     "data": {
      "text/plain": [
       "array([1222, 3696, 3103, ..., 2740, 1724, 1797])"
      ]
     },
     "execution_count": 23,
     "metadata": {},
     "output_type": "execute_result"
    }
   ],
   "source": [
    "func(get_elem_in_diag(degreeMat_from_Adj(A,5000)),5000)"
   ]
  },
  {
   "cell_type": "code",
   "execution_count": 24,
   "metadata": {},
   "outputs": [
    {
     "data": {
      "text/plain": [
       "array([5341, 1222, 3696, ..., 1724, 5105, 1797])"
      ]
     },
     "execution_count": 24,
     "metadata": {},
     "output_type": "execute_result"
    }
   ],
   "source": [
    "func(get_elem_in_diag(degreeMat_from_Adj(A,6000)),6000)"
   ]
  },
  {
   "cell_type": "code",
   "execution_count": 25,
   "metadata": {},
   "outputs": [
    {
     "data": {
      "text/plain": [
       "array([6344, 5341, 1222, ..., 1724, 5105, 1797])"
      ]
     },
     "execution_count": 25,
     "metadata": {},
     "output_type": "execute_result"
    }
   ],
   "source": [
    "func(get_elem_in_diag(degreeMat_from_Adj(A,7000)),7000)"
   ]
  },
  {
   "cell_type": "code",
   "execution_count": null,
   "metadata": {},
   "outputs": [],
   "source": []
  },
  {
   "cell_type": "code",
   "execution_count": 17,
   "metadata": {},
   "outputs": [
    {
     "data": {
      "text/plain": [
       "array([6344, 5341, 1222, ..., 5105, 7188, 1797])"
      ]
     },
     "execution_count": 17,
     "metadata": {},
     "output_type": "execute_result"
    }
   ],
   "source": [
    "func(get_elem_in_diag(degreeMat_from_Adj(A,8000)),8000)"
   ]
  },
  {
   "cell_type": "code",
   "execution_count": 26,
   "metadata": {},
   "outputs": [
    {
     "data": {
      "text/plain": [
       "array([6344, 5341, 1222, ..., 7188, 1797, 5105])"
      ]
     },
     "execution_count": 26,
     "metadata": {},
     "output_type": "execute_result"
    }
   ],
   "source": [
    "func(get_elem_in_diag(degreeMat_from_Adj(A,9000)),9000)"
   ]
  },
  {
   "cell_type": "code",
   "execution_count": 27,
   "metadata": {},
   "outputs": [
    {
     "data": {
      "text/plain": [
       "array([8, 4, 1, 0, 7, 2, 5, 3, 9, 6])"
      ]
     },
     "execution_count": 27,
     "metadata": {},
     "output_type": "execute_result"
    }
   ],
   "source": [
    "func(get_elem_in_diag(degreeMat_from_Adj(A,10)),10)"
   ]
  },
  {
   "cell_type": "code",
   "execution_count": 14,
   "metadata": {},
   "outputs": [
    {
     "data": {
      "text/plain": [
       "array([6344, 9242, 5341, ..., 8668, 5105, 1797])"
      ]
     },
     "execution_count": 14,
     "metadata": {},
     "output_type": "execute_result"
    }
   ],
   "source": [
    "func(get_elem_in_diag(degreeMat_from_Adj(A,10000)),10000)"
   ]
  },
  {
   "cell_type": "code",
   "execution_count": null,
   "metadata": {},
   "outputs": [],
   "source": []
  },
  {
   "cell_type": "code",
   "execution_count": null,
   "metadata": {},
   "outputs": [],
   "source": [
    "# La siguiente función ayuda a encontrar qué genes corresponden \n",
    "# a la posición proporcionada por la función  \"func\""
   ]
  },
  {
   "cell_type": "code",
   "execution_count": 28,
   "metadata": {},
   "outputs": [],
   "source": [
    "def get_genes(data,n):\n",
    "    \n",
    "    genes_arr = sorted(data) #obtener un array que contiene los elementos del header del DataFrame\n",
    "    num_genes_extracted = range(n)\n",
    "    genes = np.array(genes_arr)[num_genes_extracted]\n",
    "    \n",
    "    return genes"
   ]
  },
  {
   "cell_type": "code",
   "execution_count": 31,
   "metadata": {},
   "outputs": [
    {
     "data": {
      "text/plain": [
       "array(['ENSG00000000003', 'ENSG00000000419', 'ENSG00000000457', ...,\n",
       "       'hsa-mir-98', 'hsa-mir-99a', 'hsa-mir-99b'], dtype='<U15')"
      ]
     },
     "execution_count": 31,
     "metadata": {},
     "output_type": "execute_result"
    }
   ],
   "source": [
    "get_genes(data,16748) # nos proporciona un array con los nombres de los 16748 genes \n",
    "# de la matriz de adyacencia"
   ]
  },
  {
   "cell_type": "code",
   "execution_count": null,
   "metadata": {},
   "outputs": [],
   "source": [
    "# Así al usar la función \"func\", encontrando la posición de aquellos\n",
    "# vértices que tienen una mayor cantidad de aristas incidentes dentro de la red \n",
    "# vía la matriz de grado ahora, basta con usar get_genes la posición asociada al gen \n",
    "# con más cantidad de bordes incidentes en él e identificarlo:"
   ]
  },
  {
   "cell_type": "code",
   "execution_count": 35,
   "metadata": {},
   "outputs": [],
   "source": [
    "# Por ejemplo para el cálculo hecho con \n",
    "# \"func(get_elem_in_diag(degreeMat_from_Adj(A,9000)),9000)\" se encontró que los 3 genes con \n",
    "# mayor cantidad de aristas incidentes son 6344, 5341, 1222, así que bastará con calcular"
   ]
  },
  {
   "cell_type": "code",
   "execution_count": 36,
   "metadata": {},
   "outputs": [
    {
     "data": {
      "text/plain": [
       "'ENSG00000137807'"
      ]
     },
     "execution_count": 36,
     "metadata": {},
     "output_type": "execute_result"
    }
   ],
   "source": [
    "get_genes(data,16748)[6344]"
   ]
  },
  {
   "cell_type": "code",
   "execution_count": 37,
   "metadata": {},
   "outputs": [
    {
     "data": {
      "text/plain": [
       "'ENSG00000130635'"
      ]
     },
     "execution_count": 37,
     "metadata": {},
     "output_type": "execute_result"
    }
   ],
   "source": [
    "get_genes(data,16748)[5341]"
   ]
  },
  {
   "cell_type": "code",
   "execution_count": 38,
   "metadata": {},
   "outputs": [
    {
     "data": {
      "text/plain": [
       "'ENSG00000077721'"
      ]
     },
     "execution_count": 38,
     "metadata": {},
     "output_type": "execute_result"
    }
   ],
   "source": [
    "get_genes(data,16748)[1222]"
   ]
  }
 ],
 "metadata": {
  "kernelspec": {
   "display_name": "Python 3",
   "language": "python",
   "name": "python3"
  },
  "language_info": {
   "codemirror_mode": {
    "name": "ipython",
    "version": 3
   },
   "file_extension": ".py",
   "mimetype": "text/x-python",
   "name": "python",
   "nbconvert_exporter": "python",
   "pygments_lexer": "ipython3",
   "version": "3.7.4"
  }
 },
 "nbformat": 4,
 "nbformat_minor": 2
}
