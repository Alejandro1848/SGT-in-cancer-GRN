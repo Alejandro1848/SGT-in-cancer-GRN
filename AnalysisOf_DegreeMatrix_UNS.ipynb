{
 "cells": [
  {
   "cell_type": "markdown",
   "metadata": {},
   "source": [
    "# Análisis de datos de IM por medio de la matriz de grado"
   ]
  },
  {
   "cell_type": "code",
   "execution_count": 1,
   "metadata": {},
   "outputs": [],
   "source": [
    "import numpy as np\n",
    "import pandas as pd \n",
    "import networkx as nx\n",
    "import math\n",
    "import sympy as sp\n",
    "import matplotlib.pyplot as plt\n",
    "\n",
    "from sympy import *\n",
    "from numpy import linalg as LA\n",
    "from numpy.linalg import matrix_rank"
   ]
  },
  {
   "cell_type": "code",
   "execution_count": 2,
   "metadata": {},
   "outputs": [],
   "source": [
    "from IPython.core.interactiveshell import InteractiveShell\n",
    "InteractiveShell.ast_node_interactivity =\"all\""
   ]
  },
  {
   "cell_type": "code",
   "execution_count": null,
   "metadata": {},
   "outputs": [],
   "source": []
  },
  {
   "cell_type": "code",
   "execution_count": 3,
   "metadata": {},
   "outputs": [
    {
     "name": "stdout",
     "output_type": "stream",
     "text": [
      "File directory:/Users/alex/Desktop/MatrizAdjSano/MatrizAdjSano/adjmatrix_UNS.txt\n"
     ]
    }
   ],
   "source": [
    "#Establecer directorio de datos\n",
    "\n",
    "DIR='/Users/alex/Desktop/MatrizAdjSano/MatrizAdjSano'\n",
    "FILE='/adjmatrix_UNS.txt'\n",
    "\n",
    "file='{}{}'.format(DIR,FILE)\n",
    "\n",
    "print('File directory:{}'.format(file))"
   ]
  },
  {
   "cell_type": "code",
   "execution_count": null,
   "metadata": {},
   "outputs": [],
   "source": [
    "data=pd.read_table(file)"
   ]
  },
  {
   "cell_type": "code",
   "execution_count": null,
   "metadata": {},
   "outputs": [],
   "source": []
  },
  {
   "cell_type": "code",
   "execution_count": null,
   "metadata": {},
   "outputs": [],
   "source": []
  },
  {
   "cell_type": "code",
   "execution_count": 6,
   "metadata": {},
   "outputs": [
    {
     "data": {
      "text/html": [
       "<div>\n",
       "<style scoped>\n",
       "    .dataframe tbody tr th:only-of-type {\n",
       "        vertical-align: middle;\n",
       "    }\n",
       "\n",
       "    .dataframe tbody tr th {\n",
       "        vertical-align: top;\n",
       "    }\n",
       "\n",
       "    .dataframe thead th {\n",
       "        text-align: right;\n",
       "    }\n",
       "</style>\n",
       "<table border=\"1\" class=\"dataframe\">\n",
       "  <thead>\n",
       "    <tr style=\"text-align: right;\">\n",
       "      <th></th>\n",
       "      <th>ENSG00000000003</th>\n",
       "      <th>ENSG00000000419</th>\n",
       "      <th>ENSG00000000457</th>\n",
       "      <th>ENSG00000000460</th>\n",
       "      <th>ENSG00000000938</th>\n",
       "      <th>ENSG00000001036</th>\n",
       "      <th>ENSG00000001167</th>\n",
       "      <th>ENSG00000001460</th>\n",
       "      <th>ENSG00000001461</th>\n",
       "      <th>ENSG00000001497</th>\n",
       "      <th>...</th>\n",
       "      <th>hsa-mir-941-5</th>\n",
       "      <th>hsa-mir-942</th>\n",
       "      <th>hsa-mir-943</th>\n",
       "      <th>hsa-mir-944</th>\n",
       "      <th>hsa-mir-95</th>\n",
       "      <th>hsa-mir-9500</th>\n",
       "      <th>hsa-mir-96</th>\n",
       "      <th>hsa-mir-98</th>\n",
       "      <th>hsa-mir-99a</th>\n",
       "      <th>hsa-mir-99b</th>\n",
       "    </tr>\n",
       "  </thead>\n",
       "  <tbody>\n",
       "    <tr>\n",
       "      <td>0</td>\n",
       "      <td>1.0</td>\n",
       "      <td>0.103197</td>\n",
       "      <td>0.152306</td>\n",
       "      <td>0.107439</td>\n",
       "      <td>0.151863</td>\n",
       "      <td>0.050207</td>\n",
       "      <td>0.047916</td>\n",
       "      <td>0.152306</td>\n",
       "      <td>0.162813</td>\n",
       "      <td>0.032128</td>\n",
       "      <td>...</td>\n",
       "      <td>0.038779</td>\n",
       "      <td>0.016197</td>\n",
       "      <td>0.052990</td>\n",
       "      <td>0.062391</td>\n",
       "      <td>0.070298</td>\n",
       "      <td>0.038779</td>\n",
       "      <td>0.044215</td>\n",
       "      <td>0.259474</td>\n",
       "      <td>0.151107</td>\n",
       "      <td>0.074188</td>\n",
       "    </tr>\n",
       "    <tr>\n",
       "      <td>1</td>\n",
       "      <td>NaN</td>\n",
       "      <td>1.000000</td>\n",
       "      <td>0.120830</td>\n",
       "      <td>0.128810</td>\n",
       "      <td>0.121863</td>\n",
       "      <td>0.076382</td>\n",
       "      <td>0.064962</td>\n",
       "      <td>0.120830</td>\n",
       "      <td>0.250164</td>\n",
       "      <td>0.102605</td>\n",
       "      <td>...</td>\n",
       "      <td>0.108833</td>\n",
       "      <td>0.124237</td>\n",
       "      <td>0.120423</td>\n",
       "      <td>0.125844</td>\n",
       "      <td>0.020272</td>\n",
       "      <td>0.108833</td>\n",
       "      <td>0.127723</td>\n",
       "      <td>0.069236</td>\n",
       "      <td>0.199134</td>\n",
       "      <td>0.112418</td>\n",
       "    </tr>\n",
       "    <tr>\n",
       "      <td>2</td>\n",
       "      <td>NaN</td>\n",
       "      <td>NaN</td>\n",
       "      <td>1.000000</td>\n",
       "      <td>0.051569</td>\n",
       "      <td>0.107554</td>\n",
       "      <td>0.057486</td>\n",
       "      <td>0.038834</td>\n",
       "      <td>0.334130</td>\n",
       "      <td>0.248721</td>\n",
       "      <td>0.048574</td>\n",
       "      <td>...</td>\n",
       "      <td>0.059112</td>\n",
       "      <td>0.044184</td>\n",
       "      <td>0.051950</td>\n",
       "      <td>0.091854</td>\n",
       "      <td>0.071886</td>\n",
       "      <td>0.059112</td>\n",
       "      <td>0.030633</td>\n",
       "      <td>0.097257</td>\n",
       "      <td>0.045373</td>\n",
       "      <td>0.075525</td>\n",
       "    </tr>\n",
       "    <tr>\n",
       "      <td>3</td>\n",
       "      <td>NaN</td>\n",
       "      <td>NaN</td>\n",
       "      <td>NaN</td>\n",
       "      <td>1.000000</td>\n",
       "      <td>0.032182</td>\n",
       "      <td>0.069682</td>\n",
       "      <td>0.042741</td>\n",
       "      <td>0.051569</td>\n",
       "      <td>0.126349</td>\n",
       "      <td>0.051244</td>\n",
       "      <td>...</td>\n",
       "      <td>0.054916</td>\n",
       "      <td>0.133838</td>\n",
       "      <td>0.062266</td>\n",
       "      <td>0.132682</td>\n",
       "      <td>0.021764</td>\n",
       "      <td>0.054916</td>\n",
       "      <td>0.103477</td>\n",
       "      <td>0.123546</td>\n",
       "      <td>0.184396</td>\n",
       "      <td>0.057522</td>\n",
       "    </tr>\n",
       "    <tr>\n",
       "      <td>4</td>\n",
       "      <td>NaN</td>\n",
       "      <td>NaN</td>\n",
       "      <td>NaN</td>\n",
       "      <td>NaN</td>\n",
       "      <td>1.000000</td>\n",
       "      <td>0.214658</td>\n",
       "      <td>0.029944</td>\n",
       "      <td>0.107554</td>\n",
       "      <td>0.108194</td>\n",
       "      <td>0.094873</td>\n",
       "      <td>...</td>\n",
       "      <td>0.102947</td>\n",
       "      <td>0.156264</td>\n",
       "      <td>0.069491</td>\n",
       "      <td>0.128388</td>\n",
       "      <td>0.018218</td>\n",
       "      <td>0.102947</td>\n",
       "      <td>0.094818</td>\n",
       "      <td>0.178692</td>\n",
       "      <td>0.051804</td>\n",
       "      <td>0.064486</td>\n",
       "    </tr>\n",
       "  </tbody>\n",
       "</table>\n",
       "<p>5 rows × 16748 columns</p>\n",
       "</div>"
      ],
      "text/plain": [
       "   ENSG00000000003  ENSG00000000419  ENSG00000000457  ENSG00000000460  \\\n",
       "0              1.0         0.103197         0.152306         0.107439   \n",
       "1              NaN         1.000000         0.120830         0.128810   \n",
       "2              NaN              NaN         1.000000         0.051569   \n",
       "3              NaN              NaN              NaN         1.000000   \n",
       "4              NaN              NaN              NaN              NaN   \n",
       "\n",
       "   ENSG00000000938  ENSG00000001036  ENSG00000001167  ENSG00000001460  \\\n",
       "0         0.151863         0.050207         0.047916         0.152306   \n",
       "1         0.121863         0.076382         0.064962         0.120830   \n",
       "2         0.107554         0.057486         0.038834         0.334130   \n",
       "3         0.032182         0.069682         0.042741         0.051569   \n",
       "4         1.000000         0.214658         0.029944         0.107554   \n",
       "\n",
       "   ENSG00000001461  ENSG00000001497  ...  hsa-mir-941-5  hsa-mir-942  \\\n",
       "0         0.162813         0.032128  ...       0.038779     0.016197   \n",
       "1         0.250164         0.102605  ...       0.108833     0.124237   \n",
       "2         0.248721         0.048574  ...       0.059112     0.044184   \n",
       "3         0.126349         0.051244  ...       0.054916     0.133838   \n",
       "4         0.108194         0.094873  ...       0.102947     0.156264   \n",
       "\n",
       "   hsa-mir-943  hsa-mir-944  hsa-mir-95  hsa-mir-9500  hsa-mir-96  hsa-mir-98  \\\n",
       "0     0.052990     0.062391    0.070298      0.038779    0.044215    0.259474   \n",
       "1     0.120423     0.125844    0.020272      0.108833    0.127723    0.069236   \n",
       "2     0.051950     0.091854    0.071886      0.059112    0.030633    0.097257   \n",
       "3     0.062266     0.132682    0.021764      0.054916    0.103477    0.123546   \n",
       "4     0.069491     0.128388    0.018218      0.102947    0.094818    0.178692   \n",
       "\n",
       "   hsa-mir-99a  hsa-mir-99b  \n",
       "0     0.151107     0.074188  \n",
       "1     0.199134     0.112418  \n",
       "2     0.045373     0.075525  \n",
       "3     0.184396     0.057522  \n",
       "4     0.051804     0.064486  \n",
       "\n",
       "[5 rows x 16748 columns]"
      ]
     },
     "execution_count": 6,
     "metadata": {},
     "output_type": "execute_result"
    }
   ],
   "source": [
    "data.head()"
   ]
  },
  {
   "cell_type": "code",
   "execution_count": 7,
   "metadata": {},
   "outputs": [],
   "source": [
    "a=np.diag(np.ones(16748),0)\n",
    "A=data-a"
   ]
  },
  {
   "cell_type": "code",
   "execution_count": 8,
   "metadata": {},
   "outputs": [
    {
     "data": {
      "text/plain": [
       "0.08567775225309081"
      ]
     },
     "execution_count": 8,
     "metadata": {},
     "output_type": "execute_result"
    }
   ],
   "source": [
    "#Este modulo calcula un valor umbral (\"threshold\") que promedia todos los valores de las \n",
    "# entradas de un data set\n",
    "\n",
    "# Función convertir a lista el resultado de aplicar .mean() a un DataFrame\n",
    "\n",
    "def mean_to_list(df):\n",
    "    arr=[]\n",
    "    for i in range(0,len(df)):\n",
    "        a=df.iloc[i]\n",
    "        arr.append(a)\n",
    "    return arr\n",
    "\n",
    "# Función para calcular el promedio de las entradas de una lista \n",
    "\n",
    "def cal_prom_en_list(num):\n",
    "    sum_num=0\n",
    "    for entrada in num:\n",
    "        sum_num=sum_num +entrada\n",
    "        \n",
    "    prom = sum_num/len(num)\n",
    "    return prom\n",
    "\n",
    "# Cálculo del umbral, promediando sobre todas las entradas de la matriz de adyacencia\n",
    "\n",
    "A_prom_cols=A.mean()\n",
    "A_mean_list=mean_to_list(A_prom_cols)\n",
    "cal_prom_en_list(A_mean_list)\n",
    "threshold=cal_prom_en_list(A_mean_list)"
   ]
  },
  {
   "cell_type": "code",
   "execution_count": 9,
   "metadata": {},
   "outputs": [],
   "source": [
    "#Función para contruir la matriz de grado a partir de la de la matriz de adyacencia\n",
    "\n",
    "def degreeMat_from_Adj(mat,n):\n",
    "    new_data=mat.iloc[:n,:n]\n",
    "    \n",
    "    new_data2=new_data.apply(lambda x:(np.where(x<threshold,0,x)))\n",
    "    adj_mat=new_data2.apply(lambda x:(np.where(x>threshold,1,x)))\n",
    "    \n",
    "    #completar la matriz triangular superior para tener la forma completa de una matriz\n",
    "    # simétrica\n",
    "    \n",
    "    adj_mod=np.matrix(adj_mat.fillna(0))\n",
    "    adj_mod_trans=adj_mod.transpose()\n",
    "    simm_mat=adj_mod+adj_mod_trans    #type(simm_mat)=numpy matrix\n",
    "    \n",
    "    \n",
    "    Adj_to_nx=nx.from_numpy_matrix(simm_mat)\n",
    "    L_from_Adj=nx.laplacian_matrix(Adj_to_nx) #obtener la Laplaciana asociada a la de adyacencia\n",
    "    \n",
    "    L_arr=L_from_Adj.toarray()\n",
    "    \n",
    "    L_np=np.matrix(L_arr)\n",
    "    \n",
    "    deg_Mat=L_np+simm_mat\n",
    "    \n",
    "    return deg_Mat"
   ]
  },
  {
   "cell_type": "code",
   "execution_count": 14,
   "metadata": {},
   "outputs": [],
   "source": [
    "# El siguiente módulo, crea un array con los primeros \"n\" genes que deseen obtener del\n",
    "# Data Frame \"data\"\n",
    "\n",
    "#Parametros: data , n \n",
    "\n",
    "def get_genes(data,n):\n",
    "    \n",
    "    genes_arr = sorted(data) #obtener un array que contiene los elementos del header del DataFrame\n",
    "    num_genes_extracted = range(n)\n",
    "    genes = np.array(genes_arr)[num_genes_extracted]\n",
    "    \n",
    "    return genes"
   ]
  },
  {
   "cell_type": "code",
   "execution_count": 15,
   "metadata": {},
   "outputs": [],
   "source": [
    "#Este script es capaz de dibujar el grafo con sus vértices respectivos etiquetados\n",
    "\n",
    "#Este módulo ha sifo modificado para que sea capaz de etiquetar los nombres de los genes \n",
    "#involucrados\n",
    "\n",
    "def plt_with_label(mat,n):\n",
    "    \n",
    "    new_data=mat.iloc[:n,:n]\n",
    "    \n",
    "    new_data2=new_data.apply(lambda x:(np.where(x<threshold,0,x)))\n",
    "    adj_mat=new_data2.apply(lambda x:(np.where(x>threshold,1,x)))\n",
    "    \n",
    "    #completar la matriz triangular superior para tener la forma completa de una matriz\n",
    "    # simétrica\n",
    "    \n",
    "    adj_mod=np.matrix(adj_mat.fillna(0))\n",
    "    adj_mod_trans=adj_mod.transpose()\n",
    "    simm_mat=adj_mod+adj_mod_trans\n",
    "    adj_to_graph=nx.from_numpy_matrix(simm_mat)\n",
    "    \n",
    "    labelmap=dict(zip(adj_to_graph.nodes(),get_genes(data,n))) # el primer parámetro es \n",
    "    #el grupo de nodos que será manipulado y el segundo todos los nombres o etiquetas que se usaran\n",
    "    \n",
    "    plt.figure(1,figsize=(12,12))\n",
    "    nx.draw(adj_to_graph, labels=labelmap, with_labels=True,\n",
    "    font_size=7,font_weight='bold',font_color='green',edge_color='gray',node_color='blue')\n",
    "    \n",
    "    \n",
    "    \n",
    "    graph_with_lab=plt.show()\n",
    "    \n",
    "    return graph_with_lab"
   ]
  },
  {
   "cell_type": "code",
   "execution_count": 21,
   "metadata": {},
   "outputs": [
    {
     "name": "stderr",
     "output_type": "stream",
     "text": [
      "/Users/alex/opt/anaconda3/lib/python3.7/site-packages/networkx/drawing/nx_pylab.py:579: MatplotlibDeprecationWarning: \n",
      "The iterable function was deprecated in Matplotlib 3.1 and will be removed in 3.3. Use np.iterable instead.\n",
      "  if not cb.iterable(width):\n"
     ]
    },
    {
     "data": {
      "image/png": "[encoded data removed]",
      "text/plain": [
       "<Figure size 864x864 with 1 Axes>"
      ]
     },
     "metadata": {},
     "output_type": "display_data"
    }
   ],
   "source": [
    "plt_with_label(A,10)"
   ]
  },
  {
   "cell_type": "code",
   "execution_count": 23,
   "metadata": {},
   "outputs": [],
   "source": [
    "Mat_p=degreeMat_from_Adj(A,4)"
   ]
  },
  {
   "cell_type": "code",
   "execution_count": 3,
   "metadata": {},
   "outputs": [],
   "source": [
    "#La siguiente función sirve para obtener los elementos de la diagonal de la matriz de\n",
    "# grado y la guarda en un array llamado out_p\n",
    "\n",
    "\n",
    "def get_elem_in_diag(Mat):\n",
    "    Mat_mod = np.squeeze(np.asarray(Mat))#convierte numpy matrix en array\n",
    "    out_p=[]\n",
    "    for elem in np.nditer(Mat_mod): #nditer itera sobre arrays\n",
    "        if elem != 0: # omite los valores 0 en el array pues la matriz de grado fuera de la diagonal tiene solo ceros\n",
    "            out_p.append(int(elem))\n",
    "            \n",
    "    return out_p \n",
    "    "
   ]
  },
  {
   "cell_type": "code",
   "execution_count": null,
   "metadata": {},
   "outputs": [],
   "source": []
  },
  {
   "cell_type": "code",
   "execution_count": 2,
   "metadata": {},
   "outputs": [],
   "source": [
    "#Función para obtener el número mayor de una lista de números dentro de un array\n",
    "\n",
    "# El parámetro debe tener el mismo número que la dimensión de la matriz \n",
    "# de grado que se está analizando\n",
    "\n",
    "def get_biggest_num_in_diag(l,n):\n",
    "    count=0\n",
    "    for i in range(n):\n",
    "        for j in range(n):\n",
    "            if l[j]>l[i]:\n",
    "                count=l[j]\n",
    "    return count   \n",
    "\n",
    "# En la siguiente función el parámetro \"a\" es un array que contiene los elementos de \n",
    "# la diagonal de la matriz de grado y \"N\" es el número de elementos que se tomará para\n",
    "# ordenarlos de mayor a menor.\n",
    "\n",
    "# El output indica la posición de la entrada y no su valor, pues con ello podremos \n",
    "# identificar cuál es el gen que tiene más aristas incidentes dentro de él \n",
    "\n",
    "def func(a,N):\n",
    "    return np.argsort(a)[::-1][:N]"
   ]
  },
  {
   "cell_type": "code",
   "execution_count": 4,
   "metadata": {},
   "outputs": [
    {
     "ename": "NameError",
     "evalue": "name 'degreeMat_from_Adj' is not defined",
     "output_type": "error",
     "traceback": [
      "\u001b[0;31m---------------------------------------------------------------------------\u001b[0m",
      "\u001b[0;31mNameError\u001b[0m                                 Traceback (most recent call last)",
      "\u001b[0;32m<ipython-input-4-ecad09800041>\u001b[0m in \u001b[0;36m<module>\u001b[0;34m\u001b[0m\n\u001b[0;32m----> 1\u001b[0;31m \u001b[0mfunc\u001b[0m\u001b[0;34m(\u001b[0m\u001b[0mget_elem_in_diag\u001b[0m\u001b[0;34m(\u001b[0m\u001b[0mdegreeMat_from_Adj\u001b[0m\u001b[0;34m(\u001b[0m\u001b[0mA\u001b[0m\u001b[0;34m,\u001b[0m\u001b[0;36m100\u001b[0m\u001b[0;34m)\u001b[0m\u001b[0;34m)\u001b[0m\u001b[0;34m,\u001b[0m\u001b[0;36m100\u001b[0m\u001b[0;34m)\u001b[0m\u001b[0;34m\u001b[0m\u001b[0;34m\u001b[0m\u001b[0m\n\u001b[0m",
      "\u001b[0;31mNameError\u001b[0m: name 'degreeMat_from_Adj' is not defined"
     ]
    }
   ],
   "source": [
    "func(get_elem_in_diag(degreeMat_from_Adj(A,100)),100)"
   ]
  },
  {
   "cell_type": "code",
   "execution_count": null,
   "metadata": {},
   "outputs": [],
   "source": []
  },
  {
   "cell_type": "code",
   "execution_count": null,
   "metadata": {},
   "outputs": [],
   "source": []
  }
 ],
 "metadata": {
  "kernelspec": {
   "display_name": "Python 3",
   "language": "python",
   "name": "python3"
  },
  "language_info": {
   "codemirror_mode": {
    "name": "ipython",
    "version": 3
   },
   "file_extension": ".py",
   "mimetype": "text/x-python",
   "name": "python",
   "nbconvert_exporter": "python",
   "pygments_lexer": "ipython3",
   "version": "3.7.4"
  }
 },
 "nbformat": 4,
 "nbformat_minor": 2
}
