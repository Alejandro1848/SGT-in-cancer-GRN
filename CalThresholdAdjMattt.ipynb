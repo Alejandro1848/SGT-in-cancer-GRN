{
 "cells": [
  {
   "cell_type": "code",
   "execution_count": 111,
   "metadata": {},
   "outputs": [],
   "source": [
    "import numpy as np\n",
    "import pandas as pd \n",
    "import networkx as nx\n",
    "import math\n",
    "import sympy as sp\n",
    "import matplotlib.pyplot as plt\n",
    "\n",
    "from sympy import *\n",
    "from numpy import linalg as LA\n",
    "from numpy.linalg import matrix_rank"
   ]
  },
  {
   "cell_type": "code",
   "execution_count": null,
   "metadata": {},
   "outputs": [],
   "source": []
  },
  {
   "cell_type": "code",
   "execution_count": 64,
   "metadata": {},
   "outputs": [],
   "source": [
    "from IPython.core.interactiveshell import InteractiveShell\n",
    "InteractiveShell.ast_node_interactivity =\"all\""
   ]
  },
  {
   "cell_type": "code",
   "execution_count": null,
   "metadata": {},
   "outputs": [],
   "source": []
  },
  {
   "cell_type": "code",
   "execution_count": null,
   "metadata": {},
   "outputs": [],
   "source": []
  },
  {
   "cell_type": "code",
   "execution_count": 2,
   "metadata": {},
   "outputs": [
    {
     "name": "stdout",
     "output_type": "stream",
     "text": [
      "File directory:/Users/alex/Desktop/adjmatrix.tsv\n"
     ]
    }
   ],
   "source": [
    "#Establecer directorio de datos\n",
    "\n",
    "DIR='/Users/alex/Desktop'\n",
    "FILE='/adjmatrix.tsv'\n",
    "\n",
    "file='{}{}'.format(DIR,FILE)\n",
    "\n",
    "print('File directory:{}'.format(file))"
   ]
  },
  {
   "cell_type": "code",
   "execution_count": null,
   "metadata": {},
   "outputs": [],
   "source": [
    "#Leer archivo de matriz de adyacencia obtenido con bin/target-adjs | xargs mk"
   ]
  },
  {
   "cell_type": "code",
   "execution_count": 3,
   "metadata": {},
   "outputs": [],
   "source": [
    "data=pd.read_table(file)\n",
    "a=np.diag(np.ones(16438),0)\n",
    "A=data-a"
   ]
  },
  {
   "cell_type": "code",
   "execution_count": 61,
   "metadata": {},
   "outputs": [
    {
     "data": {
      "text/html": [
       "<div>\n",
       "<style scoped>\n",
       "    .dataframe tbody tr th:only-of-type {\n",
       "        vertical-align: middle;\n",
       "    }\n",
       "\n",
       "    .dataframe tbody tr th {\n",
       "        vertical-align: top;\n",
       "    }\n",
       "\n",
       "    .dataframe thead th {\n",
       "        text-align: right;\n",
       "    }\n",
       "</style>\n",
       "<table border=\"1\" class=\"dataframe\">\n",
       "  <thead>\n",
       "    <tr style=\"text-align: right;\">\n",
       "      <th></th>\n",
       "      <th>ENSG00000000003</th>\n",
       "      <th>ENSG00000000419</th>\n",
       "      <th>ENSG00000000457</th>\n",
       "      <th>ENSG00000000460</th>\n",
       "      <th>ENSG00000000938</th>\n",
       "      <th>ENSG00000001036</th>\n",
       "      <th>ENSG00000001084</th>\n",
       "      <th>ENSG00000001167</th>\n",
       "      <th>ENSG00000001460</th>\n",
       "      <th>ENSG00000001461</th>\n",
       "      <th>...</th>\n",
       "      <th>hsa-mir-941-5</th>\n",
       "      <th>hsa-mir-942</th>\n",
       "      <th>hsa-mir-943</th>\n",
       "      <th>hsa-mir-944</th>\n",
       "      <th>hsa-mir-95</th>\n",
       "      <th>hsa-mir-9500</th>\n",
       "      <th>hsa-mir-96</th>\n",
       "      <th>hsa-mir-98</th>\n",
       "      <th>hsa-mir-99a</th>\n",
       "      <th>hsa-mir-99b</th>\n",
       "    </tr>\n",
       "  </thead>\n",
       "  <tbody>\n",
       "    <tr>\n",
       "      <td>0</td>\n",
       "      <td>0.0</td>\n",
       "      <td>0.013031</td>\n",
       "      <td>0.019190</td>\n",
       "      <td>0.016375</td>\n",
       "      <td>0.016943</td>\n",
       "      <td>0.022367</td>\n",
       "      <td>0.013691</td>\n",
       "      <td>0.013233</td>\n",
       "      <td>0.019533</td>\n",
       "      <td>0.018230</td>\n",
       "      <td>...</td>\n",
       "      <td>0.009490</td>\n",
       "      <td>0.013924</td>\n",
       "      <td>0.009659</td>\n",
       "      <td>0.010500</td>\n",
       "      <td>0.018881</td>\n",
       "      <td>0.009490</td>\n",
       "      <td>0.031730</td>\n",
       "      <td>0.018426</td>\n",
       "      <td>0.016263</td>\n",
       "      <td>0.016115</td>\n",
       "    </tr>\n",
       "    <tr>\n",
       "      <td>1</td>\n",
       "      <td>NaN</td>\n",
       "      <td>0.000000</td>\n",
       "      <td>0.019359</td>\n",
       "      <td>0.019302</td>\n",
       "      <td>0.015891</td>\n",
       "      <td>0.019269</td>\n",
       "      <td>0.015181</td>\n",
       "      <td>0.040842</td>\n",
       "      <td>0.028730</td>\n",
       "      <td>0.065327</td>\n",
       "      <td>...</td>\n",
       "      <td>0.011890</td>\n",
       "      <td>0.024285</td>\n",
       "      <td>0.013666</td>\n",
       "      <td>0.017896</td>\n",
       "      <td>0.008214</td>\n",
       "      <td>0.011890</td>\n",
       "      <td>0.014344</td>\n",
       "      <td>0.010680</td>\n",
       "      <td>0.023089</td>\n",
       "      <td>0.013776</td>\n",
       "    </tr>\n",
       "    <tr>\n",
       "      <td>2</td>\n",
       "      <td>NaN</td>\n",
       "      <td>NaN</td>\n",
       "      <td>0.000000</td>\n",
       "      <td>0.088819</td>\n",
       "      <td>0.013405</td>\n",
       "      <td>0.031995</td>\n",
       "      <td>0.025896</td>\n",
       "      <td>0.016416</td>\n",
       "      <td>0.013057</td>\n",
       "      <td>0.009656</td>\n",
       "      <td>...</td>\n",
       "      <td>0.016378</td>\n",
       "      <td>0.026019</td>\n",
       "      <td>0.018729</td>\n",
       "      <td>0.018735</td>\n",
       "      <td>0.018551</td>\n",
       "      <td>0.016378</td>\n",
       "      <td>0.014103</td>\n",
       "      <td>0.014223</td>\n",
       "      <td>0.019822</td>\n",
       "      <td>0.013575</td>\n",
       "    </tr>\n",
       "    <tr>\n",
       "      <td>3</td>\n",
       "      <td>NaN</td>\n",
       "      <td>NaN</td>\n",
       "      <td>NaN</td>\n",
       "      <td>0.000000</td>\n",
       "      <td>0.015439</td>\n",
       "      <td>0.031082</td>\n",
       "      <td>0.009530</td>\n",
       "      <td>0.023720</td>\n",
       "      <td>0.014315</td>\n",
       "      <td>0.028686</td>\n",
       "      <td>...</td>\n",
       "      <td>0.012746</td>\n",
       "      <td>0.016471</td>\n",
       "      <td>0.016116</td>\n",
       "      <td>0.017094</td>\n",
       "      <td>0.018783</td>\n",
       "      <td>0.012746</td>\n",
       "      <td>0.011235</td>\n",
       "      <td>0.017581</td>\n",
       "      <td>0.029332</td>\n",
       "      <td>0.013368</td>\n",
       "    </tr>\n",
       "    <tr>\n",
       "      <td>4</td>\n",
       "      <td>NaN</td>\n",
       "      <td>NaN</td>\n",
       "      <td>NaN</td>\n",
       "      <td>NaN</td>\n",
       "      <td>0.000000</td>\n",
       "      <td>0.015012</td>\n",
       "      <td>0.021228</td>\n",
       "      <td>0.026859</td>\n",
       "      <td>0.013298</td>\n",
       "      <td>0.030538</td>\n",
       "      <td>...</td>\n",
       "      <td>0.007838</td>\n",
       "      <td>0.014148</td>\n",
       "      <td>0.017720</td>\n",
       "      <td>0.023233</td>\n",
       "      <td>0.013062</td>\n",
       "      <td>0.007838</td>\n",
       "      <td>0.012461</td>\n",
       "      <td>0.019445</td>\n",
       "      <td>0.013458</td>\n",
       "      <td>0.017010</td>\n",
       "    </tr>\n",
       "  </tbody>\n",
       "</table>\n",
       "<p>5 rows × 16438 columns</p>\n",
       "</div>"
      ],
      "text/plain": [
       "   ENSG00000000003  ENSG00000000419  ENSG00000000457  ENSG00000000460  \\\n",
       "0              0.0         0.013031         0.019190         0.016375   \n",
       "1              NaN         0.000000         0.019359         0.019302   \n",
       "2              NaN              NaN         0.000000         0.088819   \n",
       "3              NaN              NaN              NaN         0.000000   \n",
       "4              NaN              NaN              NaN              NaN   \n",
       "\n",
       "   ENSG00000000938  ENSG00000001036  ENSG00000001084  ENSG00000001167  \\\n",
       "0         0.016943         0.022367         0.013691         0.013233   \n",
       "1         0.015891         0.019269         0.015181         0.040842   \n",
       "2         0.013405         0.031995         0.025896         0.016416   \n",
       "3         0.015439         0.031082         0.009530         0.023720   \n",
       "4         0.000000         0.015012         0.021228         0.026859   \n",
       "\n",
       "   ENSG00000001460  ENSG00000001461  ...  hsa-mir-941-5  hsa-mir-942  \\\n",
       "0         0.019533         0.018230  ...       0.009490     0.013924   \n",
       "1         0.028730         0.065327  ...       0.011890     0.024285   \n",
       "2         0.013057         0.009656  ...       0.016378     0.026019   \n",
       "3         0.014315         0.028686  ...       0.012746     0.016471   \n",
       "4         0.013298         0.030538  ...       0.007838     0.014148   \n",
       "\n",
       "   hsa-mir-943  hsa-mir-944  hsa-mir-95  hsa-mir-9500  hsa-mir-96  hsa-mir-98  \\\n",
       "0     0.009659     0.010500    0.018881      0.009490    0.031730    0.018426   \n",
       "1     0.013666     0.017896    0.008214      0.011890    0.014344    0.010680   \n",
       "2     0.018729     0.018735    0.018551      0.016378    0.014103    0.014223   \n",
       "3     0.016116     0.017094    0.018783      0.012746    0.011235    0.017581   \n",
       "4     0.017720     0.023233    0.013062      0.007838    0.012461    0.019445   \n",
       "\n",
       "   hsa-mir-99a  hsa-mir-99b  \n",
       "0     0.016263     0.016115  \n",
       "1     0.023089     0.013776  \n",
       "2     0.019822     0.013575  \n",
       "3     0.029332     0.013368  \n",
       "4     0.013458     0.017010  \n",
       "\n",
       "[5 rows x 16438 columns]"
      ]
     },
     "execution_count": 61,
     "metadata": {},
     "output_type": "execute_result"
    }
   ],
   "source": [
    "A.head()"
   ]
  },
  {
   "cell_type": "code",
   "execution_count": null,
   "metadata": {},
   "outputs": [],
   "source": []
  },
  {
   "cell_type": "code",
   "execution_count": null,
   "metadata": {},
   "outputs": [],
   "source": []
  },
  {
   "cell_type": "code",
   "execution_count": 4,
   "metadata": {},
   "outputs": [],
   "source": [
    "#Este modulo calcula un valor umbral (\"threshold\") que promedia todos los valores de las \n",
    "# entradas de un data set\n",
    "\n",
    "# Función convertir a lista el resultado de aplicar .mean() a un DataFrame\n",
    "\n",
    "def mean_to_list(df):\n",
    "    arr=[]\n",
    "    for i in range(0,len(df)):\n",
    "        a=df.iloc[i]\n",
    "        arr.append(a)\n",
    "    return arr\n",
    "\n",
    "# Función para calcular el promedio de las entradas de una lista \n",
    "\n",
    "def cal_prom_en_list(num):\n",
    "    sum_num=0\n",
    "    for entrada in num:\n",
    "        sum_num=sum_num +entrada\n",
    "        \n",
    "    prom = sum_num/len(num)\n",
    "    return prom\n",
    "\n",
    "# Cálculo del umbral, promediando sobre todas las entradas de la matriz de adyacencia\n",
    "\n",
    "A_prom_cols=A.mean()\n",
    "A_mean_list=mean_to_list(A_prom_cols)\n",
    "cal_prom_en_list(A_mean_list)\n",
    "threshold=cal_prom_en_list(A_mean_list)"
   ]
  },
  {
   "cell_type": "code",
   "execution_count": 15,
   "metadata": {},
   "outputs": [
    {
     "data": {
      "text/plain": [
       "0.018990814050501657"
      ]
     },
     "execution_count": 15,
     "metadata": {},
     "output_type": "execute_result"
    }
   ],
   "source": [
    "threshold"
   ]
  },
  {
   "cell_type": "code",
   "execution_count": null,
   "metadata": {},
   "outputs": [],
   "source": []
  },
  {
   "cell_type": "code",
   "execution_count": 5,
   "metadata": {},
   "outputs": [],
   "source": [
    "# Función para dibujar el grafo asociado a la matriz de adyacencia \"mat\" en formato de \n",
    "# DataFrame y a las dimensiones de una submatriz de esta, de nxn donde \"n\" es el segundo \n",
    "# parámetro de la función.\n",
    "\n",
    "def plt_adj_graph(mat,n):\n",
    "    \n",
    "    new_data=mat.iloc[:n,:n]\n",
    "    \n",
    "    new_data2=new_data.apply(lambda x:(np.where(x<threshold,0,x)))\n",
    "    adj_mat=new_data2.apply(lambda x:(np.where(x>threshold,1,x)))\n",
    "    \n",
    "    #completar la matriz triangular superior para tener la forma completa de una matriz\n",
    "    # simétrica\n",
    "    \n",
    "    adj_mod=np.matrix(adj_mat.fillna(0))\n",
    "    adj_mod_trans=adj_mod.transpose()\n",
    "    simm_mat=adj_mod+adj_mod_trans\n",
    "    adj_to_graph=nx.from_numpy_matrix(simm_mat)\n",
    "    Graph=nx.draw(adj_to_graph)\n",
    "    \n",
    "    return Graph"
   ]
  },
  {
   "cell_type": "code",
   "execution_count": null,
   "metadata": {},
   "outputs": [],
   "source": []
  },
  {
   "cell_type": "code",
   "execution_count": 6,
   "metadata": {},
   "outputs": [],
   "source": [
    "# Función para obtener el polinomio característico de una matriz\n",
    "# asociada a un data set \n",
    "\n",
    "def pol_char(mat,n):\n",
    "    \n",
    "    new_data=mat.iloc[:n,:n]\n",
    "    \n",
    "    new_data2=new_data.apply(lambda x:(np.where(x<threshold,0,x)))\n",
    "    adj_mat=new_data2.apply(lambda x:(np.where(x>threshold,1,x)))\n",
    "    \n",
    "    #completar la matriz triangular superior para tener la forma completa de una matriz\n",
    "    # simétrica\n",
    "    \n",
    "    adj_mod=np.matrix(adj_mat.fillna(0))\n",
    "    adj_mod_trans=adj_mod.transpose()\n",
    "    simm_mat=adj_mod+adj_mod_trans\n",
    "    \n",
    "    \n",
    "    data_modx2=sp.Matrix(simm_mat)\n",
    "    \n",
    "    lamda=Symbol(\"lamda\")\n",
    "    pol=data_modx2.charpoly(lamda)\n",
    "\n",
    "\n",
    "    \n",
    "    return print(pol),print(pol.coeffs())"
   ]
  },
  {
   "cell_type": "code",
   "execution_count": null,
   "metadata": {},
   "outputs": [],
   "source": []
  },
  {
   "cell_type": "code",
   "execution_count": null,
   "metadata": {},
   "outputs": [],
   "source": []
  },
  {
   "cell_type": "code",
   "execution_count": 49,
   "metadata": {},
   "outputs": [],
   "source": [
    "#Función para ver qué forma tiene la matriz del data set que estamos\n",
    "#estudiando \n",
    "\n",
    "def mat_shape(mat,n):\n",
    "    \n",
    "    new_data=mat.iloc[:n,:n]\n",
    "    \n",
    "    new_data2=new_data.apply(lambda x:(np.where(x<threshold,0,x)))\n",
    "    adj_mat=new_data2.apply(lambda x:(np.where(x>threshold,1,x)))\n",
    "    \n",
    "    #completar la matriz triangular superior para tener la forma completa de una matriz\n",
    "    # simétrica\n",
    "    \n",
    "    adj_mod=np.matrix(adj_mat.fillna(0))\n",
    "    adj_mod_trans=adj_mod.transpose()\n",
    "    simm_mat=adj_mod+adj_mod_trans\n",
    "    \n",
    "    \n",
    "    return simm_mat"
   ]
  },
  {
   "cell_type": "code",
   "execution_count": null,
   "metadata": {},
   "outputs": [],
   "source": []
  },
  {
   "cell_type": "code",
   "execution_count": 7,
   "metadata": {},
   "outputs": [],
   "source": [
    "#Función para contruir la matriz de grado a partir de la de la matriz de adyacencia\n",
    "\n",
    "def degreeMat_from_Adj(mat,n):\n",
    "    new_data=mat.iloc[:n,:n]\n",
    "    \n",
    "    new_data2=new_data.apply(lambda x:(np.where(x<threshold,0,x)))\n",
    "    adj_mat=new_data2.apply(lambda x:(np.where(x>threshold,1,x)))\n",
    "    \n",
    "    #completar la matriz triangular superior para tener la forma completa de una matriz\n",
    "    # simétrica\n",
    "    \n",
    "    adj_mod=np.matrix(adj_mat.fillna(0))\n",
    "    adj_mod_trans=adj_mod.transpose()\n",
    "    simm_mat=adj_mod+adj_mod_trans    #type(simm_mat)=numpy matrix\n",
    "    \n",
    "    \n",
    "    Adj_to_nx=nx.from_numpy_matrix(simm_mat)\n",
    "    L_from_Adj=nx.laplacian_matrix(Adj_to_nx) #obtener la Laplaciana asociada a la de adyacencia\n",
    "    \n",
    "    L_arr=L_from_Adj.toarray()\n",
    "    \n",
    "    L_np=np.matrix(L_arr)\n",
    "    \n",
    "    deg_Mat=L_np+simm_mat\n",
    "    \n",
    "    return deg_Mat"
   ]
  },
  {
   "cell_type": "code",
   "execution_count": null,
   "metadata": {},
   "outputs": [],
   "source": []
  },
  {
   "cell_type": "code",
   "execution_count": 48,
   "metadata": {},
   "outputs": [],
   "source": [
    "#Función para contruir la matriz Laplaciana \"sin signo\" a partir de la matriz de adyacencia\n",
    "\n",
    "def lapMat_WO_sign(mat,n):\n",
    "    new_data=mat.iloc[:n,:n]\n",
    "    \n",
    "    new_data2=new_data.apply(lambda x:(np.where(x<threshold,0,x)))\n",
    "    adj_mat=new_data2.apply(lambda x:(np.where(x>threshold,1,x)))\n",
    "    \n",
    "    #completar la matriz triangular superior para tener la forma completa de una matriz\n",
    "    # simétrica\n",
    "    \n",
    "    adj_mod=np.matrix(adj_mat.fillna(0))\n",
    "    adj_mod_trans=adj_mod.transpose()\n",
    "    simm_mat=adj_mod+adj_mod_trans  #Esta es la matriz de adyacencia completa\n",
    "                                    #type(simm_mat)=numpy matrix\n",
    "    \n",
    "    \n",
    "    Adj_to_nx=nx.from_numpy_matrix(simm_mat)\n",
    "    L_from_Adj=nx.laplacian_matrix(Adj_to_nx) #obtener la Laplaciana asociada a la de adyacencia\n",
    "    \n",
    "    L_arr=L_from_Adj.toarray()\n",
    "    \n",
    "    L_np=np.matrix(L_arr)\n",
    "    \n",
    "    deg_Mat=L_np+simm_mat\n",
    "    \n",
    "    L_WO_Sign=deg_Mat+simm_mat\n",
    "    \n",
    "    return L_WO_Sign"
   ]
  },
  {
   "cell_type": "code",
   "execution_count": null,
   "metadata": {},
   "outputs": [],
   "source": []
  },
  {
   "cell_type": "code",
   "execution_count": null,
   "metadata": {},
   "outputs": [],
   "source": []
  },
  {
   "cell_type": "code",
   "execution_count": 9,
   "metadata": {},
   "outputs": [],
   "source": [
    "#Función para contruir la matriz Laplaciana a partir de la matriz de adyacencia\n",
    "def lapMat(mat,n):\n",
    "    new_data=mat.iloc[:n,:n]\n",
    "    \n",
    "    new_data2=new_data.apply(lambda x:(np.where(x<threshold,0,x)))\n",
    "    adj_mat=new_data2.apply(lambda x:(np.where(x>threshold,1,x)))\n",
    "    \n",
    "    #completar la matriz triangular superior para tener la forma completa de una matriz\n",
    "    # simétrica\n",
    "    \n",
    "    adj_mod=np.matrix(adj_mat.fillna(0))\n",
    "    adj_mod_trans=adj_mod.transpose()\n",
    "    simm_mat=adj_mod+adj_mod_trans\n",
    "    \n",
    "    Adj_mod=nx.from_numpy_matrix(simm_mat)\n",
    "    L=nx.laplacian_matrix(Adj_mod)\n",
    "    L_matrix=L.toarray()\n",
    "    \n",
    "    return L_matrix"
   ]
  },
  {
   "cell_type": "code",
   "execution_count": null,
   "metadata": {},
   "outputs": [],
   "source": []
  },
  {
   "cell_type": "code",
   "execution_count": null,
   "metadata": {},
   "outputs": [],
   "source": []
  },
  {
   "cell_type": "markdown",
   "metadata": {},
   "source": [
    "Para mañana debo revisar el artículo de Terence Tao sobre valores propios y tratar de aplicarlo para crear un script que los calcule de forma eficiente los valores propios"
   ]
  },
  {
   "cell_type": "code",
   "execution_count": 53,
   "metadata": {},
   "outputs": [],
   "source": [
    "#Función para obtener el polinomio característico de la matriz laplaciana sin signo\n",
    "\n",
    "\n",
    "def pol_char_from_lap(mat,n):\n",
    "    \n",
    "    new_data=mat.iloc[:n,:n]\n",
    "    \n",
    "    new_data2=new_data.apply(lambda x:(np.where(x<threshold,0,x)))\n",
    "    adj_mat=new_data2.apply(lambda x:(np.where(x>threshold,1,x)))\n",
    "    \n",
    "    #completar la matriz triangular superior para tener la forma completa de una matriz\n",
    "    # simétrica\n",
    "    \n",
    "    adj_mod=np.matrix(adj_mat.fillna(0))\n",
    "    adj_mod_trans=adj_mod.transpose()\n",
    "    simm_mat=adj_mod+adj_mod_trans\n",
    "    \n",
    "    Adj_to_nx=nx.from_numpy_matrix(simm_mat)\n",
    "    L_from_Adj=nx.laplacian_matrix(Adj_to_nx)\n",
    "    \n",
    "    L_arr=L_from_Adj.toarray()\n",
    "    \n",
    "    L_np=np.matrix(L_arr)\n",
    "    \n",
    "    deg_Mat=L_np+simm_mat\n",
    "    \n",
    "    L_WO_Sign=deg_Mat+simm_mat\n",
    "    \n",
    "    data_modx2=sp.Matrix(L_WO_Sign)\n",
    "    \n",
    "    lamda=symbols(\"lamda\")\n",
    "    pol=data_modx2.charpoly(lamda)\n",
    "\n",
    "\n",
    "    \n",
    "    return print(pol),print(pol.coeffs())"
   ]
  },
  {
   "cell_type": "code",
   "execution_count": 75,
   "metadata": {},
   "outputs": [],
   "source": [
    "#Función para obtener el polinomio característico de la matriz de adyacencia \n",
    "\n",
    "\n",
    "def pol_char_from_adj(mat,n):\n",
    "    \n",
    "    new_data=mat.iloc[:n,:n]\n",
    "    \n",
    "    new_data2=new_data.apply(lambda x:(np.where(x<threshold,0,x)))\n",
    "    adj_mat=new_data2.apply(lambda x:(np.where(x>threshold,1,x)))\n",
    "    \n",
    "    #completar la matriz triangular superior para tener la forma completa de una matriz\n",
    "    # simétrica\n",
    "    \n",
    "    adj_mod=np.matrix(adj_mat.fillna(0))\n",
    "    adj_mod_trans=adj_mod.transpose()\n",
    "    simm_mat=adj_mod+adj_mod_trans\n",
    "    \n",
    "    data_modx2=sp.Matrix(simm_mat)\n",
    "    \n",
    "    lamda=symbols(\"lamda\")\n",
    "    pol=data_modx2.charpoly(lamda)\n",
    "\n",
    "\n",
    "    \n",
    "    return print(pol),print(pol.coeffs())"
   ]
  },
  {
   "cell_type": "code",
   "execution_count": null,
   "metadata": {},
   "outputs": [],
   "source": []
  },
  {
   "cell_type": "code",
   "execution_count": null,
   "metadata": {},
   "outputs": [],
   "source": []
  },
  {
   "cell_type": "markdown",
   "metadata": {},
   "source": [
    "# Relación entre segundo valor propio y número de aristas"
   ]
  },
  {
   "cell_type": "markdown",
   "metadata": {},
   "source": [
    "Se quiere comprobar la proposición del capítulo 12 de la tesis: El número de aristas de un grafo G con n vértices es igual a - frac{p_1}{2}, donde p_1 es el coeficiente de \\lambda^{n-1}  en el polinomio característico de Q(matriz laplaciana sin signo)."
   ]
  },
  {
   "cell_type": "markdown",
   "metadata": {},
   "source": [
    "Al calcular el polinomio característico del data set de una matriz de 8x8 del total se obtiene que "
   ]
  },
  {
   "cell_type": "code",
   "execution_count": 55,
   "metadata": {},
   "outputs": [
    {
     "name": "stdout",
     "output_type": "stream",
     "text": [
      "PurePoly(1.0*lamda**8 - 28.0*lamda**7 + 325.0*lamda**6 - 2044.0*lamda**5 + 7615.0*lamda**4 - 17188.0*lamda**3 + 22919.0*lamda**2 - 16492.0*lamda + 4908.0, lamda, domain='RR')\n",
      "[1.00000000000000, -28.0000000000000, 325.000000000000, -2044.00000000000, 7615.00000000000, -17188.0000000000, 22919.0000000000, -16492.0000000000, 4908.00000000000]\n"
     ]
    },
    {
     "data": {
      "text/plain": [
       "(None, None)"
      ]
     },
     "execution_count": 55,
     "metadata": {},
     "output_type": "execute_result"
    }
   ],
   "source": [
    "pol_char_from_lap(A,8)"
   ]
  },
  {
   "cell_type": "markdown",
   "metadata": {},
   "source": [
    "Observamos que el segundo coeficiente del polinomio característico es -28 que al usar la fórmula para calcular el número de aristas obtenemos que # aristas= -(-28)/2 = 14"
   ]
  },
  {
   "cell_type": "code",
   "execution_count": 11,
   "metadata": {},
   "outputs": [
    {
     "data": {
      "text/plain": [
       "matrix([[2., 0., 1., 0., 0., 1., 0., 0.],\n",
       "        [0., 4., 1., 1., 0., 1., 0., 1.],\n",
       "        [1., 1., 5., 1., 0., 1., 1., 0.],\n",
       "        [0., 1., 1., 4., 0., 1., 0., 1.],\n",
       "        [0., 0., 0., 0., 2., 0., 1., 1.],\n",
       "        [1., 1., 1., 1., 0., 4., 0., 0.],\n",
       "        [0., 0., 1., 0., 1., 0., 3., 1.],\n",
       "        [0., 1., 0., 1., 1., 0., 1., 4.]])"
      ]
     },
     "execution_count": 11,
     "metadata": {},
     "output_type": "execute_result"
    }
   ],
   "source": [
    "lapMat_WO_sign(A,8)"
   ]
  },
  {
   "cell_type": "code",
   "execution_count": null,
   "metadata": {},
   "outputs": [],
   "source": []
  },
  {
   "cell_type": "code",
   "execution_count": 50,
   "metadata": {
    "scrolled": true
   },
   "outputs": [
    {
     "data": {
      "text/plain": [
       "matrix([[0., 0., 1.],\n",
       "        [0., 0., 1.],\n",
       "        [1., 1., 0.]])"
      ]
     },
     "execution_count": 50,
     "metadata": {},
     "output_type": "execute_result"
    }
   ],
   "source": [
    "mat_shape(A,3)"
   ]
  },
  {
   "cell_type": "markdown",
   "metadata": {},
   "source": [
    "Y al dibujar el gráfico vemos que efectivamente el grafo tiene 14 aristas, es decir hay 14 intracciones entre genes."
   ]
  },
  {
   "cell_type": "code",
   "execution_count": 57,
   "metadata": {},
   "outputs": [
    {
     "data": {
      "image/png": "[encoded data removed]",
      "text/plain": [
       "<Figure size 432x288 with 1 Axes>"
      ]
     },
     "metadata": {},
     "output_type": "display_data"
    }
   ],
   "source": [
    "plt_adj_graph(A,8)"
   ]
  },
  {
   "cell_type": "code",
   "execution_count": null,
   "metadata": {},
   "outputs": [],
   "source": []
  },
  {
   "cell_type": "code",
   "execution_count": 62,
   "metadata": {},
   "outputs": [
    {
     "data": {
      "text/plain": [
       "matrix([[2., 0., 0., 0., 0., 0., 0., 0.],\n",
       "        [0., 4., 0., 0., 0., 0., 0., 0.],\n",
       "        [0., 0., 5., 0., 0., 0., 0., 0.],\n",
       "        [0., 0., 0., 4., 0., 0., 0., 0.],\n",
       "        [0., 0., 0., 0., 2., 0., 0., 0.],\n",
       "        [0., 0., 0., 0., 0., 4., 0., 0.],\n",
       "        [0., 0., 0., 0., 0., 0., 3., 0.],\n",
       "        [0., 0., 0., 0., 0., 0., 0., 4.]])"
      ]
     },
     "execution_count": 62,
     "metadata": {},
     "output_type": "execute_result"
    }
   ],
   "source": [
    "degreeMat_from_Adj(A,8)"
   ]
  },
  {
   "cell_type": "code",
   "execution_count": 65,
   "metadata": {},
   "outputs": [
    {
     "data": {
      "text/plain": [
       "matrix([[30.,  0.,  0., ...,  0.,  0.,  0.],\n",
       "        [ 0., 44.,  0., ...,  0.,  0.,  0.],\n",
       "        [ 0.,  0., 30., ...,  0.,  0.,  0.],\n",
       "        ...,\n",
       "        [ 0.,  0.,  0., ..., 35.,  0.,  0.],\n",
       "        [ 0.,  0.,  0., ...,  0., 31.,  0.],\n",
       "        [ 0.,  0.,  0., ...,  0.,  0., 41.]])"
      ]
     },
     "execution_count": 65,
     "metadata": {},
     "output_type": "execute_result"
    }
   ],
   "source": [
    "degreeMat_from_Adj(A,80)"
   ]
  },
  {
   "cell_type": "code",
   "execution_count": 66,
   "metadata": {},
   "outputs": [
    {
     "data": {
      "text/plain": [
       "numpy.matrix"
      ]
     },
     "execution_count": 66,
     "metadata": {},
     "output_type": "execute_result"
    }
   ],
   "source": [
    "type(degreeMat_from_Adj(A,80))"
   ]
  },
  {
   "cell_type": "code",
   "execution_count": null,
   "metadata": {},
   "outputs": [],
   "source": []
  },
  {
   "cell_type": "code",
   "execution_count": null,
   "metadata": {},
   "outputs": [],
   "source": []
  },
  {
   "cell_type": "code",
   "execution_count": 167,
   "metadata": {},
   "outputs": [
    {
     "data": {
      "text/plain": [
       "array([[ 1.,  0., -1.,  0.,  0.],\n",
       "       [ 0.,  2., -1., -1.,  0.],\n",
       "       [-1., -1.,  3., -1.,  0.],\n",
       "       [ 0., -1., -1.,  2.,  0.],\n",
       "       [ 0.,  0.,  0.,  0.,  0.]])"
      ]
     },
     "execution_count": 167,
     "metadata": {},
     "output_type": "execute_result"
    }
   ],
   "source": [
    "lapMat(A,5)"
   ]
  },
  {
   "cell_type": "code",
   "execution_count": 168,
   "metadata": {},
   "outputs": [
    {
     "data": {
      "text/plain": [
       "array([ 4.00000000e+00,  1.00000000e+00, -1.51136928e-16,  3.00000000e+00,\n",
       "        0.00000000e+00])"
      ]
     },
     "execution_count": 168,
     "metadata": {},
     "output_type": "execute_result"
    }
   ],
   "source": [
    "LA.eigvals(lapMat(A,5))"
   ]
  },
  {
   "cell_type": "code",
   "execution_count": null,
   "metadata": {},
   "outputs": [],
   "source": []
  },
  {
   "cell_type": "code",
   "execution_count": 204,
   "metadata": {},
   "outputs": [
    {
     "data": {
      "image/png": "[encoded data removed]",
      "text/plain": [
       "<Figure size 432x288 with 1 Axes>"
      ]
     },
     "metadata": {},
     "output_type": "display_data"
    }
   ],
   "source": [
    "plt_adj_graph(A,5)"
   ]
  },
  {
   "cell_type": "code",
   "execution_count": null,
   "metadata": {},
   "outputs": [],
   "source": []
  },
  {
   "cell_type": "code",
   "execution_count": 190,
   "metadata": {},
   "outputs": [],
   "source": [
    "A2_M=np.matrix([[0,1,0,0,0,0,0],[1,0,1,1,0,0,0],[0,1,0,1,0,0,0],[0,1,1,0,0,0,0],[0,0,0,0,0,0,0],[0,0,0,0,0,0,1],[0,0,0,0,0,1,0]])"
   ]
  },
  {
   "cell_type": "code",
   "execution_count": 191,
   "metadata": {},
   "outputs": [],
   "source": [
    "A2_gr=nx.from_numpy_matrix(A2_M)"
   ]
  },
  {
   "cell_type": "code",
   "execution_count": 207,
   "metadata": {},
   "outputs": [
    {
     "data": {
      "image/png": "[encoded data removed]",
      "text/plain": [
       "<Figure size 432x288 with 1 Axes>"
      ]
     },
     "metadata": {},
     "output_type": "display_data"
    }
   ],
   "source": [
    "Graph3=nx.draw(A2_gr)"
   ]
  },
  {
   "cell_type": "code",
   "execution_count": 208,
   "metadata": {},
   "outputs": [
    {
     "data": {
      "text/plain": [
       "networkx.classes.graph.Graph"
      ]
     },
     "execution_count": 208,
     "metadata": {},
     "output_type": "execute_result"
    }
   ],
   "source": [
    "type(A2_gr)"
   ]
  },
  {
   "cell_type": "code",
   "execution_count": null,
   "metadata": {},
   "outputs": [],
   "source": []
  },
  {
   "cell_type": "code",
   "execution_count": 212,
   "metadata": {},
   "outputs": [
    {
     "name": "stdout",
     "output_type": "stream",
     "text": [
      "[[1. 0. 0. 0. 0.]\n",
      " [1. 1. 1. 0. 0.]\n",
      " [0. 1. 0. 1. 0.]\n",
      " [0. 0. 1. 1. 0.]\n",
      " [0. 0. 0. 0. 0.]\n",
      " [0. 0. 0. 0. 1.]\n",
      " [0. 0. 0. 0. 1.]]\n"
     ]
    }
   ],
   "source": [
    "print(nx.incidence_matrix(A2_gr).toarray())"
   ]
  },
  {
   "cell_type": "code",
   "execution_count": null,
   "metadata": {},
   "outputs": [],
   "source": []
  },
  {
   "cell_type": "code",
   "execution_count": 242,
   "metadata": {},
   "outputs": [],
   "source": [
    "A2_M2=np.matrix([[0,1,0,1,0,0],[1,0,1,0,0,0],[0,1,0,1,0,0],[1,0,1,0,0,0],[0,0,0,0,0,1],[0,0,0,0,1,0]])"
   ]
  },
  {
   "cell_type": "code",
   "execution_count": 243,
   "metadata": {},
   "outputs": [],
   "source": [
    "A2_gr2=nx.from_numpy_matrix(A2_M2)"
   ]
  },
  {
   "cell_type": "code",
   "execution_count": 246,
   "metadata": {},
   "outputs": [
    {
     "data": {
      "image/png": "[encoded data removed]",
      "text/plain": [
       "<Figure size 432x288 with 1 Axes>"
      ]
     },
     "metadata": {},
     "output_type": "display_data"
    }
   ],
   "source": [
    "Graph32=nx.draw(A2_gr2)"
   ]
  },
  {
   "cell_type": "code",
   "execution_count": 260,
   "metadata": {},
   "outputs": [
    {
     "name": "stdout",
     "output_type": "stream",
     "text": [
      "[[1. 1. 0. 0. 0.]\n",
      " [1. 0. 1. 0. 0.]\n",
      " [0. 0. 1. 1. 0.]\n",
      " [0. 1. 0. 1. 0.]\n",
      " [0. 0. 0. 0. 1.]\n",
      " [0. 0. 0. 0. 1.]]\n"
     ]
    }
   ],
   "source": [
    "print(nx.incidence_matrix(A2_gr2,nodelist=None).toarray())"
   ]
  },
  {
   "cell_type": "code",
   "execution_count": null,
   "metadata": {},
   "outputs": [],
   "source": []
  },
  {
   "cell_type": "code",
   "execution_count": 254,
   "metadata": {},
   "outputs": [
    {
     "data": {
      "text/plain": [
       "NodeView((0, 1, 2, 3, 4, 5))"
      ]
     },
     "execution_count": 254,
     "metadata": {},
     "output_type": "execute_result"
    }
   ],
   "source": [
    "A2_gr2.nodes()"
   ]
  },
  {
   "cell_type": "code",
   "execution_count": 255,
   "metadata": {},
   "outputs": [
    {
     "data": {
      "text/plain": [
       "EdgeView([(0, 1), (0, 3), (1, 2), (2, 3), (4, 5)])"
      ]
     },
     "execution_count": 255,
     "metadata": {},
     "output_type": "execute_result"
    }
   ],
   "source": [
    "A2_gr2.edges()"
   ]
  },
  {
   "cell_type": "code",
   "execution_count": null,
   "metadata": {},
   "outputs": [],
   "source": []
  },
  {
   "cell_type": "code",
   "execution_count": 199,
   "metadata": {},
   "outputs": [
    {
     "data": {
      "text/plain": [
       "array([[ 1, -1,  0,  0,  0,  0,  0],\n",
       "       [-1,  3, -1, -1,  0,  0,  0],\n",
       "       [ 0, -1,  2, -1,  0,  0,  0],\n",
       "       [ 0, -1, -1,  2,  0,  0,  0],\n",
       "       [ 0,  0,  0,  0,  0,  0,  0],\n",
       "       [ 0,  0,  0,  0,  0,  1, -1],\n",
       "       [ 0,  0,  0,  0,  0, -1,  1]], dtype=int64)"
      ]
     },
     "execution_count": 199,
     "metadata": {},
     "output_type": "execute_result"
    }
   ],
   "source": [
    "L2=nx.laplacian_matrix(A2_gr)\n",
    "L2_Array=L2.toarray()\n",
    "L2_Array"
   ]
  },
  {
   "cell_type": "code",
   "execution_count": 201,
   "metadata": {},
   "outputs": [
    {
     "data": {
      "text/plain": [
       "array([ 4.00000000e+00,  1.00000000e+00, -1.51136928e-16,  3.00000000e+00,\n",
       "        2.00000000e+00,  0.00000000e+00,  0.00000000e+00])"
      ]
     },
     "execution_count": 201,
     "metadata": {},
     "output_type": "execute_result"
    }
   ],
   "source": [
    "LA.eigvals(L2_Array)"
   ]
  },
  {
   "cell_type": "code",
   "execution_count": null,
   "metadata": {},
   "outputs": [],
   "source": []
  },
  {
   "cell_type": "code",
   "execution_count": 151,
   "metadata": {},
   "outputs": [
    {
     "data": {
      "text/plain": [
       "matrix([[0., 0., 1., 0., 0., 1., 0., 0.],\n",
       "        [0., 0., 1., 1., 0., 1., 0., 1.],\n",
       "        [1., 1., 0., 1., 0., 1., 1., 0.],\n",
       "        [0., 1., 1., 0., 0., 1., 0., 1.],\n",
       "        [0., 0., 0., 0., 0., 0., 1., 1.],\n",
       "        [1., 1., 1., 1., 0., 0., 0., 0.],\n",
       "        [0., 0., 1., 0., 1., 0., 0., 1.],\n",
       "        [0., 1., 0., 1., 1., 0., 1., 0.]])"
      ]
     },
     "execution_count": 151,
     "metadata": {},
     "output_type": "execute_result"
    }
   ],
   "source": [
    "mat_shape(A,8)"
   ]
  },
  {
   "cell_type": "code",
   "execution_count": null,
   "metadata": {},
   "outputs": [],
   "source": []
  },
  {
   "cell_type": "code",
   "execution_count": null,
   "metadata": {},
   "outputs": [],
   "source": []
  },
  {
   "cell_type": "code",
   "execution_count": 59,
   "metadata": {},
   "outputs": [
    {
     "name": "stdout",
     "output_type": "stream",
     "text": [
      "PurePoly(1.0*lamda**80 - 2832.0*lamda**79 + 3957527.0*lamda**78 - 3638000424.0*lamda**77 + 2474529176652.0*lamda**76 - 1.32822120316181e+15*lamda**75 + 5.85937504204754e+17*lamda**74 - 2.18471059548297e+20*lamda**73 + 7.02708428798801e+22*lamda**72 - 1.98040620836678e+25*lamda**71 + 4.95043973078766e+27*lamda**70 - 1.10846891391841e+30*lamda**69 + 2.24135244126896e+32*lamda**68 - 4.12040616395588e+34*lamda**67 + 6.92624283666572e+36*lamda**66 - 1.06981565422545e+39*lamda**65 + 1.52478817351673e+41*lamda**64 - 2.01278483025738e+43*lamda**63 + 2.46872484649411e+45*lamda**62 - 2.82143118809806e+47*lamda**61 + 3.01217521091884e+49*lamda**60 - 3.01076023454888e+51*lamda**59 + 2.82308093384093e+53*lamda**58 - 2.48768797851706e+55*lamda**57 + 2.06341821495185e+57*lamda**56 - 1.61331447044932e+59*lamda**55 + 1.19055318478278e+61*lamda**54 - 8.30188183187367e+62*lamda**53 + 5.47583144489353e+64*lamda**52 - 3.41955527382633e+66*lamda**51 + 2.02344708560275e+68*lamda**50 - 1.1353587176143e+70*lamda**49 + 6.04466576694045e+71*lamda**48 - 3.05529630155563e+73*lamda**47 + 1.4668548837413e+75*lamda**46 - 6.69196102054409e+76*lamda**45 + 2.90203005181817e+78*lamda**44 - 1.19661320612331e+80*lamda**43 + 4.6924799699273e+81*lamda**42 - 1.75030652830204e+83*lamda**41 + 6.21052863186907e+84*lamda**40 - 2.09632796769999e+86*lamda**39 + 6.73121303592155e+87*lamda**38 - 2.05585199872385e+89*lamda**37 + 5.97157843189601e+90*lamda**36 - 1.64927294262229e+92*lamda**35 + 4.32993703025151e+93*lamda**34 - 1.0802074137531e+95*lamda**33 + 2.55970719545414e+96*lamda**32 - 5.7586510730641e+97*lamda**31 + 1.22929293727559e+99*lamda**30 - 2.48837569384389e+100*lamda**29 + 4.77294938062077e+101*lamda**28 - 8.66786471363418e+102*lamda**27 + 1.48899189426141e+104*lamda**26 - 2.41702094734428e+105*lamda**25 + 3.70320019119742e+106*lamda**24 - 5.34842387180551e+107*lamda**23 + 7.27119489297182e+108*lamda**22 - 9.29018782194002e+109*lamda**21 + 1.11357085887575e+111*lamda**20 - 1.24966182184779e+112*lamda**19 + 1.31112903843642e+113*lamda**18 - 1.27386605016823e+114*lamda**17 + 1.23033150178791e+115*lamda**16 - 1.07866671660992e+116*lamda**15 + 6.34105878055423e+117*lamda**14 - 1.6036514440387e+119*lamda**13 + 1.61150205933559e+121*lamda**12 - 1.4372038543217e+123*lamda**11 + 2.25017304969265e+125*lamda**10 - 2.90742845835405e+126*lamda**9 + 7.97391093189997e+128*lamda**8 - 2.88615650305312e+130*lamda**7 + 4.06638727749045e+132*lamda**6 - 2.03701709967983e+134*lamda**5 + 2.56792551272304e+136*lamda**4 + 2.10113818575779e+137*lamda**3 + 1.10206995836652e+140*lamda**2 + 2.97843667386097e+141*lamda - 2.03442397575959e+143, lamda, domain='RR')\n",
      "[1.00000000000000, -2832.00000000000, 3957527.00000000, -3638000424.00000, 2474529176652.00, -1.32822120316181e+15, 5.85937504204754e+17, -2.18471059548297e+20, 7.02708428798801e+22, -1.98040620836678e+25, 4.95043973078766e+27, -1.10846891391841e+30, 2.24135244126896e+32, -4.12040616395588e+34, 6.92624283666572e+36, -1.06981565422545e+39, 1.52478817351673e+41, -2.01278483025738e+43, 2.46872484649411e+45, -2.82143118809806e+47, 3.01217521091884e+49, -3.01076023454888e+51, 2.82308093384093e+53, -2.48768797851706e+55, 2.06341821495185e+57, -1.61331447044932e+59, 1.19055318478278e+61, -8.30188183187367e+62, 5.47583144489353e+64, -3.41955527382633e+66, 2.02344708560275e+68, -1.13535871761430e+70, 6.04466576694045e+71, -3.05529630155563e+73, 1.46685488374130e+75, -6.69196102054409e+76, 2.90203005181817e+78, -1.19661320612331e+80, 4.69247996992730e+81, -1.75030652830204e+83, 6.21052863186907e+84, -2.09632796769999e+86, 6.73121303592155e+87, -2.05585199872385e+89, 5.97157843189601e+90, -1.64927294262229e+92, 4.32993703025151e+93, -1.08020741375310e+95, 2.55970719545414e+96, -5.75865107306410e+97, 1.22929293727559e+99, -2.48837569384389e+100, 4.77294938062077e+101, -8.66786471363418e+102, 1.48899189426141e+104, -2.41702094734428e+105, 3.70320019119742e+106, -5.34842387180551e+107, 7.27119489297182e+108, -9.29018782194002e+109, 1.11357085887575e+111, -1.24966182184779e+112, 1.31112903843642e+113, -1.27386605016823e+114, 1.23033150178791e+115, -1.07866671660992e+116, 6.34105878055423e+117, -1.60365144403870e+119, 1.61150205933559e+121, -1.43720385432170e+123, 2.25017304969265e+125, -2.90742845835405e+126, 7.97391093189997e+128, -2.88615650305312e+130, 4.06638727749045e+132, -2.03701709967983e+134, 2.56792551272304e+136, 2.10113818575779e+137, 1.10206995836652e+140, 2.97843667386097e+141, -2.03442397575959e+143]\n"
     ]
    },
    {
     "data": {
      "text/plain": [
       "(None, None)"
      ]
     },
     "execution_count": 59,
     "metadata": {},
     "output_type": "execute_result"
    }
   ],
   "source": [
    "pol_char_from_lap(A,80)"
   ]
  },
  {
   "cell_type": "code",
   "execution_count": null,
   "metadata": {},
   "outputs": [],
   "source": []
  },
  {
   "cell_type": "code",
   "execution_count": null,
   "metadata": {},
   "outputs": [],
   "source": []
  },
  {
   "cell_type": "code",
   "execution_count": 58,
   "metadata": {},
   "outputs": [
    {
     "data": {
      "image/png": "[encoded data removed]",
      "text/plain": [
       "<Figure size 432x288 with 1 Axes>"
      ]
     },
     "metadata": {},
     "output_type": "display_data"
    }
   ],
   "source": [
    "plt_adj_graph(A,80)"
   ]
  },
  {
   "cell_type": "code",
   "execution_count": null,
   "metadata": {},
   "outputs": [],
   "source": []
  },
  {
   "cell_type": "markdown",
   "metadata": {},
   "source": [
    "Ejemplo 3.2 (curso en portugués)"
   ]
  },
  {
   "cell_type": "code",
   "execution_count": 248,
   "metadata": {},
   "outputs": [],
   "source": [
    "#creando la matriz de adyacencia \n",
    "\n",
    "mat_cic=np.matrix([[0,1,0,1,0,0],[0,1,0,1,0,0],[0,0,0,0,0,1],[1,0,1,0,0,0],[1,0,1,0,0,0],[0,0,0,0,1,0]])\n"
   ]
  },
  {
   "cell_type": "code",
   "execution_count": 249,
   "metadata": {},
   "outputs": [],
   "source": [
    "mat_cic_np=nx.from_numpy_matrix(mat_cic)"
   ]
  },
  {
   "cell_type": "code",
   "execution_count": 250,
   "metadata": {},
   "outputs": [
    {
     "data": {
      "image/png": "[encoded data removed]",
      "text/plain": [
       "<Figure size 432x288 with 1 Axes>"
      ]
     },
     "metadata": {},
     "output_type": "display_data"
    }
   ],
   "source": [
    "Graph3=nx.draw(mat_cic_np)"
   ]
  },
  {
   "cell_type": "code",
   "execution_count": null,
   "metadata": {},
   "outputs": [],
   "source": []
  },
  {
   "cell_type": "code",
   "execution_count": 233,
   "metadata": {},
   "outputs": [
    {
     "name": "stdout",
     "output_type": "stream",
     "text": [
      "[[1. 1. 0. 0. 0.]\n",
      " [1. 0. 1. 0. 0.]\n",
      " [0. 0. 1. 1. 0.]\n",
      " [0. 1. 0. 1. 0.]\n",
      " [0. 0. 0. 0. 1.]\n",
      " [0. 0. 0. 0. 1.]]\n"
     ]
    }
   ],
   "source": [
    "print(nx.incidence_matrix(mat_cic_np).toarray())"
   ]
  },
  {
   "cell_type": "code",
   "execution_count": 235,
   "metadata": {},
   "outputs": [
    {
     "name": "stdout",
     "output_type": "stream",
     "text": [
      "[[ 1.  1. -0. -0. -0.]\n",
      " [-1. -0.  1. -0. -0.]\n",
      " [-0. -0. -1.  1. -0.]\n",
      " [-0. -1. -0. -1. -0.]\n",
      " [-0. -0. -0. -0.  1.]\n",
      " [-0. -0. -0. -0. -1.]]\n"
     ]
    }
   ],
   "source": [
    "print(-nx.incidence_matrix(mat_cic_np,oriented=True).toarray())"
   ]
  },
  {
   "cell_type": "code",
   "execution_count": null,
   "metadata": {},
   "outputs": [],
   "source": []
  },
  {
   "cell_type": "code",
   "execution_count": null,
   "metadata": {},
   "outputs": [],
   "source": []
  },
  {
   "cell_type": "code",
   "execution_count": 230,
   "metadata": {},
   "outputs": [],
   "source": [
    "M1=nx.incidence_matrix(mat_cic_np).toarray()"
   ]
  },
  {
   "cell_type": "code",
   "execution_count": 231,
   "metadata": {},
   "outputs": [],
   "source": [
    "M2=np.array([-1,1,-1,1,0])"
   ]
  },
  {
   "cell_type": "code",
   "execution_count": 232,
   "metadata": {},
   "outputs": [
    {
     "name": "stdout",
     "output_type": "stream",
     "text": [
      "[ 0. -2.  0.  2.  0.  0.]\n"
     ]
    }
   ],
   "source": [
    "print(M1.dot(M2))"
   ]
  },
  {
   "cell_type": "code",
   "execution_count": null,
   "metadata": {},
   "outputs": [],
   "source": []
  },
  {
   "cell_type": "code",
   "execution_count": null,
   "metadata": {},
   "outputs": [],
   "source": [
    "pol_char_from_lap(A,10)"
   ]
  },
  {
   "cell_type": "code",
   "execution_count": null,
   "metadata": {},
   "outputs": [],
   "source": []
  },
  {
   "cell_type": "code",
   "execution_count": 108,
   "metadata": {},
   "outputs": [
    {
     "data": {
      "image/png": "[encoded data removed]",
      "text/plain": [
       "<Figure size 432x288 with 1 Axes>"
      ]
     },
     "metadata": {},
     "output_type": "display_data"
    }
   ],
   "source": [
    "plt_adj_graph(A,7)"
   ]
  },
  {
   "cell_type": "code",
   "execution_count": 116,
   "metadata": {},
   "outputs": [
    {
     "data": {
      "text/plain": [
       "NoneType"
      ]
     },
     "execution_count": 116,
     "metadata": {},
     "output_type": "execute_result"
    },
    {
     "data": {
      "image/png": "[encoded data removed]",
      "text/plain": [
       "<Figure size 432x288 with 1 Axes>"
      ]
     },
     "metadata": {},
     "output_type": "display_data"
    }
   ],
   "source": [
    "type(plt_adj_graph(A,7))"
   ]
  },
  {
   "cell_type": "code",
   "execution_count": null,
   "metadata": {},
   "outputs": [],
   "source": []
  },
  {
   "cell_type": "code",
   "execution_count": null,
   "metadata": {},
   "outputs": [],
   "source": []
  },
  {
   "cell_type": "code",
   "execution_count": null,
   "metadata": {},
   "outputs": [],
   "source": []
  },
  {
   "cell_type": "code",
   "execution_count": null,
   "metadata": {},
   "outputs": [],
   "source": []
  },
  {
   "cell_type": "code",
   "execution_count": null,
   "metadata": {},
   "outputs": [],
   "source": []
  },
  {
   "cell_type": "code",
   "execution_count": null,
   "metadata": {},
   "outputs": [],
   "source": []
  },
  {
   "cell_type": "code",
   "execution_count": null,
   "metadata": {},
   "outputs": [],
   "source": []
  },
  {
   "cell_type": "code",
   "execution_count": null,
   "metadata": {},
   "outputs": [],
   "source": []
  },
  {
   "cell_type": "code",
   "execution_count": null,
   "metadata": {},
   "outputs": [],
   "source": []
  },
  {
   "cell_type": "code",
   "execution_count": 81,
   "metadata": {},
   "outputs": [
    {
     "data": {
      "text/plain": [
       "matrix([[0., 0., 1., 0., 0., 1., 0.],\n",
       "        [0., 0., 1., 1., 0., 1., 0.],\n",
       "        [1., 1., 0., 1., 0., 1., 1.],\n",
       "        [0., 1., 1., 0., 0., 1., 0.],\n",
       "        [0., 0., 0., 0., 0., 0., 1.],\n",
       "        [1., 1., 1., 1., 0., 0., 0.],\n",
       "        [0., 0., 1., 0., 1., 0., 0.]])"
      ]
     },
     "execution_count": 81,
     "metadata": {},
     "output_type": "execute_result"
    }
   ],
   "source": [
    "mat_shape(A,7)"
   ]
  },
  {
   "cell_type": "code",
   "execution_count": 82,
   "metadata": {},
   "outputs": [
    {
     "name": "stdout",
     "output_type": "stream",
     "text": [
      "PurePoly(1.0*lamda**7 - 10.0*lamda**5 - 10.0*lamda**4 + 11.0*lamda**3 + 14.0*lamda**2 - 2.0, lamda, domain='RR')\n",
      "[1.00000000000000, -10.0000000000000, -10.0000000000000, 11.0000000000000, 14.0000000000000, -2.00000000000000]\n"
     ]
    },
    {
     "data": {
      "text/plain": [
       "(None, None)"
      ]
     },
     "execution_count": 82,
     "metadata": {},
     "output_type": "execute_result"
    }
   ],
   "source": [
    "pol_char_from_adj(A,7)"
   ]
  },
  {
   "cell_type": "code",
   "execution_count": 90,
   "metadata": {},
   "outputs": [],
   "source": [
    "M7_2=mat_shape(A,7).dot(mat_shape(A,7))"
   ]
  },
  {
   "cell_type": "code",
   "execution_count": 91,
   "metadata": {},
   "outputs": [
    {
     "data": {
      "text/plain": [
       "matrix([[2., 2., 1., 2., 0., 1., 1.],\n",
       "        [2., 3., 2., 2., 0., 2., 1.],\n",
       "        [1., 2., 5., 2., 1., 3., 0.],\n",
       "        [2., 2., 2., 3., 0., 2., 1.],\n",
       "        [0., 0., 1., 0., 1., 0., 0.],\n",
       "        [1., 2., 3., 2., 0., 4., 1.],\n",
       "        [1., 1., 0., 1., 0., 1., 2.]])"
      ]
     },
     "execution_count": 91,
     "metadata": {},
     "output_type": "execute_result"
    }
   ],
   "source": [
    "M7_2"
   ]
  },
  {
   "cell_type": "code",
   "execution_count": 194,
   "metadata": {},
   "outputs": [
    {
     "data": {
      "text/plain": [
       "array([11.63782977,  3.77801098,  1.9020686 ,  0.12344153,  0.31041363,\n",
       "        1.24823549,  1.        ])"
      ]
     },
     "execution_count": 194,
     "metadata": {},
     "output_type": "execute_result"
    }
   ],
   "source": [
    "LA.eigvals(M7_2)"
   ]
  },
  {
   "cell_type": "code",
   "execution_count": 195,
   "metadata": {},
   "outputs": [
    {
     "data": {
      "text/plain": [
       "20"
      ]
     },
     "execution_count": 195,
     "metadata": {},
     "output_type": "execute_result"
    }
   ],
   "source": [
    "2+3+5+3+1+4+2"
   ]
  },
  {
   "cell_type": "code",
   "execution_count": 197,
   "metadata": {},
   "outputs": [
    {
     "data": {
      "text/plain": [
       "array([ 3.41142635, -1.94371062, -1.37915503, -0.55714777,  0.35134246,\n",
       "        1.1172446 , -1.        ])"
      ]
     },
     "execution_count": 197,
     "metadata": {},
     "output_type": "execute_result"
    }
   ],
   "source": [
    "LA.eigvals(mat_shape(A,7))"
   ]
  },
  {
   "cell_type": "code",
   "execution_count": 198,
   "metadata": {},
   "outputs": [
    {
     "data": {
      "text/plain": [
       "(array([ 3.41142635, -1.94371062, -1.37915503, -0.55714777,  0.35134246,\n",
       "         1.1172446 , -1.        ]),\n",
       " matrix([[-2.99077019e-01, -4.11933298e-01,  3.53348236e-01,\n",
       "           1.47583383e-01,  7.70661760e-01, -1.75646257e-02,\n",
       "          -1.41701710e-16],\n",
       "         [-4.23101963e-01, -2.71996548e-01,  2.04829862e-01,\n",
       "           5.28053623e-02, -4.17425509e-01, -1.67376439e-01,\n",
       "          -7.07106781e-01],\n",
       "         [-5.29381271e-01,  6.36171847e-01,  2.39784179e-01,\n",
       "          -4.68287607e-01,  1.17898259e-01,  1.56048439e-01,\n",
       "           3.92291473e-17],\n",
       "         [-4.23101963e-01, -2.71996548e-01,  2.04829862e-01,\n",
       "           5.28053623e-02, -4.17425509e-01, -1.67376439e-01,\n",
       "           7.07106781e-01],\n",
       "         [-4.97640292e-02,  2.29002640e-01,  2.65815904e-01,\n",
       "           6.79084781e-01, -1.34501305e-01,  6.28630652e-01,\n",
       "          -4.40453906e-16],\n",
       "         [-4.90897954e-01,  1.64507279e-01, -7.27106175e-01,\n",
       "           3.86061856e-01,  1.52867943e-01, -1.75672422e-01,\n",
       "           5.64856196e-17],\n",
       "         [-1.69766321e-01, -4.45114863e-01, -3.66601341e-01,\n",
       "          -3.78350569e-01, -4.72560201e-02,  7.02334200e-01,\n",
       "           1.88137418e-16]]))"
      ]
     },
     "execution_count": 198,
     "metadata": {},
     "output_type": "execute_result"
    }
   ],
   "source": [
    "LA.eig(mat_shape(A,7))"
   ]
  },
  {
   "cell_type": "code",
   "execution_count": null,
   "metadata": {},
   "outputs": [],
   "source": []
  },
  {
   "cell_type": "code",
   "execution_count": 98,
   "metadata": {},
   "outputs": [],
   "source": [
    "M7_3=M7_2.dot(mat_shape(A,7))"
   ]
  },
  {
   "cell_type": "code",
   "execution_count": 99,
   "metadata": {},
   "outputs": [
    {
     "data": {
      "text/plain": [
       "matrix([[ 2.,  4.,  8.,  4.,  1.,  7.,  1.],\n",
       "        [ 4.,  6., 10.,  7.,  1.,  9.,  2.],\n",
       "        [ 8., 10.,  8., 10.,  0., 10.,  6.],\n",
       "        [ 4.,  7., 10.,  6.,  1.,  9.,  2.],\n",
       "        [ 1.,  1.,  0.,  1.,  0.,  1.,  2.],\n",
       "        [ 7.,  9., 10.,  9.,  1.,  8.,  3.],\n",
       "        [ 1.,  2.,  6.,  2.,  2.,  3.,  0.]])"
      ]
     },
     "execution_count": 99,
     "metadata": {},
     "output_type": "execute_result"
    }
   ],
   "source": [
    "M7_3"
   ]
  },
  {
   "cell_type": "code",
   "execution_count": 196,
   "metadata": {},
   "outputs": [
    {
     "data": {
      "text/plain": [
       "30"
      ]
     },
     "execution_count": 196,
     "metadata": {},
     "output_type": "execute_result"
    }
   ],
   "source": [
    "2+6+8+6+0+8+0"
   ]
  },
  {
   "cell_type": "code",
   "execution_count": null,
   "metadata": {},
   "outputs": [],
   "source": []
  },
  {
   "cell_type": "code",
   "execution_count": 100,
   "metadata": {},
   "outputs": [],
   "source": [
    "M7_4=M7_3.dot(mat_shape(A,7))"
   ]
  },
  {
   "cell_type": "code",
   "execution_count": 101,
   "metadata": {},
   "outputs": [
    {
     "data": {
      "text/plain": [
       "matrix([[15., 19., 18., 19.,  1., 18.,  9.],\n",
       "        [19., 26., 28., 25.,  2., 27., 11.],\n",
       "        [18., 28., 44., 28.,  6., 36.,  8.],\n",
       "        [19., 25., 28., 26.,  2., 27., 11.],\n",
       "        [ 1.,  2.,  6.,  2.,  2.,  3.,  0.],\n",
       "        [18., 27., 36., 27.,  3., 35., 11.],\n",
       "        [ 9., 11.,  8., 11.,  0., 11.,  8.]])"
      ]
     },
     "execution_count": 101,
     "metadata": {},
     "output_type": "execute_result"
    }
   ],
   "source": [
    "M7_4"
   ]
  },
  {
   "cell_type": "code",
   "execution_count": null,
   "metadata": {},
   "outputs": [],
   "source": []
  },
  {
   "cell_type": "code",
   "execution_count": 92,
   "metadata": {},
   "outputs": [],
   "source": [
    "M7_5=M7_4.dot(mat_shape(A,7))"
   ]
  },
  {
   "cell_type": "code",
   "execution_count": 93,
   "metadata": {},
   "outputs": [],
   "source": [
    "M7_6=M7_5.dot(mat_shape(A,7))"
   ]
  },
  {
   "cell_type": "code",
   "execution_count": 94,
   "metadata": {},
   "outputs": [],
   "source": [
    "M7_7=M7_6.dot(mat_shape(A,7))"
   ]
  },
  {
   "cell_type": "code",
   "execution_count": 95,
   "metadata": {},
   "outputs": [],
   "source": [
    "M7_8=M7_7.dot(mat_shape(A,7))"
   ]
  },
  {
   "cell_type": "code",
   "execution_count": 96,
   "metadata": {},
   "outputs": [],
   "source": [
    "M7_9=M7_8.dot(mat_shape(A,7))"
   ]
  },
  {
   "cell_type": "code",
   "execution_count": 97,
   "metadata": {},
   "outputs": [
    {
     "data": {
      "text/plain": [
       "matrix([[19229., 27102., 33600., 27102.,  3107., 31284., 10977.],\n",
       "        [27102., 38275., 47684., 38274.,  4448., 44302., 15425.],\n",
       "        [33600., 47684., 60140., 47684.,  5738., 55554., 18966.],\n",
       "        [27102., 38274., 47684., 38275.,  4448., 44302., 15425.],\n",
       "        [ 3107.,  4448.,  5738.,  4448.,   572.,  5239.,  1724.],\n",
       "        [31284., 44302., 55554., 44302.,  5239., 51479., 17741.],\n",
       "        [10977., 15425., 18966., 15425.,  1724., 17741.,  6310.]])"
      ]
     },
     "execution_count": 97,
     "metadata": {},
     "output_type": "execute_result"
    }
   ],
   "source": [
    "M7_9.dot(mat_shape(A,7))"
   ]
  },
  {
   "cell_type": "code",
   "execution_count": null,
   "metadata": {},
   "outputs": [],
   "source": []
  },
  {
   "cell_type": "code",
   "execution_count": null,
   "metadata": {},
   "outputs": [],
   "source": []
  },
  {
   "cell_type": "code",
   "execution_count": null,
   "metadata": {},
   "outputs": [],
   "source": []
  },
  {
   "cell_type": "code",
   "execution_count": 73,
   "metadata": {},
   "outputs": [
    {
     "data": {
      "text/plain": [
       "array([ 3.41142635, -1.94371062, -1.37915503, -0.55714777,  0.35134246,\n",
       "        1.1172446 , -1.        ])"
      ]
     },
     "execution_count": 73,
     "metadata": {},
     "output_type": "execute_result"
    }
   ],
   "source": [
    "LA.eigvals(mat_shape(A,7))"
   ]
  },
  {
   "cell_type": "code",
   "execution_count": null,
   "metadata": {},
   "outputs": [],
   "source": []
  },
  {
   "cell_type": "code",
   "execution_count": 72,
   "metadata": {},
   "outputs": [
    {
     "data": {
      "text/plain": [
       "matrix([[0., 0., 1., 0., 0., 1., 0.],\n",
       "        [0., 0., 1., 1., 0., 1., 0.],\n",
       "        [1., 1., 0., 1., 0., 1., 1.],\n",
       "        [0., 1., 1., 0., 0., 1., 0.],\n",
       "        [0., 0., 0., 0., 0., 0., 1.],\n",
       "        [1., 1., 1., 1., 0., 0., 0.],\n",
       "        [0., 0., 1., 0., 1., 0., 0.]])"
      ]
     },
     "execution_count": 72,
     "metadata": {},
     "output_type": "execute_result"
    }
   ],
   "source": [
    "mat_shape(A,7)"
   ]
  },
  {
   "cell_type": "code",
   "execution_count": null,
   "metadata": {},
   "outputs": [],
   "source": []
  },
  {
   "cell_type": "code",
   "execution_count": 127,
   "metadata": {},
   "outputs": [
    {
     "data": {
      "text/plain": [
       "7"
      ]
     },
     "execution_count": 127,
     "metadata": {},
     "output_type": "execute_result"
    },
    {
     "data": {
      "image/png": "[encoded data removed]",
      "text/plain": [
       "<Figure size 432x288 with 1 Axes>"
      ]
     },
     "metadata": {},
     "output_type": "display_data"
    }
   ],
   "source": [
    "    new_data=A.iloc[:7,:7]\n",
    "    \n",
    "    new_data2=new_data.apply(lambda x:(np.where(x<threshold,0,x)))\n",
    "    adj_mat=new_data2.apply(lambda x:(np.where(x>threshold,1,x)))\n",
    "    \n",
    "    #completar la matriz triangular superior para tener la forma completa de una matriz\n",
    "    # simétrica\n",
    "    \n",
    "    adj_mod=np.matrix(adj_mat.fillna(0))\n",
    "    adj_mod_trans=adj_mod.transpose()\n",
    "    simm_mat=adj_mod+adj_mod_trans\n",
    "    adj_to_graph=nx.from_numpy_matrix(simm_mat)\n",
    "    Graph=nx.draw(adj_to_graph)\n",
    "    adj_to_graph.number_of_nodes()"
   ]
  },
  {
   "cell_type": "code",
   "execution_count": 128,
   "metadata": {},
   "outputs": [
    {
     "ename": "KeyError",
     "evalue": "1",
     "output_type": "error",
     "traceback": [
      "\u001b[0;31m---------------------------------------------------------------------------\u001b[0m",
      "\u001b[0;31mKeyError\u001b[0m                                  Traceback (most recent call last)",
      "\u001b[0;32m<ipython-input-128-471bdd6e3a8d>\u001b[0m in \u001b[0;36m<module>\u001b[0;34m\u001b[0m\n\u001b[0;32m----> 1\u001b[0;31m \u001b[0madj_to_graph\u001b[0m\u001b[0;34m[\u001b[0m\u001b[0;36m0\u001b[0m\u001b[0;34m]\u001b[0m\u001b[0;34m[\u001b[0m\u001b[0;36m1\u001b[0m\u001b[0;34m]\u001b[0m\u001b[0;34m\u001b[0m\u001b[0;34m\u001b[0m\u001b[0m\n\u001b[0m",
      "\u001b[0;32m~/opt/anaconda3/lib/python3.7/site-packages/networkx/classes/coreviews.py\u001b[0m in \u001b[0;36m__getitem__\u001b[0;34m(self, key)\u001b[0m\n\u001b[1;32m     52\u001b[0m \u001b[0;34m\u001b[0m\u001b[0m\n\u001b[1;32m     53\u001b[0m     \u001b[0;32mdef\u001b[0m \u001b[0m__getitem__\u001b[0m\u001b[0;34m(\u001b[0m\u001b[0mself\u001b[0m\u001b[0;34m,\u001b[0m \u001b[0mkey\u001b[0m\u001b[0;34m)\u001b[0m\u001b[0;34m:\u001b[0m\u001b[0;34m\u001b[0m\u001b[0;34m\u001b[0m\u001b[0m\n\u001b[0;32m---> 54\u001b[0;31m         \u001b[0;32mreturn\u001b[0m \u001b[0mself\u001b[0m\u001b[0;34m.\u001b[0m\u001b[0m_atlas\u001b[0m\u001b[0;34m[\u001b[0m\u001b[0mkey\u001b[0m\u001b[0;34m]\u001b[0m\u001b[0;34m\u001b[0m\u001b[0;34m\u001b[0m\u001b[0m\n\u001b[0m\u001b[1;32m     55\u001b[0m \u001b[0;34m\u001b[0m\u001b[0m\n\u001b[1;32m     56\u001b[0m     \u001b[0;32mdef\u001b[0m \u001b[0mcopy\u001b[0m\u001b[0;34m(\u001b[0m\u001b[0mself\u001b[0m\u001b[0;34m)\u001b[0m\u001b[0;34m:\u001b[0m\u001b[0;34m\u001b[0m\u001b[0;34m\u001b[0m\u001b[0m\n",
      "\u001b[0;31mKeyError\u001b[0m: 1"
     ]
    }
   ],
   "source": [
    "adj_to_graph[0][1]"
   ]
  },
  {
   "cell_type": "code",
   "execution_count": null,
   "metadata": {},
   "outputs": [],
   "source": []
  },
  {
   "cell_type": "code",
   "execution_count": 131,
   "metadata": {},
   "outputs": [
    {
     "data": {
      "text/plain": [
       "networkx.classes.graph.Graph"
      ]
     },
     "execution_count": 131,
     "metadata": {},
     "output_type": "execute_result"
    }
   ],
   "source": [
    "type(nx.Graph())"
   ]
  },
  {
   "cell_type": "code",
   "execution_count": 132,
   "metadata": {},
   "outputs": [
    {
     "data": {
      "text/plain": [
       "networkx.classes.graph.Graph"
      ]
     },
     "execution_count": 132,
     "metadata": {},
     "output_type": "execute_result"
    }
   ],
   "source": [
    "type(adj_to_graph)"
   ]
  },
  {
   "cell_type": "code",
   "execution_count": null,
   "metadata": {},
   "outputs": [],
   "source": []
  },
  {
   "cell_type": "code",
   "execution_count": 133,
   "metadata": {},
   "outputs": [
    {
     "data": {
      "text/plain": [
       "NodeView((0, 1, 2, 3, 4, 5, 6))"
      ]
     },
     "execution_count": 133,
     "metadata": {},
     "output_type": "execute_result"
    }
   ],
   "source": [
    "adj_to_graph.nodes"
   ]
  },
  {
   "cell_type": "code",
   "execution_count": 148,
   "metadata": {},
   "outputs": [
    {
     "data": {
      "text/plain": [
       "{}"
      ]
     },
     "execution_count": 148,
     "metadata": {},
     "output_type": "execute_result"
    }
   ],
   "source": [
    "adj_to_graph.nodes[6]"
   ]
  },
  {
   "cell_type": "code",
   "execution_count": 150,
   "metadata": {},
   "outputs": [
    {
     "data": {
      "text/plain": [
       "networkx.classes.reportviews.NodeView"
      ]
     },
     "execution_count": 150,
     "metadata": {},
     "output_type": "execute_result"
    }
   ],
   "source": [
    "type(adj_to_graph.nodes)"
   ]
  },
  {
   "cell_type": "code",
   "execution_count": null,
   "metadata": {},
   "outputs": [],
   "source": []
  },
  {
   "cell_type": "code",
   "execution_count": 155,
   "metadata": {},
   "outputs": [
    {
     "ename": "TypeError",
     "evalue": "'NodeView' object does not support item assignment",
     "output_type": "error",
     "traceback": [
      "\u001b[0;31m---------------------------------------------------------------------------\u001b[0m",
      "\u001b[0;31mTypeError\u001b[0m                                 Traceback (most recent call last)",
      "\u001b[0;32m<ipython-input-155-7541a4c19174>\u001b[0m in \u001b[0;36m<module>\u001b[0;34m\u001b[0m\n\u001b[0;32m----> 1\u001b[0;31m \u001b[0madj_to_graph\u001b[0m\u001b[0;34m.\u001b[0m\u001b[0mnodes\u001b[0m\u001b[0;34m[\u001b[0m\u001b[0;36m6\u001b[0m\u001b[0;34m]\u001b[0m\u001b[0;34m=\u001b[0m\u001b[0;34m{\u001b[0m\u001b[0;34m'v1'\u001b[0m\u001b[0;34m}\u001b[0m\u001b[0;34m\u001b[0m\u001b[0;34m\u001b[0m\u001b[0m\n\u001b[0m",
      "\u001b[0;31mTypeError\u001b[0m: 'NodeView' object does not support item assignment"
     ]
    }
   ],
   "source": [
    "adj_to_graph.nodes[6]={'v1'}"
   ]
  },
  {
   "cell_type": "code",
   "execution_count": null,
   "metadata": {},
   "outputs": [],
   "source": []
  },
  {
   "cell_type": "code",
   "execution_count": 164,
   "metadata": {},
   "outputs": [
    {
     "data": {
      "text/plain": [
       "<matplotlib.collections.PathCollection at 0xa29d6af10>"
      ]
     },
     "execution_count": 164,
     "metadata": {},
     "output_type": "execute_result"
    },
    {
     "data": {
      "text/plain": [
       "<matplotlib.collections.PathCollection at 0xa29a0e450>"
      ]
     },
     "execution_count": 164,
     "metadata": {},
     "output_type": "execute_result"
    },
    {
     "data": {
      "text/plain": [
       "{0: Text(0.9971991887815647, -0.07988463186028864, '$a$'),\n",
       " 1: Text(0.46340416198305473, 0.708456815540458, '$b$'),\n",
       " 2: Text(-0.36983624749882377, 0.8013385047675874, '$c$'),\n",
       " 3: Text(0.23906278324779054, 0.034621292716310995, '$d$'),\n",
       " 4: Text(0.3709624652837578, -0.8015861098290774, '$\\\\alpha$'),\n",
       " 5: Text(-0.46109272975146043, -0.7087856746810369, '$\\\\beta$'),\n",
       " 6: Text(-1.0, 0.07975616070283595, '$\\\\gamma$'),\n",
       " 7: Text(-0.23969962204588438, -0.033916357356788364, '$\\\\delta$')}"
      ]
     },
     "execution_count": 164,
     "metadata": {},
     "output_type": "execute_result"
    },
    {
     "data": {
      "text/plain": [
       "(-1.1568324825389518,\n",
       " 1.134756405753045,\n",
       " -0.9427443977507297,\n",
       " 0.938256595767745)"
      ]
     },
     "execution_count": 164,
     "metadata": {},
     "output_type": "execute_result"
    },
    {
     "data": {
      "image/png": "[encoded data removed]",
      "text/plain": [
       "<Figure size 432x288 with 1 Axes>"
      ]
     },
     "metadata": {},
     "output_type": "display_data"
    }
   ],
   "source": [
    "GG=nx.cubical_graph()\n",
    "pos=nx.spring_layout(GG)\n",
    "nx.draw_networkx_nodes(GG,pos,\n",
    "                       nodelist=[0,1,2,3],\n",
    "                       node_color='r',\n",
    "                       node_size=500,\n",
    "                       alpha=0.8)\n",
    "nx.draw_networkx_nodes(GG,pos,\n",
    "                       nodelist=[4,5,6,7],\n",
    "                       node_color='b',\n",
    "                       node_size=500,\n",
    "                       alpha=0.8)\n",
    "labels={}\n",
    "labels[0]=r'$a$'\n",
    "labels[1]=r'$b$'\n",
    "labels[2]=r'$c$'\n",
    "labels[3]=r'$d$'\n",
    "labels[4]=r'$\\alpha$'\n",
    "labels[5]=r'$\\beta$'\n",
    "labels[6]=r'$\\gamma$'\n",
    "labels[7]=r'$\\delta$'\n",
    "nx.draw_networkx_labels(GG,pos,labels,font_size=16)\n",
    "\n",
    "plt.axis('off')\n",
    "plt.savefig(\"labels_and_colors.png\")\n",
    "plt.show()"
   ]
  },
  {
   "cell_type": "code",
   "execution_count": null,
   "metadata": {},
   "outputs": [],
   "source": []
  },
  {
   "cell_type": "code",
   "execution_count": 158,
   "metadata": {},
   "outputs": [],
   "source": []
  },
  {
   "cell_type": "code",
   "execution_count": 163,
   "metadata": {},
   "outputs": [
    {
     "data": {
      "text/plain": [
       "{0: Text(-1.0, 0.2861199304927824, '$a$'),\n",
       " 1: Text(-0.23670433614820313, 0.9665090724630802, '$b$'),\n",
       " 2: Text(0.6340199606082222, 0.6237821635475986, '$c$'),\n",
       " 3: Text(-0.2198822981719682, -0.10665855784744156, '$d$'),\n",
       " 4: Text(-0.6303213579764799, -0.6227668353010888, '$\\\\alpha$'),\n",
       " 5: Text(0.2322814824162799, -0.9645011829117699, '$\\\\beta$'),\n",
       " 6: Text(0.9962745003960678, -0.291493577997923, '$\\\\gamma$'),\n",
       " 7: Text(0.22433204887608202, 0.10900898755476202, '$\\\\delta$')}"
      ]
     },
     "execution_count": 163,
     "metadata": {},
     "output_type": "execute_result"
    },
    {
     "data": {
      "image/png": "[encoded data removed]",
      "text/plain": [
       "<Figure size 432x288 with 1 Axes>"
      ]
     },
     "metadata": {},
     "output_type": "display_data"
    }
   ],
   "source": []
  },
  {
   "cell_type": "code",
   "execution_count": null,
   "metadata": {},
   "outputs": [],
   "source": []
  },
  {
   "cell_type": "code",
   "execution_count": null,
   "metadata": {},
   "outputs": [],
   "source": [
    "GG=nx.cubical_graph()\n",
    "pos=nx.spring_layout(GG)"
   ]
  },
  {
   "cell_type": "code",
   "execution_count": 193,
   "metadata": {},
   "outputs": [
    {
     "data": {
      "text/plain": [
       "<matplotlib.collections.PathCollection at 0xa2b001690>"
      ]
     },
     "execution_count": 193,
     "metadata": {},
     "output_type": "execute_result"
    },
    {
     "data": {
      "text/plain": [
       "<matplotlib.collections.PathCollection at 0xa2b158d50>"
      ]
     },
     "execution_count": 193,
     "metadata": {},
     "output_type": "execute_result"
    },
    {
     "data": {
      "text/plain": [
       "<matplotlib.collections.LineCollection at 0xa2b15ba10>"
      ]
     },
     "execution_count": 193,
     "metadata": {},
     "output_type": "execute_result"
    },
    {
     "data": {
      "text/plain": [
       "{0: Text(0.01420101347310097, -0.5409878733320249, '$v_1$'),\n",
       " 1: Text(0.6318159938544095, -0.11751224744791129, '$v_2$'),\n",
       " 2: Text(0.062487450740540906, -0.034985331923087296, '$v_3$'),\n",
       " 3: Text(0.4657023301792239, 0.1386569058154794, '$v_4$'),\n",
       " 4: Text(-1.0, 0.5626017271959897, '$v_5$'),\n",
       " 5: Text(0.3556135338725776, -0.30932455053766905, '$v_6$'),\n",
       " 6: Text(-0.5298203221198527, 0.3015513702292236, '$v_7$')}"
      ]
     },
     "execution_count": 193,
     "metadata": {},
     "output_type": "execute_result"
    },
    {
     "data": {
      "text/plain": [
       "(-1.109658049181442,\n",
       " 0.7497276094790013,\n",
       " -0.6523691515413572,\n",
       " 0.6668219605789608)"
      ]
     },
     "execution_count": 193,
     "metadata": {},
     "output_type": "execute_result"
    },
    {
     "data": {
      "image/png": "[encoded data removed]",
      "text/plain": [
       "<Figure size 432x288 with 1 Axes>"
      ]
     },
     "metadata": {},
     "output_type": "display_data"
    }
   ],
   "source": [
    "    new_data=A.iloc[:7,:7]\n",
    "    \n",
    "    new_data2=new_data.apply(lambda x:(np.where(x<threshold,0,x)))\n",
    "    adj_mat=new_data2.apply(lambda x:(np.where(x>threshold,1,x)))\n",
    "    \n",
    "    #completar la matriz triangular superior para tener la forma completa de una matriz\n",
    "    # simétrica\n",
    "    \n",
    "    adj_mod=np.matrix(adj_mat.fillna(0))\n",
    "    adj_mod_trans=adj_mod.transpose()\n",
    "    simm_mat=adj_mod+adj_mod_trans\n",
    "    adj_to_graph=nx.from_numpy_matrix(simm_mat)\n",
    "    \n",
    "    \n",
    "    pos=nx.spring_layout(adj_to_graph)\n",
    "    \n",
    "    nx.draw_networkx_nodes(adj_to_graph,pos,\n",
    "                       nodelist=[0,1,2,3],\n",
    "                       node_color='r',\n",
    "                       node_size=500,\n",
    "                       alpha=0.8)\n",
    "    nx.draw_networkx_nodes(adj_to_graph,pos,\n",
    "                       nodelist=[4,5,6],\n",
    "                       node_color='r',\n",
    "                       node_size=500,\n",
    "                       alpha=0.8)\n",
    "    \n",
    "    nx.draw_networkx_edges(adj_to_graph,pos,width=1.0,alpha=0.5)\n",
    "    \n",
    "labels={}\n",
    "labels[0]=r'$v_1$'\n",
    "labels[1]=r'$v_2$'\n",
    "labels[2]=r'$v_3$'\n",
    "labels[3]=r'$v_4$'\n",
    "labels[4]=r'$v_5$'\n",
    "labels[5]=r'$v_6$'\n",
    "labels[6]=r'$v_7$'\n",
    "\n",
    "nx.draw_networkx_labels(adj_to_graph,pos,labels,font_size=16)\n",
    "\n",
    "plt.axis('off')\n",
    "plt.savefig(\"labels_and_colors1.png\")\n",
    "plt.show()"
   ]
  },
  {
   "cell_type": "code",
   "execution_count": null,
   "metadata": {},
   "outputs": [],
   "source": []
  },
  {
   "cell_type": "code",
   "execution_count": 199,
   "metadata": {},
   "outputs": [
    {
     "data": {
      "text/plain": [
       "(array([ 2.64118648,  0.72374212, -1.77571286, -1.        , -0.58921574]),\n",
       " array([[ 5.37076963e-01,  1.65485890e-01,  3.82027285e-01,\n",
       "         -7.07106781e-01,  1.95494013e-01],\n",
       "        [ 4.74749739e-01, -5.03023010e-01, -6.30117572e-01,\n",
       "         -3.81316250e-16,  3.52891460e-01],\n",
       "        [ 1.79748663e-01, -6.95030722e-01,  3.54853303e-01,\n",
       "          1.08628813e-16, -5.98917229e-01],\n",
       "        [ 4.06693710e-01,  4.57306229e-01, -4.30280474e-01,\n",
       "         -2.20937958e-16, -6.63573622e-01],\n",
       "        [ 5.37076963e-01,  1.65485890e-01,  3.82027285e-01,\n",
       "          7.07106781e-01,  1.95494013e-01]]))"
      ]
     },
     "execution_count": 199,
     "metadata": {},
     "output_type": "execute_result"
    }
   ],
   "source": [
    "LA.eig([[0,1,0,1,1],[1,0,1,0,1],[0,1,0,0,0],[1,0,0,0,1],[1,1,0,1,0]])"
   ]
  },
  {
   "cell_type": "code",
   "execution_count": null,
   "metadata": {},
   "outputs": [],
   "source": []
  },
  {
   "cell_type": "code",
   "execution_count": 201,
   "metadata": {},
   "outputs": [
    {
     "data": {
      "text/plain": [
       "(array([-1.,  2.,  1.]),\n",
       " array([[-8.16496581e-01,  5.77350269e-01,  1.57009246e-16],\n",
       "        [ 4.08248290e-01,  5.77350269e-01,  7.07106781e-01],\n",
       "        [-4.08248290e-01, -5.77350269e-01,  7.07106781e-01]]))"
      ]
     },
     "execution_count": 201,
     "metadata": {},
     "output_type": "execute_result"
    }
   ],
   "source": [
    "LA.eig([[0,1,-1],[1,1,0],[-1,0,1]])"
   ]
  },
  {
   "cell_type": "code",
   "execution_count": null,
   "metadata": {},
   "outputs": [],
   "source": []
  },
  {
   "cell_type": "code",
   "execution_count": null,
   "metadata": {},
   "outputs": [],
   "source": []
  }
 ],
 "metadata": {
  "kernelspec": {
   "display_name": "Python 3",
   "language": "python",
   "name": "python3"
  },
  "language_info": {
   "codemirror_mode": {
    "name": "ipython",
    "version": 3
   },
   "file_extension": ".py",
   "mimetype": "text/x-python",
   "name": "python",
   "nbconvert_exporter": "python",
   "pygments_lexer": "ipython3",
   "version": "3.7.4"
  }
 },
 "nbformat": 4,
 "nbformat_minor": 2
}
