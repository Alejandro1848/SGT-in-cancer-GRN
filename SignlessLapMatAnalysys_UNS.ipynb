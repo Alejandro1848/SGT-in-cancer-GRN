{
 "cells": [
  {
   "cell_type": "code",
   "execution_count": 1,
   "metadata": {},
   "outputs": [],
   "source": [
    "import numpy as np\n",
    "import pandas as pd \n",
    "import networkx as nx\n",
    "import math\n",
    "import sympy as sp\n",
    "import matplotlib.pyplot as plt\n",
    "import time\n",
    "\n",
    "from sympy import *\n",
    "from numpy import linalg as LA\n",
    "from numpy.linalg import matrix_rank"
   ]
  },
  {
   "cell_type": "code",
   "execution_count": 2,
   "metadata": {},
   "outputs": [
    {
     "name": "stdout",
     "output_type": "stream",
     "text": [
      "File directory:/Users/alex/Desktop/MatrizAdjSano/MatrizAdjSano/adjmatrix_UNS.txt\n"
     ]
    }
   ],
   "source": [
    "#Establecer directorio de datos\n",
    "\n",
    "DIR='/Users/alex/Desktop'\n",
    "FILE='/MatrizAdjSano/MatrizAdjSano/adjmatrix_UNS.txt'\n",
    "\n",
    "file='{}{}'.format(DIR,FILE)\n",
    "\n",
    "print('File directory:{}'.format(file))\n",
    "\n"
   ]
  },
  {
   "cell_type": "code",
   "execution_count": 3,
   "metadata": {},
   "outputs": [],
   "source": [
    "data=pd.read_table(file)"
   ]
  },
  {
   "cell_type": "code",
   "execution_count": 4,
   "metadata": {},
   "outputs": [
    {
     "data": {
      "text/html": [
       "<div>\n",
       "<style scoped>\n",
       "    .dataframe tbody tr th:only-of-type {\n",
       "        vertical-align: middle;\n",
       "    }\n",
       "\n",
       "    .dataframe tbody tr th {\n",
       "        vertical-align: top;\n",
       "    }\n",
       "\n",
       "    .dataframe thead th {\n",
       "        text-align: right;\n",
       "    }\n",
       "</style>\n",
       "<table border=\"1\" class=\"dataframe\">\n",
       "  <thead>\n",
       "    <tr style=\"text-align: right;\">\n",
       "      <th></th>\n",
       "      <th>ENSG00000000003</th>\n",
       "      <th>ENSG00000000419</th>\n",
       "      <th>ENSG00000000457</th>\n",
       "      <th>ENSG00000000460</th>\n",
       "      <th>ENSG00000000938</th>\n",
       "      <th>ENSG00000001036</th>\n",
       "      <th>ENSG00000001167</th>\n",
       "      <th>ENSG00000001460</th>\n",
       "      <th>ENSG00000001461</th>\n",
       "      <th>ENSG00000001497</th>\n",
       "      <th>...</th>\n",
       "      <th>hsa-mir-941-5</th>\n",
       "      <th>hsa-mir-942</th>\n",
       "      <th>hsa-mir-943</th>\n",
       "      <th>hsa-mir-944</th>\n",
       "      <th>hsa-mir-95</th>\n",
       "      <th>hsa-mir-9500</th>\n",
       "      <th>hsa-mir-96</th>\n",
       "      <th>hsa-mir-98</th>\n",
       "      <th>hsa-mir-99a</th>\n",
       "      <th>hsa-mir-99b</th>\n",
       "    </tr>\n",
       "  </thead>\n",
       "  <tbody>\n",
       "    <tr>\n",
       "      <td>0</td>\n",
       "      <td>1.0</td>\n",
       "      <td>0.103197</td>\n",
       "      <td>0.152306</td>\n",
       "      <td>0.107439</td>\n",
       "      <td>0.151863</td>\n",
       "      <td>0.050207</td>\n",
       "      <td>0.047916</td>\n",
       "      <td>0.152306</td>\n",
       "      <td>0.162813</td>\n",
       "      <td>0.032128</td>\n",
       "      <td>...</td>\n",
       "      <td>0.038779</td>\n",
       "      <td>0.016197</td>\n",
       "      <td>0.052990</td>\n",
       "      <td>0.062391</td>\n",
       "      <td>0.070298</td>\n",
       "      <td>0.038779</td>\n",
       "      <td>0.044215</td>\n",
       "      <td>0.259474</td>\n",
       "      <td>0.151107</td>\n",
       "      <td>0.074188</td>\n",
       "    </tr>\n",
       "    <tr>\n",
       "      <td>1</td>\n",
       "      <td>NaN</td>\n",
       "      <td>1.000000</td>\n",
       "      <td>0.120830</td>\n",
       "      <td>0.128810</td>\n",
       "      <td>0.121863</td>\n",
       "      <td>0.076382</td>\n",
       "      <td>0.064962</td>\n",
       "      <td>0.120830</td>\n",
       "      <td>0.250164</td>\n",
       "      <td>0.102605</td>\n",
       "      <td>...</td>\n",
       "      <td>0.108833</td>\n",
       "      <td>0.124237</td>\n",
       "      <td>0.120423</td>\n",
       "      <td>0.125844</td>\n",
       "      <td>0.020272</td>\n",
       "      <td>0.108833</td>\n",
       "      <td>0.127723</td>\n",
       "      <td>0.069236</td>\n",
       "      <td>0.199134</td>\n",
       "      <td>0.112418</td>\n",
       "    </tr>\n",
       "    <tr>\n",
       "      <td>2</td>\n",
       "      <td>NaN</td>\n",
       "      <td>NaN</td>\n",
       "      <td>1.000000</td>\n",
       "      <td>0.051569</td>\n",
       "      <td>0.107554</td>\n",
       "      <td>0.057486</td>\n",
       "      <td>0.038834</td>\n",
       "      <td>0.334130</td>\n",
       "      <td>0.248721</td>\n",
       "      <td>0.048574</td>\n",
       "      <td>...</td>\n",
       "      <td>0.059112</td>\n",
       "      <td>0.044184</td>\n",
       "      <td>0.051950</td>\n",
       "      <td>0.091854</td>\n",
       "      <td>0.071886</td>\n",
       "      <td>0.059112</td>\n",
       "      <td>0.030633</td>\n",
       "      <td>0.097257</td>\n",
       "      <td>0.045373</td>\n",
       "      <td>0.075525</td>\n",
       "    </tr>\n",
       "    <tr>\n",
       "      <td>3</td>\n",
       "      <td>NaN</td>\n",
       "      <td>NaN</td>\n",
       "      <td>NaN</td>\n",
       "      <td>1.000000</td>\n",
       "      <td>0.032182</td>\n",
       "      <td>0.069682</td>\n",
       "      <td>0.042741</td>\n",
       "      <td>0.051569</td>\n",
       "      <td>0.126349</td>\n",
       "      <td>0.051244</td>\n",
       "      <td>...</td>\n",
       "      <td>0.054916</td>\n",
       "      <td>0.133838</td>\n",
       "      <td>0.062266</td>\n",
       "      <td>0.132682</td>\n",
       "      <td>0.021764</td>\n",
       "      <td>0.054916</td>\n",
       "      <td>0.103477</td>\n",
       "      <td>0.123546</td>\n",
       "      <td>0.184396</td>\n",
       "      <td>0.057522</td>\n",
       "    </tr>\n",
       "    <tr>\n",
       "      <td>4</td>\n",
       "      <td>NaN</td>\n",
       "      <td>NaN</td>\n",
       "      <td>NaN</td>\n",
       "      <td>NaN</td>\n",
       "      <td>1.000000</td>\n",
       "      <td>0.214658</td>\n",
       "      <td>0.029944</td>\n",
       "      <td>0.107554</td>\n",
       "      <td>0.108194</td>\n",
       "      <td>0.094873</td>\n",
       "      <td>...</td>\n",
       "      <td>0.102947</td>\n",
       "      <td>0.156264</td>\n",
       "      <td>0.069491</td>\n",
       "      <td>0.128388</td>\n",
       "      <td>0.018218</td>\n",
       "      <td>0.102947</td>\n",
       "      <td>0.094818</td>\n",
       "      <td>0.178692</td>\n",
       "      <td>0.051804</td>\n",
       "      <td>0.064486</td>\n",
       "    </tr>\n",
       "  </tbody>\n",
       "</table>\n",
       "<p>5 rows × 16748 columns</p>\n",
       "</div>"
      ],
      "text/plain": [
       "   ENSG00000000003  ENSG00000000419  ENSG00000000457  ENSG00000000460  \\\n",
       "0              1.0         0.103197         0.152306         0.107439   \n",
       "1              NaN         1.000000         0.120830         0.128810   \n",
       "2              NaN              NaN         1.000000         0.051569   \n",
       "3              NaN              NaN              NaN         1.000000   \n",
       "4              NaN              NaN              NaN              NaN   \n",
       "\n",
       "   ENSG00000000938  ENSG00000001036  ENSG00000001167  ENSG00000001460  \\\n",
       "0         0.151863         0.050207         0.047916         0.152306   \n",
       "1         0.121863         0.076382         0.064962         0.120830   \n",
       "2         0.107554         0.057486         0.038834         0.334130   \n",
       "3         0.032182         0.069682         0.042741         0.051569   \n",
       "4         1.000000         0.214658         0.029944         0.107554   \n",
       "\n",
       "   ENSG00000001461  ENSG00000001497  ...  hsa-mir-941-5  hsa-mir-942  \\\n",
       "0         0.162813         0.032128  ...       0.038779     0.016197   \n",
       "1         0.250164         0.102605  ...       0.108833     0.124237   \n",
       "2         0.248721         0.048574  ...       0.059112     0.044184   \n",
       "3         0.126349         0.051244  ...       0.054916     0.133838   \n",
       "4         0.108194         0.094873  ...       0.102947     0.156264   \n",
       "\n",
       "   hsa-mir-943  hsa-mir-944  hsa-mir-95  hsa-mir-9500  hsa-mir-96  hsa-mir-98  \\\n",
       "0     0.052990     0.062391    0.070298      0.038779    0.044215    0.259474   \n",
       "1     0.120423     0.125844    0.020272      0.108833    0.127723    0.069236   \n",
       "2     0.051950     0.091854    0.071886      0.059112    0.030633    0.097257   \n",
       "3     0.062266     0.132682    0.021764      0.054916    0.103477    0.123546   \n",
       "4     0.069491     0.128388    0.018218      0.102947    0.094818    0.178692   \n",
       "\n",
       "   hsa-mir-99a  hsa-mir-99b  \n",
       "0     0.151107     0.074188  \n",
       "1     0.199134     0.112418  \n",
       "2     0.045373     0.075525  \n",
       "3     0.184396     0.057522  \n",
       "4     0.051804     0.064486  \n",
       "\n",
       "[5 rows x 16748 columns]"
      ]
     },
     "execution_count": 4,
     "metadata": {},
     "output_type": "execute_result"
    }
   ],
   "source": [
    "data.head()"
   ]
  },
  {
   "cell_type": "code",
   "execution_count": 5,
   "metadata": {},
   "outputs": [],
   "source": [
    "a=np.diag(np.ones(16748),0)\n",
    "A=data-a"
   ]
  },
  {
   "cell_type": "code",
   "execution_count": 6,
   "metadata": {},
   "outputs": [],
   "source": [
    "threshold = A.mean().mean()"
   ]
  },
  {
   "cell_type": "code",
   "execution_count": 7,
   "metadata": {},
   "outputs": [],
   "source": [
    "#https://stackoverflow.com/questions/13914920/networkx-extract-the-connected-component-containing-a-given-node-directed-grap?fbclid=IwAR0CLa62zO8y43PVzLDO54AZEo8Gozv4ai8hJDFKXXcgc8mZlN95wu3Xlio\n",
    "\n",
    "#Función para ver qué forma tiene la matriz del data set que estamos\n",
    "#estudiando \n",
    "\n",
    "def mat_shape(mat,n):\n",
    "    \n",
    "    new_data=mat.iloc[:n,:n]\n",
    "    \n",
    "    new_data2=new_data.apply(lambda x:(np.where(x<threshold,0,x)))\n",
    "    adj_mat=new_data2.apply(lambda x:(np.where(x>threshold,1,x)))\n",
    "    \n",
    "    #completar la matriz triangular superior para tener la forma completa de una matriz\n",
    "    # simétrica\n",
    "    \n",
    "    adj_mod=np.matrix(adj_mat.fillna(0))\n",
    "    adj_mod_trans=adj_mod.transpose()\n",
    "    simm_mat=adj_mod+adj_mod_trans\n",
    "    \n",
    "    \n",
    "    return simm_mat\n"
   ]
  },
  {
   "cell_type": "code",
   "execution_count": 8,
   "metadata": {},
   "outputs": [],
   "source": [
    "#Función para calcular el polinomio característico de la matriz laplaciana sin signo\n",
    "\n",
    "def pol_char_from_signless_lap(mat,n):\n",
    "    \n",
    "    \n",
    "    simm_mat=mat_shape(mat,n)\n",
    "    \n",
    "    Adj_to_nx=nx.from_numpy_matrix(simm_mat)\n",
    "    L_from_Adj=nx.laplacian_matrix(Adj_to_nx)\n",
    "    \n",
    "    L_arr=L_from_Adj.toarray()\n",
    "    L_np=np.matrix(L_arr)\n",
    "    \n",
    "    deg_Mat=L_np+simm_mat\n",
    "    \n",
    "    L_WO_Sign=deg_Mat+simm_mat\n",
    "    \n",
    "    pol_char=np.poly(L_WO_Sign)\n",
    "    \n",
    "    \n",
    "    \n",
    "    return pol_char"
   ]
  },
  {
   "cell_type": "code",
   "execution_count": 9,
   "metadata": {},
   "outputs": [
    {
     "data": {
      "text/plain": [
       "array([ 1., -6.,  9., -4.])"
      ]
     },
     "execution_count": 9,
     "metadata": {},
     "output_type": "execute_result"
    }
   ],
   "source": [
    "pol_char_from_signless_lap(A,3)"
   ]
  },
  {
   "cell_type": "code",
   "execution_count": 10,
   "metadata": {},
   "outputs": [],
   "source": [
    "#Función para obtener el polinomio característico de la matriz laplaciana sin signo\n",
    "\n",
    "#Esta función resultó estar poco optimizada pues el tiempo que tomaba para realiar los \n",
    "#cálculos era demasiado extenso debido a que daba un resultado simbólico y numérico\n",
    "\n",
    "def pol_char_from_lap(mat,n):\n",
    "    \n",
    "   \n",
    "    simm_mat=mat_shape(mat,n)\n",
    "    \n",
    "    Adj_to_nx=nx.from_numpy_matrix(simm_mat)\n",
    "    L_from_Adj=nx.laplacian_matrix(Adj_to_nx)\n",
    "    \n",
    "    L_arr=L_from_Adj.toarray()\n",
    "    L_np=np.matrix(L_arr)\n",
    "    \n",
    "    deg_Mat=L_np+simm_mat\n",
    "    \n",
    "    L_WO_Sign=deg_Mat+simm_mat\n",
    "    \n",
    "    data_modx2=sp.Matrix(L_WO_Sign)\n",
    "    \n",
    "    lamda=symbols(\"lamda\")\n",
    "    pol=data_modx2.charpoly(lamda)\n",
    "\n",
    "\n",
    "    \n",
    "    return print(pol),print(pol.coeffs())"
   ]
  },
  {
   "cell_type": "markdown",
   "metadata": {},
   "source": [
    "## Análisis de la matriz laplciana sin signo para datos UNS"
   ]
  },
  {
   "cell_type": "markdown",
   "metadata": {},
   "source": [
    "### 1000 genes"
   ]
  },
  {
   "cell_type": "code",
   "execution_count": 16,
   "metadata": {},
   "outputs": [
    {
     "data": {
      "text/plain": [
       "array([ 1.00000000e+00, -4.11320000e+05,  8.45009745e+10, ...,\n",
       "                   inf,            -inf,             inf])"
      ]
     },
     "execution_count": 16,
     "metadata": {},
     "output_type": "execute_result"
    }
   ],
   "source": [
    "pol_char_from_signless_lap(A,1000)"
   ]
  },
  {
   "cell_type": "markdown",
   "metadata": {},
   "source": [
    "## 2000 genes"
   ]
  },
  {
   "cell_type": "code",
   "execution_count": 17,
   "metadata": {},
   "outputs": [
    {
     "data": {
      "text/plain": [
       "array([ 1.00000000e+00, -1.64580800e+06,  1.35361396e+12, ...,\n",
       "                   inf,            -inf,             inf])"
      ]
     },
     "execution_count": 17,
     "metadata": {},
     "output_type": "execute_result"
    }
   ],
   "source": [
    "pol_char_from_signless_lap(A,2000)"
   ]
  },
  {
   "cell_type": "markdown",
   "metadata": {},
   "source": [
    "## 3000 genes "
   ]
  },
  {
   "cell_type": "code",
   "execution_count": 19,
   "metadata": {},
   "outputs": [
    {
     "name": "stdout",
     "output_type": "stream",
     "text": [
      "Los coeficientes del polinomiocaracterístico son [ 1.00000000e+00 -3.69525200e+06  6.82499985e+12 ...             inf\n",
      "            -inf             inf]\n",
      "El tiempo de ejecución fue de  44.23430857100038 segundos\n"
     ]
    }
   ],
   "source": [
    "inicio = time.perf_counter()\n",
    "\n",
    "polinomio = pol_char_from_signless_lap(A,3000)\n",
    "\n",
    "final = time.perf_counter()\n",
    "\n",
    "print(\"Los coeficientes del polinomiocaracterístico son\", polinomio)\n",
    "\n",
    "print(\"El tiempo de ejecución fue de \", final-inicio,\"segundos\")\n"
   ]
  },
  {
   "cell_type": "markdown",
   "metadata": {},
   "source": [
    "## 4000 genes"
   ]
  },
  {
   "cell_type": "code",
   "execution_count": 20,
   "metadata": {},
   "outputs": [
    {
     "name": "stdout",
     "output_type": "stream",
     "text": [
      "Los coeficientes del polinomiocaracterístico son [ 1.00000000e+00 -6.56978600e+06  2.15752514e+13 ...             inf\n",
      "            -inf             inf]\n",
      "El tiempo de ejecución fue de  107.77007454400018 segundos\n"
     ]
    }
   ],
   "source": [
    "inicio = time.perf_counter()\n",
    "\n",
    "polinomio = pol_char_from_signless_lap(A,4000)\n",
    "\n",
    "final = time.perf_counter()\n",
    "\n",
    "print(\"Los coeficientes del polinomio característico son\", polinomio)\n",
    "\n",
    "print(\"El tiempo de ejecución fue de \", final-inicio,\"segundos\")"
   ]
  },
  {
   "cell_type": "markdown",
   "metadata": {},
   "source": [
    "## 5000 genes"
   ]
  },
  {
   "cell_type": "code",
   "execution_count": 21,
   "metadata": {},
   "outputs": [
    {
     "name": "stdout",
     "output_type": "stream",
     "text": [
      "Los coeficientes del polinomio característico son [ 1.0000000e+00 -1.0210350e+07  5.2114444e+13 ...            inf\n",
      "           -inf            inf]\n",
      "El tiempo de ejecución fue de  205.6521276049998 segundos\n"
     ]
    }
   ],
   "source": [
    "inicio = time.perf_counter()\n",
    "\n",
    "polinomio = pol_char_from_signless_lap(A,5000)\n",
    "\n",
    "final = time.perf_counter()\n",
    "\n",
    "print(\"Los coeficientes del polinomio característico son\", polinomio)\n",
    "\n",
    "print(\"El tiempo de ejecución fue de \", final-inicio,\"segundos\")"
   ]
  },
  {
   "cell_type": "markdown",
   "metadata": {},
   "source": [
    "## 6000 genes\n"
   ]
  },
  {
   "cell_type": "code",
   "execution_count": 22,
   "metadata": {},
   "outputs": [
    {
     "name": "stdout",
     "output_type": "stream",
     "text": [
      "Los coeficientes del polinomio característico son [ 1.00000000e+00 -1.46468160e+07  1.07245459e+14 ...             inf\n",
      "            -inf             inf]\n",
      "El tiempo de ejecución fue de  436.0252981089998 segundos\n"
     ]
    }
   ],
   "source": [
    "inicio = time.perf_counter()\n",
    "\n",
    "polinomio = pol_char_from_signless_lap(A,6000)\n",
    "\n",
    "final = time.perf_counter()\n",
    "\n",
    "print(\"Los coeficientes del polinomio característico son\", polinomio)\n",
    "\n",
    "print(\"El tiempo de ejecución fue de \", final-inicio,\"segundos\")"
   ]
  },
  {
   "cell_type": "markdown",
   "metadata": {},
   "source": [
    "## 7000 genes"
   ]
  },
  {
   "cell_type": "code",
   "execution_count": 23,
   "metadata": {},
   "outputs": [
    {
     "name": "stdout",
     "output_type": "stream",
     "text": [
      "Los coeficientes del polinomio característico son [ 1.00000000e+00 -1.99368900e+07  1.98709385e+14 ...             inf\n",
      "            -inf             inf]\n",
      "El tiempo de ejecución fue de  975.9227132810001 segundos\n"
     ]
    }
   ],
   "source": [
    "inicio = time.perf_counter()\n",
    "\n",
    "polinomio = pol_char_from_signless_lap(A,7000)\n",
    "\n",
    "final = time.perf_counter()\n",
    "\n",
    "print(\"Los coeficientes del polinomio característico son\", polinomio)\n",
    "\n",
    "print(\"El tiempo de ejecución fue de \", final-inicio,\"segundos\")"
   ]
  },
  {
   "cell_type": "markdown",
   "metadata": {},
   "source": [
    "## 8000 genes"
   ]
  },
  {
   "cell_type": "code",
   "execution_count": 24,
   "metadata": {},
   "outputs": [
    {
     "name": "stdout",
     "output_type": "stream",
     "text": [
      "Los coeficientes del polinomio característico son [ 1.00000000e+00 -2.60351080e+07  3.38868045e+14 ...             inf\n",
      "            -inf             inf]\n",
      "El tiempo de ejecución fue de  1666.6188906359994 segundos\n"
     ]
    }
   ],
   "source": [
    "inicio = time.perf_counter()\n",
    "\n",
    "polinomio = pol_char_from_signless_lap(A,8000)\n",
    "\n",
    "final = time.perf_counter()\n",
    "\n",
    "print(\"Los coeficientes del polinomio característico son\", polinomio)\n",
    "\n",
    "print(\"El tiempo de ejecución fue de \", final-inicio,\"segundos\")"
   ]
  },
  {
   "cell_type": "markdown",
   "metadata": {},
   "source": [
    "## 9000 genes"
   ]
  },
  {
   "cell_type": "code",
   "execution_count": 26,
   "metadata": {},
   "outputs": [
    {
     "name": "stdout",
     "output_type": "stream",
     "text": [
      "Los coeficientes del polinomio característico son [ 1.00000000e+00 -3.28173100e+07  5.38423879e+14 ...             inf\n",
      "            -inf             inf]\n",
      "El tiempo de ejecución fue de  6737.1762727979985 segundos\n"
     ]
    }
   ],
   "source": [
    "inicio = time.perf_counter()\n",
    "\n",
    "polinomio = pol_char_from_signless_lap(A,9000)\n",
    "\n",
    "final = time.perf_counter()\n",
    "\n",
    "print(\"Los coeficientes del polinomio característico son\", polinomio)\n",
    "\n",
    "print(\"El tiempo de ejecución fue de \", final-inicio,\"segundos\")"
   ]
  },
  {
   "cell_type": "code",
   "execution_count": null,
   "metadata": {},
   "outputs": [],
   "source": []
  }
 ],
 "metadata": {
  "kernelspec": {
   "display_name": "Python 3",
   "language": "python",
   "name": "python3"
  },
  "language_info": {
   "codemirror_mode": {
    "name": "ipython",
    "version": 3
   },
   "file_extension": ".py",
   "mimetype": "text/x-python",
   "name": "python",
   "nbconvert_exporter": "python",
   "pygments_lexer": "ipython3",
   "version": "3.7.4"
  }
 },
 "nbformat": 4,
 "nbformat_minor": 2
}
