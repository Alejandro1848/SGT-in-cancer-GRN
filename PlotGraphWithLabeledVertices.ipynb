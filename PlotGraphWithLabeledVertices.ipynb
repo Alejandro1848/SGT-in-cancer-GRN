{
 "cells": [
  {
   "cell_type": "code",
   "execution_count": 4,
   "metadata": {},
   "outputs": [],
   "source": [
    "import numpy as np\n",
    "import pandas as pd \n",
    "import networkx as nx\n",
    "import math\n",
    "import sympy as sp\n",
    "import matplotlib.pyplot as plt\n",
    "\n",
    "from sympy import *\n",
    "from numpy import linalg as LA\n",
    "from numpy.linalg import matrix_rank"
   ]
  },
  {
   "cell_type": "code",
   "execution_count": 5,
   "metadata": {},
   "outputs": [],
   "source": [
    "from IPython.core.interactiveshell import InteractiveShell\n",
    "InteractiveShell.ast_node_interactivity =\"all\""
   ]
  },
  {
   "cell_type": "code",
   "execution_count": 6,
   "metadata": {},
   "outputs": [
    {
     "name": "stdout",
     "output_type": "stream",
     "text": [
      "File directory:/Users/alex/Desktop/adjmatrix.tsv\n"
     ]
    }
   ],
   "source": [
    "#Establecer directorio de datos\n",
    "\n",
    "DIR='/Users/alex/Desktop'\n",
    "FILE='/adjmatrix.tsv'\n",
    "\n",
    "file='{}{}'.format(DIR,FILE)\n",
    "\n",
    "print('File directory:{}'.format(file))"
   ]
  },
  {
   "cell_type": "code",
   "execution_count": 7,
   "metadata": {},
   "outputs": [],
   "source": [
    "data=pd.read_table(file)\n",
    "a=np.diag(np.ones(16438),0)\n",
    "A=data-a"
   ]
  },
  {
   "cell_type": "code",
   "execution_count": 10,
   "metadata": {},
   "outputs": [
    {
     "data": {
      "text/plain": [
       "0.018990814050501657"
      ]
     },
     "execution_count": 10,
     "metadata": {},
     "output_type": "execute_result"
    }
   ],
   "source": [
    "#Este modulo calcula un valor umbral (\"threshold\") que promedia todos los valores de las \n",
    "# entradas de un data set\n",
    "\n",
    "# Función convertir a lista el resultado de aplicar .mean() a un DataFrame\n",
    "\n",
    "def mean_to_list(df):\n",
    "    arr=[]\n",
    "    for i in range(0,len(df)):\n",
    "        a=df.iloc[i]\n",
    "        arr.append(a)\n",
    "    return arr\n",
    "\n",
    "# Función para calcular el promedio de las entradas de una lista \n",
    "\n",
    "def cal_prom_en_list(num):\n",
    "    sum_num=0\n",
    "    for entrada in num:\n",
    "        sum_num=sum_num +entrada\n",
    "        \n",
    "    prom = sum_num/len(num)\n",
    "    return prom\n",
    "\n",
    "# Cálculo del umbral, promediando sobre todas las entradas de la matriz de adyacencia\n",
    "\n",
    "A_prom_cols=A.mean()\n",
    "A_mean_list=mean_to_list(A_prom_cols)\n",
    "cal_prom_en_list(A_mean_list)\n",
    "threshold=cal_prom_en_list(A_mean_list)"
   ]
  },
  {
   "cell_type": "code",
   "execution_count": 11,
   "metadata": {},
   "outputs": [],
   "source": [
    "#Este script es capaz de dibujar el grafo con sus vértices respectivos etiquetados\n",
    "\n",
    "#Aún se necesita modificar para que sea capaz de etiquetar los ID de los genes involucrados\n",
    "#por muy granden que sea la matriz de adyacencia asociada al grafo\n",
    "\n",
    "def plt_gph_with_vert_lab(mat,n):\n",
    "    \n",
    "    new_data=mat.iloc[:n,:n]\n",
    "    \n",
    "    new_data2=new_data.apply(lambda x:(np.where(x<threshold,0,x)))\n",
    "    adj_mat=new_data2.apply(lambda x:(np.where(x>threshold,1,x)))\n",
    "    \n",
    "    #completar la matriz triangular superior para tener la forma completa de una matriz\n",
    "    # simétrica\n",
    "    \n",
    "    adj_mod=np.matrix(adj_mat.fillna(0))\n",
    "    adj_mod_trans=adj_mod.transpose()\n",
    "    simm_mat=adj_mod+adj_mod_trans\n",
    "    adj_to_graph=nx.from_numpy_matrix(simm_mat)\n",
    "    \n",
    "    \n",
    "    pos=nx.spring_layout(adj_to_graph)\n",
    "    \n",
    "    nx.draw_networkx_nodes(adj_to_graph,pos,\n",
    "                       nodelist=[0,1,2,3],\n",
    "                       node_color='r',\n",
    "                       node_size=500,\n",
    "                       alpha=0.8)\n",
    "    \n",
    "    nx.draw_networkx_nodes(adj_to_graph,pos,\n",
    "                       nodelist=[4,5,6],\n",
    "                       node_color='r',\n",
    "                       node_size=500,\n",
    "                       alpha=0.8)\n",
    "    \n",
    "    nx.draw_networkx_edges(adj_to_graph,pos,width=1.0,alpha=0.5)\n",
    "    \n",
    "    labels={}\n",
    "    labels[0]=r'$v_1$'\n",
    "    labels[1]=r'$v_2$'\n",
    "    labels[2]=r'$v_3$'\n",
    "    labels[3]=r'$v_4$'\n",
    "    labels[4]=r'$v_5$'\n",
    "    labels[5]=r'$v_6$'\n",
    "    labels[6]=r'$v_7$'\n",
    "\n",
    "    nx.draw_networkx_labels(adj_to_graph,pos,labels,font_size=16)\n",
    "\n",
    "    plt.axis('off')\n",
    "    plt.savefig(\"labels_and_colors1.png\")\n",
    "    plot=plt.show()\n",
    "\n",
    "    \n",
    "    return plot"
   ]
  },
  {
   "cell_type": "code",
   "execution_count": 15,
   "metadata": {},
   "outputs": [
    {
     "data": {
      "image/png": "[encoded data removed]",
      "text/plain": [
       "<Figure size 432x288 with 1 Axes>"
      ]
     },
     "metadata": {},
     "output_type": "display_data"
    }
   ],
   "source": [
    "plt_gph_with_vert_lab(A,7)"
   ]
  },
  {
   "cell_type": "code",
   "execution_count": null,
   "metadata": {},
   "outputs": [],
   "source": []
  }
 ],
 "metadata": {
  "kernelspec": {
   "display_name": "Python 3",
   "language": "python",
   "name": "python3"
  },
  "language_info": {
   "codemirror_mode": {
    "name": "ipython",
    "version": 3
   },
   "file_extension": ".py",
   "mimetype": "text/x-python",
   "name": "python",
   "nbconvert_exporter": "python",
   "pygments_lexer": "ipython3",
   "version": "3.7.4"
  }
 },
 "nbformat": 4,
 "nbformat_minor": 2
}
