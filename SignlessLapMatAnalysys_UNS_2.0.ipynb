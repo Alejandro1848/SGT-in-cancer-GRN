{
 "cells": [
  {
   "cell_type": "code",
   "execution_count": 200,
   "metadata": {},
   "outputs": [],
   "source": [
    "import numpy as np\n",
    "import pandas as pd \n",
    "import networkx as nx\n",
    "import math\n",
    "import sympy as sp\n",
    "import matplotlib.pyplot as plt\n",
    "import time\n",
    "\n",
    "from sklearn import linear_model\n",
    "from sklearn.metrics import r2_score\n",
    "\n",
    "from sympy import *\n",
    "from numpy import linalg as LA\n",
    "from numpy.linalg import matrix_rank\n",
    "from array import array\n",
    "from scipy.optimize import curve_fit"
   ]
  },
  {
   "cell_type": "code",
   "execution_count": 3,
   "metadata": {},
   "outputs": [
    {
     "name": "stdout",
     "output_type": "stream",
     "text": [
      "File directory:/Users/alex/Desktop/MatrizAdjSano/MatrizAdjSano/adjmatrix_UNS.txt\n"
     ]
    }
   ],
   "source": [
    "#Establecer directorio de datos\n",
    "\n",
    "DIR='/Users/alex/Desktop'\n",
    "FILE='/MatrizAdjSano/MatrizAdjSano/adjmatrix_UNS.txt'\n",
    "\n",
    "file='{}{}'.format(DIR,FILE)\n",
    "\n",
    "print('File directory:{}'.format(file))\n",
    "\n"
   ]
  },
  {
   "cell_type": "code",
   "execution_count": 4,
   "metadata": {},
   "outputs": [],
   "source": [
    "data=pd.read_table(file)"
   ]
  },
  {
   "cell_type": "code",
   "execution_count": 5,
   "metadata": {},
   "outputs": [
    {
     "data": {
      "text/html": [
       "<div>\n",
       "<style scoped>\n",
       "    .dataframe tbody tr th:only-of-type {\n",
       "        vertical-align: middle;\n",
       "    }\n",
       "\n",
       "    .dataframe tbody tr th {\n",
       "        vertical-align: top;\n",
       "    }\n",
       "\n",
       "    .dataframe thead th {\n",
       "        text-align: right;\n",
       "    }\n",
       "</style>\n",
       "<table border=\"1\" class=\"dataframe\">\n",
       "  <thead>\n",
       "    <tr style=\"text-align: right;\">\n",
       "      <th></th>\n",
       "      <th>ENSG00000000003</th>\n",
       "      <th>ENSG00000000419</th>\n",
       "      <th>ENSG00000000457</th>\n",
       "      <th>ENSG00000000460</th>\n",
       "      <th>ENSG00000000938</th>\n",
       "      <th>ENSG00000001036</th>\n",
       "      <th>ENSG00000001167</th>\n",
       "      <th>ENSG00000001460</th>\n",
       "      <th>ENSG00000001461</th>\n",
       "      <th>ENSG00000001497</th>\n",
       "      <th>...</th>\n",
       "      <th>hsa-mir-941-5</th>\n",
       "      <th>hsa-mir-942</th>\n",
       "      <th>hsa-mir-943</th>\n",
       "      <th>hsa-mir-944</th>\n",
       "      <th>hsa-mir-95</th>\n",
       "      <th>hsa-mir-9500</th>\n",
       "      <th>hsa-mir-96</th>\n",
       "      <th>hsa-mir-98</th>\n",
       "      <th>hsa-mir-99a</th>\n",
       "      <th>hsa-mir-99b</th>\n",
       "    </tr>\n",
       "  </thead>\n",
       "  <tbody>\n",
       "    <tr>\n",
       "      <td>0</td>\n",
       "      <td>1.0</td>\n",
       "      <td>0.103197</td>\n",
       "      <td>0.152306</td>\n",
       "      <td>0.107439</td>\n",
       "      <td>0.151863</td>\n",
       "      <td>0.050207</td>\n",
       "      <td>0.047916</td>\n",
       "      <td>0.152306</td>\n",
       "      <td>0.162813</td>\n",
       "      <td>0.032128</td>\n",
       "      <td>...</td>\n",
       "      <td>0.038779</td>\n",
       "      <td>0.016197</td>\n",
       "      <td>0.052990</td>\n",
       "      <td>0.062391</td>\n",
       "      <td>0.070298</td>\n",
       "      <td>0.038779</td>\n",
       "      <td>0.044215</td>\n",
       "      <td>0.259474</td>\n",
       "      <td>0.151107</td>\n",
       "      <td>0.074188</td>\n",
       "    </tr>\n",
       "    <tr>\n",
       "      <td>1</td>\n",
       "      <td>NaN</td>\n",
       "      <td>1.000000</td>\n",
       "      <td>0.120830</td>\n",
       "      <td>0.128810</td>\n",
       "      <td>0.121863</td>\n",
       "      <td>0.076382</td>\n",
       "      <td>0.064962</td>\n",
       "      <td>0.120830</td>\n",
       "      <td>0.250164</td>\n",
       "      <td>0.102605</td>\n",
       "      <td>...</td>\n",
       "      <td>0.108833</td>\n",
       "      <td>0.124237</td>\n",
       "      <td>0.120423</td>\n",
       "      <td>0.125844</td>\n",
       "      <td>0.020272</td>\n",
       "      <td>0.108833</td>\n",
       "      <td>0.127723</td>\n",
       "      <td>0.069236</td>\n",
       "      <td>0.199134</td>\n",
       "      <td>0.112418</td>\n",
       "    </tr>\n",
       "    <tr>\n",
       "      <td>2</td>\n",
       "      <td>NaN</td>\n",
       "      <td>NaN</td>\n",
       "      <td>1.000000</td>\n",
       "      <td>0.051569</td>\n",
       "      <td>0.107554</td>\n",
       "      <td>0.057486</td>\n",
       "      <td>0.038834</td>\n",
       "      <td>0.334130</td>\n",
       "      <td>0.248721</td>\n",
       "      <td>0.048574</td>\n",
       "      <td>...</td>\n",
       "      <td>0.059112</td>\n",
       "      <td>0.044184</td>\n",
       "      <td>0.051950</td>\n",
       "      <td>0.091854</td>\n",
       "      <td>0.071886</td>\n",
       "      <td>0.059112</td>\n",
       "      <td>0.030633</td>\n",
       "      <td>0.097257</td>\n",
       "      <td>0.045373</td>\n",
       "      <td>0.075525</td>\n",
       "    </tr>\n",
       "    <tr>\n",
       "      <td>3</td>\n",
       "      <td>NaN</td>\n",
       "      <td>NaN</td>\n",
       "      <td>NaN</td>\n",
       "      <td>1.000000</td>\n",
       "      <td>0.032182</td>\n",
       "      <td>0.069682</td>\n",
       "      <td>0.042741</td>\n",
       "      <td>0.051569</td>\n",
       "      <td>0.126349</td>\n",
       "      <td>0.051244</td>\n",
       "      <td>...</td>\n",
       "      <td>0.054916</td>\n",
       "      <td>0.133838</td>\n",
       "      <td>0.062266</td>\n",
       "      <td>0.132682</td>\n",
       "      <td>0.021764</td>\n",
       "      <td>0.054916</td>\n",
       "      <td>0.103477</td>\n",
       "      <td>0.123546</td>\n",
       "      <td>0.184396</td>\n",
       "      <td>0.057522</td>\n",
       "    </tr>\n",
       "    <tr>\n",
       "      <td>4</td>\n",
       "      <td>NaN</td>\n",
       "      <td>NaN</td>\n",
       "      <td>NaN</td>\n",
       "      <td>NaN</td>\n",
       "      <td>1.000000</td>\n",
       "      <td>0.214658</td>\n",
       "      <td>0.029944</td>\n",
       "      <td>0.107554</td>\n",
       "      <td>0.108194</td>\n",
       "      <td>0.094873</td>\n",
       "      <td>...</td>\n",
       "      <td>0.102947</td>\n",
       "      <td>0.156264</td>\n",
       "      <td>0.069491</td>\n",
       "      <td>0.128388</td>\n",
       "      <td>0.018218</td>\n",
       "      <td>0.102947</td>\n",
       "      <td>0.094818</td>\n",
       "      <td>0.178692</td>\n",
       "      <td>0.051804</td>\n",
       "      <td>0.064486</td>\n",
       "    </tr>\n",
       "  </tbody>\n",
       "</table>\n",
       "<p>5 rows × 16748 columns</p>\n",
       "</div>"
      ],
      "text/plain": [
       "   ENSG00000000003  ENSG00000000419  ENSG00000000457  ENSG00000000460  \\\n",
       "0              1.0         0.103197         0.152306         0.107439   \n",
       "1              NaN         1.000000         0.120830         0.128810   \n",
       "2              NaN              NaN         1.000000         0.051569   \n",
       "3              NaN              NaN              NaN         1.000000   \n",
       "4              NaN              NaN              NaN              NaN   \n",
       "\n",
       "   ENSG00000000938  ENSG00000001036  ENSG00000001167  ENSG00000001460  \\\n",
       "0         0.151863         0.050207         0.047916         0.152306   \n",
       "1         0.121863         0.076382         0.064962         0.120830   \n",
       "2         0.107554         0.057486         0.038834         0.334130   \n",
       "3         0.032182         0.069682         0.042741         0.051569   \n",
       "4         1.000000         0.214658         0.029944         0.107554   \n",
       "\n",
       "   ENSG00000001461  ENSG00000001497  ...  hsa-mir-941-5  hsa-mir-942  \\\n",
       "0         0.162813         0.032128  ...       0.038779     0.016197   \n",
       "1         0.250164         0.102605  ...       0.108833     0.124237   \n",
       "2         0.248721         0.048574  ...       0.059112     0.044184   \n",
       "3         0.126349         0.051244  ...       0.054916     0.133838   \n",
       "4         0.108194         0.094873  ...       0.102947     0.156264   \n",
       "\n",
       "   hsa-mir-943  hsa-mir-944  hsa-mir-95  hsa-mir-9500  hsa-mir-96  hsa-mir-98  \\\n",
       "0     0.052990     0.062391    0.070298      0.038779    0.044215    0.259474   \n",
       "1     0.120423     0.125844    0.020272      0.108833    0.127723    0.069236   \n",
       "2     0.051950     0.091854    0.071886      0.059112    0.030633    0.097257   \n",
       "3     0.062266     0.132682    0.021764      0.054916    0.103477    0.123546   \n",
       "4     0.069491     0.128388    0.018218      0.102947    0.094818    0.178692   \n",
       "\n",
       "   hsa-mir-99a  hsa-mir-99b  \n",
       "0     0.151107     0.074188  \n",
       "1     0.199134     0.112418  \n",
       "2     0.045373     0.075525  \n",
       "3     0.184396     0.057522  \n",
       "4     0.051804     0.064486  \n",
       "\n",
       "[5 rows x 16748 columns]"
      ]
     },
     "execution_count": 5,
     "metadata": {},
     "output_type": "execute_result"
    }
   ],
   "source": [
    "data.head()"
   ]
  },
  {
   "cell_type": "code",
   "execution_count": 6,
   "metadata": {},
   "outputs": [],
   "source": [
    "a=np.diag(np.ones(16748),0)\n",
    "A=data-a"
   ]
  },
  {
   "cell_type": "code",
   "execution_count": 9,
   "metadata": {},
   "outputs": [],
   "source": [
    "threshold = A.mean().mean()"
   ]
  },
  {
   "cell_type": "code",
   "execution_count": 7,
   "metadata": {},
   "outputs": [
    {
     "data": {
      "text/plain": [
       "0.08567775225309081"
      ]
     },
     "execution_count": 7,
     "metadata": {},
     "output_type": "execute_result"
    }
   ],
   "source": [
    "threshold"
   ]
  },
  {
   "cell_type": "code",
   "execution_count": 10,
   "metadata": {},
   "outputs": [],
   "source": [
    "#https://stackoverflow.com/questions/13914920/networkx-extract-the-connected-component-containing-a-given-node-directed-grap?fbclid=IwAR0CLa62zO8y43PVzLDO54AZEo8Gozv4ai8hJDFKXXcgc8mZlN95wu3Xlio\n",
    "\n",
    "#Función para ver qué forma tiene la matriz del data set que estamos\n",
    "#estudiando \n",
    "\n",
    "def mat_shape(mat,n):\n",
    "    \n",
    "    new_data=mat.iloc[:n,:n]\n",
    "    \n",
    "    new_data2=new_data.apply(lambda x:(np.where(x<threshold,0,x)))\n",
    "    adj_mat=new_data2.apply(lambda x:(np.where(x>threshold,1,x)))\n",
    "    \n",
    "    #completar la matriz triangular superior para tener la forma completa de una matriz\n",
    "    # simétrica\n",
    "    \n",
    "    adj_mod=np.matrix(adj_mat.fillna(0))\n",
    "    adj_mod_trans=adj_mod.transpose()\n",
    "    simm_mat=adj_mod+adj_mod_trans\n",
    "    \n",
    "    \n",
    "    return simm_mat\n"
   ]
  },
  {
   "cell_type": "code",
   "execution_count": 11,
   "metadata": {},
   "outputs": [],
   "source": [
    "#Función para calcular el polinomio característico de la matriz laplaciana sin signo\n",
    "\n",
    "def pol_char_from_signless_lap(mat,n):\n",
    "    \n",
    "    \n",
    "    simm_mat=mat_shape(mat,n)\n",
    "    \n",
    "    Adj_to_nx=nx.from_numpy_matrix(simm_mat)\n",
    "    L_from_Adj=nx.laplacian_matrix(Adj_to_nx)\n",
    "    \n",
    "    L_arr=L_from_Adj.toarray()\n",
    "    L_np=np.matrix(L_arr)\n",
    "    \n",
    "    deg_Mat=L_np+simm_mat\n",
    "    \n",
    "    L_WO_Sign=deg_Mat+simm_mat\n",
    "    \n",
    "    pol_char=np.poly(L_WO_Sign)\n",
    "    \n",
    "    \n",
    "    \n",
    "    return pol_char"
   ]
  },
  {
   "cell_type": "code",
   "execution_count": 10,
   "metadata": {},
   "outputs": [
    {
     "data": {
      "text/plain": [
       "array([ 1., -6.,  9., -4.])"
      ]
     },
     "execution_count": 10,
     "metadata": {},
     "output_type": "execute_result"
    }
   ],
   "source": [
    "pol_char_from_signless_lap(A,3)"
   ]
  },
  {
   "cell_type": "code",
   "execution_count": 10,
   "metadata": {},
   "outputs": [],
   "source": [
    "#Función para obtener el polinomio característico de la matriz laplaciana sin signo\n",
    "\n",
    "#Esta función resultó estar poco optimizada pues el tiempo que tomaba para realiar los \n",
    "#cálculos era demasiado extenso debido a que daba un resultado simbólico y numérico\n",
    "\n",
    "def pol_char_from_lap(mat,n):\n",
    "    \n",
    "   \n",
    "    simm_mat=mat_shape(mat,n)\n",
    "    \n",
    "    Adj_to_nx=nx.from_numpy_matrix(simm_mat)\n",
    "    L_from_Adj=nx.laplacian_matrix(Adj_to_nx)\n",
    "    \n",
    "    L_arr=L_from_Adj.toarray()\n",
    "    L_np=np.matrix(L_arr)\n",
    "    \n",
    "    deg_Mat=L_np+simm_mat\n",
    "    \n",
    "    L_WO_Sign=deg_Mat+simm_mat\n",
    "    \n",
    "    data_modx2=sp.Matrix(L_WO_Sign)\n",
    "    \n",
    "    lamda=symbols(\"lamda\")\n",
    "    pol=data_modx2.charpoly(lamda)\n",
    "\n",
    "\n",
    "    \n",
    "    return print(pol),print(pol.coeffs())"
   ]
  },
  {
   "cell_type": "markdown",
   "metadata": {},
   "source": [
    "## Análisis de la matriz laplciana sin signo para datos UNS"
   ]
  },
  {
   "cell_type": "markdown",
   "metadata": {},
   "source": [
    "### 1000 genes"
   ]
  },
  {
   "cell_type": "code",
   "execution_count": 16,
   "metadata": {},
   "outputs": [
    {
     "data": {
      "text/plain": [
       "array([ 1.00000000e+00, -4.11320000e+05,  8.45009745e+10, ...,\n",
       "                   inf,            -inf,             inf])"
      ]
     },
     "execution_count": 16,
     "metadata": {},
     "output_type": "execute_result"
    }
   ],
   "source": [
    "pol_char_from_signless_lap(A,1000)"
   ]
  },
  {
   "cell_type": "markdown",
   "metadata": {},
   "source": [
    "## 2000 genes"
   ]
  },
  {
   "cell_type": "code",
   "execution_count": 17,
   "metadata": {},
   "outputs": [
    {
     "data": {
      "text/plain": [
       "array([ 1.00000000e+00, -1.64580800e+06,  1.35361396e+12, ...,\n",
       "                   inf,            -inf,             inf])"
      ]
     },
     "execution_count": 17,
     "metadata": {},
     "output_type": "execute_result"
    }
   ],
   "source": [
    "pol_char_from_signless_lap(A,2000)"
   ]
  },
  {
   "cell_type": "markdown",
   "metadata": {},
   "source": [
    "## 3000 genes "
   ]
  },
  {
   "cell_type": "code",
   "execution_count": 19,
   "metadata": {},
   "outputs": [
    {
     "name": "stdout",
     "output_type": "stream",
     "text": [
      "Los coeficientes del polinomiocaracterístico son [ 1.00000000e+00 -3.69525200e+06  6.82499985e+12 ...             inf\n",
      "            -inf             inf]\n",
      "El tiempo de ejecución fue de  44.23430857100038 segundos\n"
     ]
    }
   ],
   "source": [
    "inicio = time.perf_counter()\n",
    "\n",
    "polinomio = pol_char_from_signless_lap(A,3000)\n",
    "\n",
    "final = time.perf_counter()\n",
    "\n",
    "print(\"Los coeficientes del polinomiocaracterístico son\", polinomio)\n",
    "\n",
    "print(\"El tiempo de ejecución fue de \", final-inicio,\"segundos\")\n"
   ]
  },
  {
   "cell_type": "markdown",
   "metadata": {},
   "source": [
    "## 4000 genes"
   ]
  },
  {
   "cell_type": "code",
   "execution_count": 20,
   "metadata": {},
   "outputs": [
    {
     "name": "stdout",
     "output_type": "stream",
     "text": [
      "Los coeficientes del polinomiocaracterístico son [ 1.00000000e+00 -6.56978600e+06  2.15752514e+13 ...             inf\n",
      "            -inf             inf]\n",
      "El tiempo de ejecución fue de  107.77007454400018 segundos\n"
     ]
    }
   ],
   "source": [
    "inicio = time.perf_counter()\n",
    "\n",
    "polinomio = pol_char_from_signless_lap(A,4000)\n",
    "\n",
    "final = time.perf_counter()\n",
    "\n",
    "print(\"Los coeficientes del polinomio característico son\", polinomio)\n",
    "\n",
    "print(\"El tiempo de ejecución fue de \", final-inicio,\"segundos\")"
   ]
  },
  {
   "cell_type": "markdown",
   "metadata": {},
   "source": [
    "## 5000 genes"
   ]
  },
  {
   "cell_type": "code",
   "execution_count": 21,
   "metadata": {},
   "outputs": [
    {
     "name": "stdout",
     "output_type": "stream",
     "text": [
      "Los coeficientes del polinomio característico son [ 1.0000000e+00 -1.0210350e+07  5.2114444e+13 ...            inf\n",
      "           -inf            inf]\n",
      "El tiempo de ejecución fue de  205.6521276049998 segundos\n"
     ]
    }
   ],
   "source": [
    "inicio = time.perf_counter()\n",
    "\n",
    "polinomio = pol_char_from_signless_lap(A,5000)\n",
    "\n",
    "final = time.perf_counter()\n",
    "\n",
    "print(\"Los coeficientes del polinomio característico son\", polinomio)\n",
    "\n",
    "print(\"El tiempo de ejecución fue de \", final-inicio,\"segundos\")"
   ]
  },
  {
   "cell_type": "markdown",
   "metadata": {},
   "source": [
    "## 6000 genes\n"
   ]
  },
  {
   "cell_type": "code",
   "execution_count": 22,
   "metadata": {},
   "outputs": [
    {
     "name": "stdout",
     "output_type": "stream",
     "text": [
      "Los coeficientes del polinomio característico son [ 1.00000000e+00 -1.46468160e+07  1.07245459e+14 ...             inf\n",
      "            -inf             inf]\n",
      "El tiempo de ejecución fue de  436.0252981089998 segundos\n"
     ]
    }
   ],
   "source": [
    "inicio = time.perf_counter()\n",
    "\n",
    "polinomio = pol_char_from_signless_lap(A,6000)\n",
    "\n",
    "final = time.perf_counter()\n",
    "\n",
    "print(\"Los coeficientes del polinomio característico son\", polinomio)\n",
    "\n",
    "print(\"El tiempo de ejecución fue de \", final-inicio,\"segundos\")"
   ]
  },
  {
   "cell_type": "markdown",
   "metadata": {},
   "source": [
    "## 7000 genes"
   ]
  },
  {
   "cell_type": "code",
   "execution_count": 23,
   "metadata": {},
   "outputs": [
    {
     "name": "stdout",
     "output_type": "stream",
     "text": [
      "Los coeficientes del polinomio característico son [ 1.00000000e+00 -1.99368900e+07  1.98709385e+14 ...             inf\n",
      "            -inf             inf]\n",
      "El tiempo de ejecución fue de  975.9227132810001 segundos\n"
     ]
    }
   ],
   "source": [
    "inicio = time.perf_counter()\n",
    "\n",
    "polinomio = pol_char_from_signless_lap(A,7000)\n",
    "\n",
    "final = time.perf_counter()\n",
    "\n",
    "print(\"Los coeficientes del polinomio característico son\", polinomio)\n",
    "\n",
    "print(\"El tiempo de ejecución fue de \", final-inicio,\"segundos\")"
   ]
  },
  {
   "cell_type": "markdown",
   "metadata": {},
   "source": [
    "## 8000 genes"
   ]
  },
  {
   "cell_type": "code",
   "execution_count": 24,
   "metadata": {},
   "outputs": [
    {
     "name": "stdout",
     "output_type": "stream",
     "text": [
      "Los coeficientes del polinomio característico son [ 1.00000000e+00 -2.60351080e+07  3.38868045e+14 ...             inf\n",
      "            -inf             inf]\n",
      "El tiempo de ejecución fue de  1666.6188906359994 segundos\n"
     ]
    }
   ],
   "source": [
    "inicio = time.perf_counter()\n",
    "\n",
    "polinomio = pol_char_from_signless_lap(A,8000)\n",
    "\n",
    "final = time.perf_counter()\n",
    "\n",
    "print(\"Los coeficientes del polinomio característico son\", polinomio)\n",
    "\n",
    "print(\"El tiempo de ejecución fue de \", final-inicio,\"segundos\")"
   ]
  },
  {
   "cell_type": "markdown",
   "metadata": {},
   "source": [
    "## 9000 genes"
   ]
  },
  {
   "cell_type": "code",
   "execution_count": 26,
   "metadata": {},
   "outputs": [
    {
     "name": "stdout",
     "output_type": "stream",
     "text": [
      "Los coeficientes del polinomio característico son [ 1.00000000e+00 -3.28173100e+07  5.38423879e+14 ...             inf\n",
      "            -inf             inf]\n",
      "El tiempo de ejecución fue de  6737.1762727979985 segundos\n"
     ]
    }
   ],
   "source": [
    "inicio = time.perf_counter()\n",
    "\n",
    "polinomio = pol_char_from_signless_lap(A,9000)\n",
    "\n",
    "final = time.perf_counter()\n",
    "\n",
    "print(\"Los coeficientes del polinomio característico son\", polinomio)\n",
    "\n",
    "print(\"El tiempo de ejecución fue de \", final-inicio,\"segundos\")"
   ]
  },
  {
   "cell_type": "markdown",
   "metadata": {},
   "source": [
    "### Primeros 40 arrays representando los coeficientes del polinomio característico de los primeros 1000 genes."
   ]
  },
  {
   "cell_type": "code",
   "execution_count": 165,
   "metadata": {},
   "outputs": [
    {
     "name": "stdout",
     "output_type": "stream",
     "text": [
      "1\n",
      "34\n",
      "67\n",
      "100\n",
      "101\n",
      "134\n",
      "167\n",
      "200\n",
      "201\n",
      "234\n",
      "267\n",
      "300\n",
      "301\n",
      "334\n",
      "367\n",
      "400\n",
      "401\n",
      "434\n",
      "467\n",
      "500\n",
      "501\n",
      "534\n",
      "567\n",
      "600\n",
      "601\n",
      "634\n",
      "667\n",
      "700\n",
      "701\n",
      "734\n",
      "767\n",
      "800\n",
      "801\n",
      "834\n",
      "867\n",
      "900\n",
      "901\n",
      "934\n",
      "967\n",
      "1000\n"
     ]
    }
   ],
   "source": [
    "# Para calcular los genes que se tomaron para cada uno de los arrays que se obtendrán \n",
    "# después de esta función, se usa el siguinte algoritmo\n",
    "\n",
    "n=1 #valor inicial de filas y columnas tomadas\n",
    "while n < 902:\n",
    "    m=n\n",
    "    for m in range (m,m+100,33):\n",
    "        \n",
    "        print(m)\n",
    "    \n",
    "    n=n+100"
   ]
  },
  {
   "cell_type": "code",
   "execution_count": 474,
   "metadata": {},
   "outputs": [
    {
     "name": "stdout",
     "output_type": "stream",
     "text": [
      "100\n",
      "200\n",
      "300\n",
      "400\n",
      "500\n",
      "600\n",
      "700\n",
      "800\n",
      "900\n",
      "1000\n"
     ]
    }
   ],
   "source": [
    "# Para calcular los genes que se tomaron para cada uno de los arrays que se obtendrán \n",
    "# después de esta función, se usa el siguinte algoritmo\n",
    "\n",
    "n=100 #valor inicial de filas y columnas tomadas\n",
    "while n < 1100:\n",
    "    m=n\n",
    "    for m in range (m,m+100,100):\n",
    "        \n",
    "        print(m)\n",
    "    \n",
    "    n=n+100"
   ]
  },
  {
   "cell_type": "markdown",
   "metadata": {},
   "source": [
    "## Función para obtener lista de listas de los coeficientes del polinomio característico"
   ]
  },
  {
   "cell_type": "code",
   "execution_count": 72,
   "metadata": {},
   "outputs": [],
   "source": [
    "#Esta es la función correcta\n",
    "# a -> valor inicial de la iteración(corresponde al número de filas y columnas inciciales \n",
    "# tomadas de la matriz laplaciana sin signo)\n",
    "\n",
    "# b -> cota superior de los valores de filas/columnas tomadas\n",
    "\n",
    "# c -> aumentos que tendrá n en cada iteración \n",
    "\n",
    "# d -> incremento que tendrá la secuencia de números den range\n",
    "\n",
    "# e -> aumento que debe tener el valor n cada que se inicia un nuevo ciclo for \n",
    "\n",
    "def cal_sev_coeff(a,b,c,d,e): \n",
    "    \n",
    "    arr=[]\n",
    "    n=a\n",
    "    \n",
    "    while n < b:\n",
    "        \n",
    "        m=n\n",
    "        for m in range(m,m+c,d):\n",
    "            \n",
    "            pol = pol_char_from_signless_lap(A,m)\n",
    "            pol_list = pol.tolist()\n",
    "            \n",
    "            arr.append(pol_list)\n",
    "            \n",
    "        n=n+e\n",
    "            \n",
    "    return arr          "
   ]
  },
  {
   "cell_type": "code",
   "execution_count": 138,
   "metadata": {},
   "outputs": [],
   "source": [
    "# Función para calcular la conectividad algebraica a partir del out put \n",
    "# de la función anterior. Simplemente se multiplica por (- 1/2) cada\n",
    "# componente de la lista que arroja la función anterior.\n",
    "\n",
    "def get_alg_conn(lista_param):\n",
    "    \n",
    "    lista = []\n",
    "    for num in lista_param:\n",
    "        \n",
    "        lista.append(- num/2)\n",
    "        \n",
    "    return lista  "
   ]
  },
  {
   "cell_type": "markdown",
   "metadata": {},
   "source": [
    "# Pruebas para calcular varios coficientes"
   ]
  },
  {
   "cell_type": "code",
   "execution_count": 67,
   "metadata": {},
   "outputs": [
    {
     "name": "stdout",
     "output_type": "stream",
     "text": [
      "[[1.0, 0.0]]\n",
      "[[1.0, 0.0], [1.0, -2.0, 0.0]]\n",
      "[[1.0, 0.0], [1.0, -2.0, 0.0], [1.0, -5.999999999999999, 8.999999999999996, -3.999999999999998]]\n"
     ]
    }
   ],
   "source": [
    "arr=[]\n",
    "n=1 #valor inicial de filas y columnas tomadas\n",
    "while n < 4: \n",
    "    \n",
    "    m=n\n",
    "    for m in range (m,m+1,3): # se hace un salto de 33 en 33 pues sólo se quieren \n",
    "                                 #obtener 40 arrays de los primeros 1000 genes \n",
    "        \n",
    "        pol = pol_char_from_signless_lap(A,m)\n",
    "        pol_list = pol.tolist()\n",
    "        #print(pol_list)\n",
    "    \n",
    "        #sub = elem.split(',')\n",
    "        arr.append(pol_list)\n",
    "            \n",
    "        print(arr)\n",
    "        \n",
    "        \n",
    "        n=n+1"
   ]
  },
  {
   "cell_type": "code",
   "execution_count": 69,
   "metadata": {},
   "outputs": [
    {
     "name": "stdout",
     "output_type": "stream",
     "text": [
      "100\n",
      "200\n",
      "300\n",
      "400\n",
      "500\n",
      "600\n",
      "700\n",
      "800\n",
      "900\n",
      "1000\n"
     ]
    }
   ],
   "source": [
    "# Para calcular los genes que se tomaron para cada uno de los arrays que se obtendrán \n",
    "# después de esta función, se usa el siguinte algoritmo\n",
    "\n",
    "n=100 #valor inicial de filas y columnas tomadas\n",
    "while n < 1100:\n",
    "    m=n\n",
    "    for m in range (m,m+100,100):\n",
    "        \n",
    "        print(m)\n",
    "    \n",
    "    n=n+100"
   ]
  },
  {
   "cell_type": "code",
   "execution_count": 70,
   "metadata": {},
   "outputs": [
    {
     "name": "stdout",
     "output_type": "stream",
     "text": [
      "10\n",
      "20\n",
      "30\n",
      "40\n",
      "50\n",
      "60\n",
      "70\n",
      "80\n",
      "90\n",
      "100\n"
     ]
    }
   ],
   "source": [
    "# Para calcular los genes que se tomaron para cada uno de los arrays que se obtendrán \n",
    "# después de esta función, se usa el siguinte algoritmo\n",
    "\n",
    "n=10 #valor inicial de filas y columnas tomadas\n",
    "while n < 110:\n",
    "    m=n\n",
    "    for m in range (m,m+10,10):\n",
    "        \n",
    "        print(m)\n",
    "    \n",
    "    n=n+10"
   ]
  },
  {
   "cell_type": "code",
   "execution_count": 77,
   "metadata": {},
   "outputs": [],
   "source": [
    "list_first_100 = cal_sev_coeff(10,110,10,10,10)"
   ]
  },
  {
   "cell_type": "code",
   "execution_count": 79,
   "metadata": {},
   "outputs": [
    {
     "data": {
      "text/plain": [
       "[-46.000000000000036,\n",
       " -159.99999999999994,\n",
       " -333.9999999999999,\n",
       " -607.9999999999995,\n",
       " -992.0000000000002,\n",
       " -1419.9999999999993,\n",
       " -1934.0000000000014,\n",
       " -2652.000000000001,\n",
       " -3308.000000000001,\n",
       " -4140.000000000002]"
      ]
     },
     "execution_count": 79,
     "metadata": {},
     "output_type": "execute_result"
    }
   ],
   "source": [
    "coeff_first_100=[arr[1] for arr in list_first_100]\n",
    "coeff_first_100"
   ]
  },
  {
   "cell_type": "code",
   "execution_count": 139,
   "metadata": {},
   "outputs": [
    {
     "data": {
      "text/plain": [
       "[23.000000000000018,\n",
       " 79.99999999999997,\n",
       " 166.99999999999994,\n",
       " 303.9999999999998,\n",
       " 496.0000000000001,\n",
       " 709.9999999999997,\n",
       " 967.0000000000007,\n",
       " 1326.0000000000005,\n",
       " 1654.0000000000005,\n",
       " 2070.000000000001]"
      ]
     },
     "execution_count": 139,
     "metadata": {},
     "output_type": "execute_result"
    }
   ],
   "source": [
    "get_alg_conn(coeff_first_100)\n",
    "    "
   ]
  },
  {
   "cell_type": "markdown",
   "metadata": {},
   "source": [
    "# Conectividad Algebraica"
   ]
  },
  {
   "cell_type": "markdown",
   "metadata": {},
   "source": [
    "### Primeros 1000 genes (de 100 en 100)"
   ]
  },
  {
   "cell_type": "code",
   "execution_count": 97,
   "metadata": {},
   "outputs": [
    {
     "name": "stdout",
     "output_type": "stream",
     "text": [
      "100\n",
      "200\n",
      "300\n",
      "400\n",
      "500\n",
      "600\n",
      "700\n",
      "800\n",
      "900\n",
      "1000\n",
      "1100\n",
      "1200\n",
      "1300\n",
      "1400\n",
      "1500\n",
      "1600\n",
      "1700\n",
      "1800\n",
      "1900\n",
      "2000\n"
     ]
    }
   ],
   "source": [
    "# Para calcular los genes que se tomaron para cada uno de los arrays que se obtendrán \n",
    "# después de esta función, se usa el siguinte algoritmo\n",
    "\n",
    "n=100 #valor inicial de filas y columnas tomadas\n",
    "while n < 2100:\n",
    "    m=n\n",
    "    for m in range (m,m+100,100):\n",
    "        \n",
    "        print(m)\n",
    "    \n",
    "    n=n+100"
   ]
  },
  {
   "cell_type": "code",
   "execution_count": 85,
   "metadata": {},
   "outputs": [],
   "source": [
    "list_first_1000 = cal_sev_coeff(100,1100,100,100,100)\n"
   ]
  },
  {
   "cell_type": "code",
   "execution_count": 92,
   "metadata": {},
   "outputs": [
    {
     "data": {
      "text/plain": [
       "[-4140.000000000002,\n",
       " -16948.00000000002,\n",
       " -38042.00000000006,\n",
       " -66052.00000000004,\n",
       " -102478.00000000004,\n",
       " -146780.0000000003,\n",
       " -201736.0000000003,\n",
       " -264750.00000000064,\n",
       " -333826.0000000005,\n",
       " -411320.0000000009]"
      ]
     },
     "execution_count": 92,
     "metadata": {},
     "output_type": "execute_result"
    }
   ],
   "source": [
    "coeff_first_1000=[arr[1] for arr in list_first_1000]\n",
    "coeff_first_1000"
   ]
  },
  {
   "cell_type": "code",
   "execution_count": 141,
   "metadata": {},
   "outputs": [],
   "source": [
    "alg_conn1 = get_alg_conn(coeff_first_1000)\n"
   ]
  },
  {
   "cell_type": "markdown",
   "metadata": {},
   "source": [
    "### Desde el gen 1000 hasta el 2000 (de 100 en 100)"
   ]
  },
  {
   "cell_type": "code",
   "execution_count": 93,
   "metadata": {},
   "outputs": [],
   "source": [
    "list_2000 = cal_sev_coeff(1100,2100,100,100,100)"
   ]
  },
  {
   "cell_type": "code",
   "execution_count": 94,
   "metadata": {},
   "outputs": [
    {
     "data": {
      "text/plain": [
       "[-501440.00000000134,\n",
       " -596028.0000000008,\n",
       " -698224.0000000008,\n",
       " -810344.0000000013,\n",
       " -934916.000000001,\n",
       " -1056910.0000000023,\n",
       " -1199338.000000003,\n",
       " -1342138.0000000007,\n",
       " -1489470.0000000026,\n",
       " -1645808.000000002]"
      ]
     },
     "execution_count": 94,
     "metadata": {},
     "output_type": "execute_result"
    }
   ],
   "source": [
    "coeff_2000=[arr[1] for arr in list_2000]\n",
    "coeff_2000"
   ]
  },
  {
   "cell_type": "code",
   "execution_count": 140,
   "metadata": {},
   "outputs": [],
   "source": [
    "alg_conn2 = get_alg_conn(coeff_2000)\n",
    "\n"
   ]
  },
  {
   "cell_type": "code",
   "execution_count": 96,
   "metadata": {},
   "outputs": [
    {
     "data": {
      "text/plain": [
       "array([ 1.00000000e+00, -1.64580800e+06,  1.35361396e+12, ...,\n",
       "                   inf,            -inf,             inf])"
      ]
     },
     "execution_count": 96,
     "metadata": {},
     "output_type": "execute_result"
    }
   ],
   "source": [
    "pol_char_from_signless_lap(A,2000)"
   ]
  },
  {
   "cell_type": "markdown",
   "metadata": {},
   "source": [
    "### Desde el gen 2000 hasta el 3000 (de 100 en 100)"
   ]
  },
  {
   "cell_type": "code",
   "execution_count": 99,
   "metadata": {},
   "outputs": [
    {
     "name": "stdout",
     "output_type": "stream",
     "text": [
      "El tiempo de ejecución fue de  309.6622155130008 segundos\n"
     ]
    }
   ],
   "source": [
    "inicio = time.perf_counter()\n",
    "\n",
    "list__3000 = cal_sev_coeff(2100,3100,100,100,100)\n",
    "\n",
    "final = time.perf_counter()\n",
    "\n",
    "print(\"El tiempo de ejecución fue de \", final-inicio,\"segundos\")"
   ]
  },
  {
   "cell_type": "code",
   "execution_count": 101,
   "metadata": {},
   "outputs": [
    {
     "data": {
      "text/plain": [
       "[-1810374.000000002,\n",
       " -1993952.000000006,\n",
       " -2174546.000000006,\n",
       " -2372716.0000000065,\n",
       " -2574236.000000006,\n",
       " -2783772.000000004,\n",
       " -3005102.0000000023,\n",
       " -3227890.000000006,\n",
       " -3458056.0000000126,\n",
       " -3695252.000000009]"
      ]
     },
     "execution_count": 101,
     "metadata": {},
     "output_type": "execute_result"
    }
   ],
   "source": [
    "coeff_3000=[arr[1] for arr in list__3000]\n",
    "coeff_3000"
   ]
  },
  {
   "cell_type": "code",
   "execution_count": 142,
   "metadata": {},
   "outputs": [],
   "source": [
    "alg_conn3 = get_alg_conn(coeff_3000)"
   ]
  },
  {
   "cell_type": "markdown",
   "metadata": {},
   "source": [
    "### Desde el gen 3000 hasta el 4000 (de 100 en 100)"
   ]
  },
  {
   "cell_type": "code",
   "execution_count": 103,
   "metadata": {},
   "outputs": [
    {
     "name": "stdout",
     "output_type": "stream",
     "text": [
      "El tiempo de ejecución fue de  691.7550197669989 segundos\n"
     ]
    }
   ],
   "source": [
    "inicio = time.perf_counter()\n",
    "\n",
    "list_4000 = cal_sev_coeff(3100,4100,100,100,100)\n",
    "\n",
    "final = time.perf_counter()\n",
    "\n",
    "print(\"El tiempo de ejecución fue de \", final-inicio,\"segundos\")"
   ]
  },
  {
   "cell_type": "code",
   "execution_count": 104,
   "metadata": {},
   "outputs": [
    {
     "data": {
      "text/plain": [
       "[-3937070.000000006,\n",
       " -4205056.000000006,\n",
       " -4463896.00000001,\n",
       " -4751984.000000011,\n",
       " -5017824.000000006,\n",
       " -5310285.999999998,\n",
       " -5614526.0000000205,\n",
       " -5920820.00000003,\n",
       " -6244442.000000025,\n",
       " -6569786.000000008]"
      ]
     },
     "execution_count": 104,
     "metadata": {},
     "output_type": "execute_result"
    }
   ],
   "source": [
    "coeff_4000=[arr[1] for arr in list_4000]\n",
    "coeff_4000"
   ]
  },
  {
   "cell_type": "code",
   "execution_count": 143,
   "metadata": {},
   "outputs": [],
   "source": [
    "alg_conn4 = get_alg_conn(coeff_4000)"
   ]
  },
  {
   "cell_type": "markdown",
   "metadata": {},
   "source": [
    "### Desde el gen 4000 hasta el 5000 (de 100 en 100)"
   ]
  },
  {
   "cell_type": "code",
   "execution_count": 106,
   "metadata": {},
   "outputs": [
    {
     "name": "stdout",
     "output_type": "stream",
     "text": [
      "El tiempo de ejecución fue de  1343.8364031600013 segundos\n"
     ]
    }
   ],
   "source": [
    "inicio = time.perf_counter()\n",
    "\n",
    "list_5000 = cal_sev_coeff(4100,5100,100,100,100)\n",
    "\n",
    "final = time.perf_counter()\n",
    "\n",
    "print(\"El tiempo de ejecución fue de \", final-inicio,\"segundos\")"
   ]
  },
  {
   "cell_type": "code",
   "execution_count": 107,
   "metadata": {},
   "outputs": [
    {
     "data": {
      "text/plain": [
       "[-6909444.000000009,\n",
       " -7240658.000000012,\n",
       " -7586169.999999999,\n",
       " -7930306.0000000205,\n",
       " -8297390.0000000205,\n",
       " -8665640.000000037,\n",
       " -9042102.000000037,\n",
       " -9434446.000000034,\n",
       " -9816614.00000002,\n",
       " -10210350.000000017]"
      ]
     },
     "execution_count": 107,
     "metadata": {},
     "output_type": "execute_result"
    }
   ],
   "source": [
    "coeff_5000=[arr[1] for arr in list_5000]\n",
    "coeff_5000"
   ]
  },
  {
   "cell_type": "code",
   "execution_count": 144,
   "metadata": {},
   "outputs": [],
   "source": [
    "alg_conn5 = get_alg_conn(coeff_5000)"
   ]
  },
  {
   "cell_type": "markdown",
   "metadata": {},
   "source": [
    "### Desde el gen 5000 hasta el 6000 (de 100 en 100)"
   ]
  },
  {
   "cell_type": "code",
   "execution_count": 110,
   "metadata": {},
   "outputs": [
    {
     "name": "stdout",
     "output_type": "stream",
     "text": [
      "El tiempo de ejecución fue de  2541.8040787930004 segundos\n"
     ]
    }
   ],
   "source": [
    "inicio = time.perf_counter()\n",
    "\n",
    "list_6000 = cal_sev_coeff(5100,6100,100,100,100)\n",
    "\n",
    "final = time.perf_counter()\n",
    "\n",
    "print(\"El tiempo de ejecución fue de \", final-inicio,\"segundos\")"
   ]
  },
  {
   "cell_type": "code",
   "execution_count": 111,
   "metadata": {},
   "outputs": [
    {
     "data": {
      "text/plain": [
       "[-10631699.999999981,\n",
       " -11026308.00000003,\n",
       " -11441668.000000052,\n",
       " -11875442.000000054,\n",
       " -12336998.000000015,\n",
       " -12781837.999999952,\n",
       " -13232355.999999996,\n",
       " -13685882.000000013,\n",
       " -14169666.000000022,\n",
       " -14646816.000000037]"
      ]
     },
     "execution_count": 111,
     "metadata": {},
     "output_type": "execute_result"
    }
   ],
   "source": [
    "coeff_6000=[arr[1] for arr in list_6000]\n",
    "coeff_6000"
   ]
  },
  {
   "cell_type": "code",
   "execution_count": 145,
   "metadata": {},
   "outputs": [],
   "source": [
    "alg_conn6 = get_alg_conn(coeff_6000)"
   ]
  },
  {
   "cell_type": "code",
   "execution_count": 124,
   "metadata": {},
   "outputs": [
    {
     "name": "stdout",
     "output_type": "stream",
     "text": [
      "[100, 200, 300, 400, 500, 600, 700, 800, 900, 1000, 1100, 1200, 1300, 1400, 1500, 1600, 1700, 1800, 1900, 2000, 2100, 2200, 2300, 2400, 2500, 2600, 2700, 2800, 2900, 3000, 3100, 3200, 3300, 3400, 3500, 3600, 3700, 3800, 3900, 4000, 4100, 4200, 4300, 4400, 4500, 4600, 4700, 4800, 4900, 5000, 5100, 5200, 5300, 5400, 5500, 5600, 5700, 5800, 5900, 6000]\n"
     ]
    }
   ],
   "source": [
    "# Para calcular los genes que se tomaron para cada uno de los arrays que se obtendrán \n",
    "# después de esta función, se usa el siguinte algoritmo\n",
    "lista_genes=[]\n",
    "n=100 #valor inicial de filas y columnas tomadas\n",
    "while n < 6100:\n",
    "    m=n\n",
    "    for m in range (m,m+100,100):\n",
    "        \n",
    "        lista_genes.append(m)\n",
    "        n=n+100\n",
    "\n",
    "print(lista_genes)\n",
    "    \n",
    "    "
   ]
  },
  {
   "cell_type": "code",
   "execution_count": 193,
   "metadata": {},
   "outputs": [],
   "source": [
    "x_genes = [100, 200, 300, 400, 500, 600, 700, 800, 900, 1000, 1100, 1200, 1300, 1400, 1500, 1600, 1700, 1800, 1900, 2000, 2100, 2200, 2300, 2400, 2500, 2600, 2700, 2800, 2900, 3000, 3100, 3200, 3300, 3400, 3500, 3600, 3700, 3800, 3900, 4000, 4100, 4200, 4300, 4400, 4500, 4600, 4700, 4800, 4900, 5000, 5100, 5200, 5300, 5400, 5500, 5600, 5700, 5800, 5900, 6000]"
   ]
  },
  {
   "cell_type": "code",
   "execution_count": 194,
   "metadata": {},
   "outputs": [],
   "source": [
    "y_alg_conn = alg_conn1 + alg_conn2 + alg_conn3 +alg_conn4 +alg_conn5 +alg_conn6 "
   ]
  },
  {
   "cell_type": "code",
   "execution_count": 195,
   "metadata": {},
   "outputs": [],
   "source": [
    "y_alg_conn_mod = np.array(x_alg_conn, dtype=np.float128)"
   ]
  },
  {
   "cell_type": "code",
   "execution_count": 196,
   "metadata": {},
   "outputs": [
    {
     "data": {
      "text/plain": [
       "array([2.070000e+03, 8.474000e+03, 1.902100e+04, 3.302600e+04,\n",
       "       5.123900e+04, 7.339000e+04, 1.008680e+05, 1.323750e+05,\n",
       "       1.669130e+05, 2.056600e+05, 2.507200e+05, 2.980140e+05,\n",
       "       3.491120e+05, 4.051720e+05, 4.674580e+05, 5.284550e+05,\n",
       "       5.996690e+05, 6.710690e+05, 7.447350e+05, 8.229040e+05,\n",
       "       9.051870e+05, 9.969760e+05, 1.087273e+06, 1.186358e+06,\n",
       "       1.287118e+06, 1.391886e+06, 1.502551e+06, 1.613945e+06,\n",
       "       1.729028e+06, 1.847626e+06, 1.968535e+06, 2.102528e+06,\n",
       "       2.231948e+06, 2.375992e+06, 2.508912e+06, 2.655143e+06,\n",
       "       2.807263e+06, 2.960410e+06, 3.122221e+06, 3.284893e+06,\n",
       "       3.454722e+06, 3.620329e+06, 3.793085e+06, 3.965153e+06,\n",
       "       4.148695e+06, 4.332820e+06, 4.521051e+06, 4.717223e+06,\n",
       "       4.908307e+06, 5.105175e+06, 5.315850e+06, 5.513154e+06,\n",
       "       5.720834e+06, 5.937721e+06, 6.168499e+06, 6.390919e+06,\n",
       "       6.616178e+06, 6.842941e+06, 7.084833e+06, 7.323408e+06],\n",
       "      dtype=float128)"
      ]
     },
     "execution_count": 196,
     "metadata": {},
     "output_type": "execute_result"
    }
   ],
   "source": [
    "y_alg_conn_mod"
   ]
  },
  {
   "cell_type": "code",
   "execution_count": 197,
   "metadata": {},
   "outputs": [
    {
     "data": {
      "text/plain": [
       "60"
      ]
     },
     "execution_count": 197,
     "metadata": {},
     "output_type": "execute_result"
    }
   ],
   "source": [
    "len(y_genes)"
   ]
  },
  {
   "cell_type": "code",
   "execution_count": 198,
   "metadata": {},
   "outputs": [
    {
     "data": {
      "text/plain": [
       "60"
      ]
     },
     "execution_count": 198,
     "metadata": {},
     "output_type": "execute_result"
    }
   ],
   "source": [
    "len(x_alg_conn)"
   ]
  },
  {
   "cell_type": "code",
   "execution_count": 199,
   "metadata": {},
   "outputs": [
    {
     "data": {
      "text/plain": [
       "Text(0, 0.5, 'Número de bordes')"
      ]
     },
     "execution_count": 199,
     "metadata": {},
     "output_type": "execute_result"
    },
    {
     "data": {
      "image/png": "[encoded data removed]",
      "text/plain": [
       "<Figure size 432x288 with 1 Axes>"
      ]
     },
     "metadata": {
      "needs_background": "light"
     },
     "output_type": "display_data"
    }
   ],
   "source": [
    "plt.plot(x_genes,y_alg_conn_mod,'o', color = 'green')\n",
    "plt.xlabel(\"Número de Genes\")\n",
    "plt.ylabel(\"Número de bordes\")"
   ]
  },
  {
   "cell_type": "code",
   "execution_count": 213,
   "metadata": {},
   "outputs": [],
   "source": [
    "d ={'x':x_genes,'y':y_alg_conn}\n",
    "data_f=pd.DataFrame(data=d)"
   ]
  },
  {
   "cell_type": "code",
   "execution_count": 236,
   "metadata": {},
   "outputs": [
    {
     "data": {
      "text/plain": [
       "7.600902459542082"
      ]
     },
     "execution_count": 236,
     "metadata": {},
     "output_type": "execute_result"
    }
   ],
   "source": [
    "np.log(2000)"
   ]
  },
  {
   "cell_type": "code",
   "execution_count": null,
   "metadata": {},
   "outputs": [],
   "source": []
  },
  {
   "cell_type": "code",
   "execution_count": 211,
   "metadata": {},
   "outputs": [],
   "source": [
    "import statsmodels.formula.api as smf"
   ]
  },
  {
   "cell_type": "code",
   "execution_count": 216,
   "metadata": {},
   "outputs": [],
   "source": [
    "lm = smf.ols(formula=\"y~x\",data =data_f).fit()"
   ]
  },
  {
   "cell_type": "code",
   "execution_count": 217,
   "metadata": {},
   "outputs": [
    {
     "data": {
      "text/plain": [
       "<statsmodels.regression.linear_model.RegressionResultsWrapper at 0xa232c35d0>"
      ]
     },
     "execution_count": 217,
     "metadata": {},
     "output_type": "execute_result"
    }
   ],
   "source": [
    "lm"
   ]
  },
  {
   "cell_type": "code",
   "execution_count": 219,
   "metadata": {},
   "outputs": [
    {
     "data": {
      "text/plain": [
       "Intercept   -1.277400e+06\n",
       "x            1.243831e+03\n",
       "dtype: float64"
      ]
     },
     "execution_count": 219,
     "metadata": {},
     "output_type": "execute_result"
    }
   ],
   "source": [
    "lm.params"
   ]
  },
  {
   "cell_type": "code",
   "execution_count": 220,
   "metadata": {},
   "outputs": [
    {
     "data": {
      "text/plain": [
       "Intercept    1.861097e-12\n",
       "x            2.354916e-37\n",
       "dtype: float64"
      ]
     },
     "execution_count": 220,
     "metadata": {},
     "output_type": "execute_result"
    }
   ],
   "source": [
    "lm.pvalues"
   ]
  },
  {
   "cell_type": "code",
   "execution_count": 221,
   "metadata": {},
   "outputs": [
    {
     "data": {
      "text/plain": [
       "0.9410647297957214"
      ]
     },
     "execution_count": 221,
     "metadata": {},
     "output_type": "execute_result"
    }
   ],
   "source": [
    "lm.rsquared"
   ]
  },
  {
   "cell_type": "code",
   "execution_count": 222,
   "metadata": {},
   "outputs": [
    {
     "data": {
      "text/plain": [
       "0.9400486044473718"
      ]
     },
     "execution_count": 222,
     "metadata": {},
     "output_type": "execute_result"
    }
   ],
   "source": [
    "lm.rsquared_adj"
   ]
  },
  {
   "cell_type": "code",
   "execution_count": 223,
   "metadata": {},
   "outputs": [
    {
     "data": {
      "text/html": [
       "<table class=\"simpletable\">\n",
       "<caption>OLS Regression Results</caption>\n",
       "<tr>\n",
       "  <th>Dep. Variable:</th>            <td>y</td>        <th>  R-squared:         </th> <td>   0.941</td>\n",
       "</tr>\n",
       "<tr>\n",
       "  <th>Model:</th>                   <td>OLS</td>       <th>  Adj. R-squared:    </th> <td>   0.940</td>\n",
       "</tr>\n",
       "<tr>\n",
       "  <th>Method:</th>             <td>Least Squares</td>  <th>  F-statistic:       </th> <td>   926.1</td>\n",
       "</tr>\n",
       "<tr>\n",
       "  <th>Date:</th>             <td>Thu, 22 Oct 2020</td> <th>  Prob (F-statistic):</th> <td>2.35e-37</td>\n",
       "</tr>\n",
       "<tr>\n",
       "  <th>Time:</th>                 <td>16:26:40</td>     <th>  Log-Likelihood:    </th> <td> -876.99</td>\n",
       "</tr>\n",
       "<tr>\n",
       "  <th>No. Observations:</th>      <td>    60</td>      <th>  AIC:               </th> <td>   1758.</td>\n",
       "</tr>\n",
       "<tr>\n",
       "  <th>Df Residuals:</th>          <td>    58</td>      <th>  BIC:               </th> <td>   1762.</td>\n",
       "</tr>\n",
       "<tr>\n",
       "  <th>Df Model:</th>              <td>     1</td>      <th>                     </th>     <td> </td>   \n",
       "</tr>\n",
       "<tr>\n",
       "  <th>Covariance Type:</th>      <td>nonrobust</td>    <th>                     </th>     <td> </td>   \n",
       "</tr>\n",
       "</table>\n",
       "<table class=\"simpletable\">\n",
       "<tr>\n",
       "      <td></td>         <th>coef</th>     <th>std err</th>      <th>t</th>      <th>P>|t|</th>  <th>[0.025</th>    <th>0.975]</th>  \n",
       "</tr>\n",
       "<tr>\n",
       "  <th>Intercept</th> <td>-1.277e+06</td> <td> 1.43e+05</td> <td>   -8.911</td> <td> 0.000</td> <td>-1.56e+06</td> <td> -9.9e+05</td>\n",
       "</tr>\n",
       "<tr>\n",
       "  <th>x</th>         <td> 1243.8309</td> <td>   40.872</td> <td>   30.432</td> <td> 0.000</td> <td> 1162.017</td> <td> 1325.645</td>\n",
       "</tr>\n",
       "</table>\n",
       "<table class=\"simpletable\">\n",
       "<tr>\n",
       "  <th>Omnibus:</th>       <td> 8.104</td> <th>  Durbin-Watson:     </th> <td>   0.016</td>\n",
       "</tr>\n",
       "<tr>\n",
       "  <th>Prob(Omnibus):</th> <td> 0.017</td> <th>  Jarque-Bera (JB):  </th> <td>   5.845</td>\n",
       "</tr>\n",
       "<tr>\n",
       "  <th>Skew:</th>          <td> 0.631</td> <th>  Prob(JB):          </th> <td>  0.0538</td>\n",
       "</tr>\n",
       "<tr>\n",
       "  <th>Kurtosis:</th>      <td> 2.137</td> <th>  Cond. No.          </th> <td>7.10e+03</td>\n",
       "</tr>\n",
       "</table><br/><br/>Warnings:<br/>[1] Standard Errors assume that the covariance matrix of the errors is correctly specified.<br/>[2] The condition number is large, 7.1e+03. This might indicate that there are<br/>strong multicollinearity or other numerical problems."
      ],
      "text/plain": [
       "<class 'statsmodels.iolib.summary.Summary'>\n",
       "\"\"\"\n",
       "                            OLS Regression Results                            \n",
       "==============================================================================\n",
       "Dep. Variable:                      y   R-squared:                       0.941\n",
       "Model:                            OLS   Adj. R-squared:                  0.940\n",
       "Method:                 Least Squares   F-statistic:                     926.1\n",
       "Date:                Thu, 22 Oct 2020   Prob (F-statistic):           2.35e-37\n",
       "Time:                        16:26:40   Log-Likelihood:                -876.99\n",
       "No. Observations:                  60   AIC:                             1758.\n",
       "Df Residuals:                      58   BIC:                             1762.\n",
       "Df Model:                           1                                         \n",
       "Covariance Type:            nonrobust                                         \n",
       "==============================================================================\n",
       "                 coef    std err          t      P>|t|      [0.025      0.975]\n",
       "------------------------------------------------------------------------------\n",
       "Intercept  -1.277e+06   1.43e+05     -8.911      0.000   -1.56e+06    -9.9e+05\n",
       "x           1243.8309     40.872     30.432      0.000    1162.017    1325.645\n",
       "==============================================================================\n",
       "Omnibus:                        8.104   Durbin-Watson:                   0.016\n",
       "Prob(Omnibus):                  0.017   Jarque-Bera (JB):                5.845\n",
       "Skew:                           0.631   Prob(JB):                       0.0538\n",
       "Kurtosis:                       2.137   Cond. No.                     7.10e+03\n",
       "==============================================================================\n",
       "\n",
       "Warnings:\n",
       "[1] Standard Errors assume that the covariance matrix of the errors is correctly specified.\n",
       "[2] The condition number is large, 7.1e+03. This might indicate that there are\n",
       "strong multicollinearity or other numerical problems.\n",
       "\"\"\""
      ]
     },
     "execution_count": 223,
     "metadata": {},
     "output_type": "execute_result"
    }
   ],
   "source": [
    "lm.summary()"
   ]
  },
  {
   "cell_type": "code",
   "execution_count": 225,
   "metadata": {},
   "outputs": [
    {
     "data": {
      "text/plain": [
       "0    -1.153017e+06\n",
       "1    -1.028634e+06\n",
       "2    -9.042510e+05\n",
       "3    -7.798680e+05\n",
       "4    -6.554849e+05\n",
       "5    -5.311018e+05\n",
       "6    -4.067187e+05\n",
       "7    -2.823356e+05\n",
       "8    -1.579525e+05\n",
       "9    -3.356942e+04\n",
       "10    9.081367e+04\n",
       "11    2.151968e+05\n",
       "12    3.395798e+05\n",
       "13    4.639629e+05\n",
       "14    5.883460e+05\n",
       "15    7.127291e+05\n",
       "16    8.371122e+05\n",
       "17    9.614953e+05\n",
       "18    1.085878e+06\n",
       "19    1.210261e+06\n",
       "20    1.334645e+06\n",
       "21    1.459028e+06\n",
       "22    1.583411e+06\n",
       "23    1.707794e+06\n",
       "24    1.832177e+06\n",
       "25    1.956560e+06\n",
       "26    2.080943e+06\n",
       "27    2.205326e+06\n",
       "28    2.329709e+06\n",
       "29    2.454092e+06\n",
       "30    2.578475e+06\n",
       "31    2.702859e+06\n",
       "32    2.827242e+06\n",
       "33    2.951625e+06\n",
       "34    3.076008e+06\n",
       "35    3.200391e+06\n",
       "36    3.324774e+06\n",
       "37    3.449157e+06\n",
       "38    3.573540e+06\n",
       "39    3.697923e+06\n",
       "40    3.822306e+06\n",
       "41    3.946689e+06\n",
       "42    4.071073e+06\n",
       "43    4.195456e+06\n",
       "44    4.319839e+06\n",
       "45    4.444222e+06\n",
       "46    4.568605e+06\n",
       "47    4.692988e+06\n",
       "48    4.817371e+06\n",
       "49    4.941754e+06\n",
       "50    5.066137e+06\n",
       "51    5.190520e+06\n",
       "52    5.314903e+06\n",
       "53    5.439286e+06\n",
       "54    5.563670e+06\n",
       "55    5.688053e+06\n",
       "56    5.812436e+06\n",
       "57    5.936819e+06\n",
       "58    6.061202e+06\n",
       "59    6.185585e+06\n",
       "dtype: float64"
      ]
     },
     "execution_count": 225,
     "metadata": {},
     "output_type": "execute_result"
    }
   ],
   "source": [
    "edge_pred = lm.predict(pd.DataFrame(data_f[\"x\"]))\n",
    "edge_pred"
   ]
  },
  {
   "cell_type": "code",
   "execution_count": 234,
   "metadata": {},
   "outputs": [
    {
     "data": {
      "text/plain": [
       "[<matplotlib.lines.Line2D at 0xa26c039d0>]"
      ]
     },
     "execution_count": 234,
     "metadata": {},
     "output_type": "execute_result"
    },
    {
     "data": {
      "image/png": "[encoded data removed]",
      "text/plain": [
       "<Figure size 432x288 with 1 Axes>"
      ]
     },
     "metadata": {
      "needs_background": "light"
     },
     "output_type": "display_data"
    }
   ],
   "source": [
    "%matplotlib inline\n",
    "data_f.plot(kind = \"scatter\", x = \"x\", y = \"y\")\n",
    "plt.plot(pd.DataFrame(data_f[\"x\"]), edge_pred, c= \"red\",linewidth=2)"
   ]
  },
  {
   "cell_type": "code",
   "execution_count": null,
   "metadata": {},
   "outputs": [],
   "source": []
  }
 ],
 "metadata": {
  "kernelspec": {
   "display_name": "Python 3",
   "language": "python",
   "name": "python3"
  },
  "language_info": {
   "codemirror_mode": {
    "name": "ipython",
    "version": 3
   },
   "file_extension": ".py",
   "mimetype": "text/x-python",
   "name": "python",
   "nbconvert_exporter": "python",
   "pygments_lexer": "ipython3",
   "version": "3.7.4"
  }
 },
 "nbformat": 4,
 "nbformat_minor": 2
}
