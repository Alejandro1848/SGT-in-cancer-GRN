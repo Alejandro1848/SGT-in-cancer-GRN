{
 "cells": [
  {
   "cell_type": "code",
   "execution_count": 1,
   "metadata": {},
   "outputs": [],
   "source": [
    "import numpy as np\n",
    "import pandas as pd \n",
    "import networkx as nx\n",
    "import math\n",
    "import sympy as sp\n",
    "import matplotlib.pyplot as plt\n",
    "import time\n",
    "\n",
    "from sympy import *\n",
    "from numpy import linalg as LA\n",
    "from numpy.linalg import matrix_rank"
   ]
  },
  {
   "cell_type": "code",
   "execution_count": 2,
   "metadata": {},
   "outputs": [
    {
     "name": "stdout",
     "output_type": "stream",
     "text": [
      "File directory:/Users/alex/Desktop/MatrizAdjSano/MatrizAdjTumor/adjmatrix_UNT.txt\n"
     ]
    }
   ],
   "source": [
    "#Establecer directorio de datos\n",
    "\n",
    "DIR='/Users/alex/Desktop'\n",
    "FILE='/MatrizAdjSano/MatrizAdjTumor/adjmatrix_UNT.txt'\n",
    "\n",
    "file='{}{}'.format(DIR,FILE)\n",
    "\n",
    "print('File directory:{}'.format(file))\n",
    "\n"
   ]
  },
  {
   "cell_type": "code",
   "execution_count": 3,
   "metadata": {},
   "outputs": [],
   "source": [
    "data=pd.read_table(file)\n",
    "a=np.diag(np.ones(16748),0)\n",
    "A=data-a"
   ]
  },
  {
   "cell_type": "code",
   "execution_count": 4,
   "metadata": {},
   "outputs": [],
   "source": [
    "threshold = A.mean().mean()"
   ]
  },
  {
   "cell_type": "code",
   "execution_count": 5,
   "metadata": {},
   "outputs": [],
   "source": [
    "#https://stackoverflow.com/questions/13914920/networkx-extract-the-connected-component-containing-a-given-node-directed-grap?fbclid=IwAR0CLa62zO8y43PVzLDO54AZEo8Gozv4ai8hJDFKXXcgc8mZlN95wu3Xlio\n",
    "\n",
    "#Función para ver qué forma tiene la matriz del data set que estamos\n",
    "#estudiando \n",
    "\n",
    "def mat_shape(mat,n):\n",
    "    \n",
    "    new_data=mat.iloc[:n,:n]\n",
    "    \n",
    "    new_data2=new_data.apply(lambda x:(np.where(x<threshold,0,x)))\n",
    "    adj_mat=new_data2.apply(lambda x:(np.where(x>threshold,1,x)))\n",
    "    \n",
    "    #completar la matriz triangular superior para tener la forma completa de una matriz\n",
    "    # simétrica\n",
    "    \n",
    "    adj_mod=np.matrix(adj_mat.fillna(0))\n",
    "    adj_mod_trans=adj_mod.transpose()\n",
    "    simm_mat=adj_mod+adj_mod_trans\n",
    "    \n",
    "    \n",
    "    return simm_mat"
   ]
  },
  {
   "cell_type": "code",
   "execution_count": 6,
   "metadata": {},
   "outputs": [],
   "source": [
    "#Función para calcular el polinomio característico de la matriz laplaciana sin signo\n",
    "\n",
    "def pol_char_from_signless_lap(mat,n):\n",
    "    \n",
    "    \n",
    "    simm_mat=mat_shape(mat,n)\n",
    "    \n",
    "    Adj_to_nx=nx.from_numpy_matrix(simm_mat)\n",
    "    L_from_Adj=nx.laplacian_matrix(Adj_to_nx)\n",
    "    \n",
    "    L_arr=L_from_Adj.toarray()\n",
    "    L_np=np.matrix(L_arr)\n",
    "    \n",
    "    deg_Mat=L_np+simm_mat\n",
    "    \n",
    "    L_WO_Sign=deg_Mat+simm_mat\n",
    "    \n",
    "    pol_char=np.poly(L_WO_Sign)\n",
    "    \n",
    "    \n",
    "    \n",
    "    return pol_char"
   ]
  },
  {
   "cell_type": "markdown",
   "metadata": {},
   "source": [
    "## Análisis de la matriz laplciana sin signo para datos UNT"
   ]
  },
  {
   "cell_type": "markdown",
   "metadata": {},
   "source": [
    "## 1000 genes"
   ]
  },
  {
   "cell_type": "code",
   "execution_count": 7,
   "metadata": {},
   "outputs": [
    {
     "name": "stdout",
     "output_type": "stream",
     "text": [
      "Los coeficientes del polinomio característico son [ 1.00000000e+00 -4.20726000e+05  8.84157585e+10 ...             inf\n",
      "            -inf             inf]\n",
      "El tiempo de ejecución fue de  10.215920493000112 segundos\n"
     ]
    }
   ],
   "source": [
    "inicio = time.perf_counter()\n",
    "\n",
    "polinomio = pol_char_from_signless_lap(A,1000)\n",
    "\n",
    "final = time.perf_counter()\n",
    "\n",
    "print(\"Los coeficientes del polinomio característico son\", polinomio)\n",
    "\n",
    "print(\"El tiempo de ejecución fue de \", final-inicio,\"segundos\")"
   ]
  },
  {
   "cell_type": "markdown",
   "metadata": {},
   "source": [
    "## 2000 genes"
   ]
  },
  {
   "cell_type": "code",
   "execution_count": 8,
   "metadata": {},
   "outputs": [
    {
     "name": "stdout",
     "output_type": "stream",
     "text": [
      "Los coeficientes del polinomio característico son [ 1.00000000e+00 -1.68524400e+06  1.41930719e+12 ...             inf\n",
      "            -inf             inf]\n",
      "El tiempo de ejecución fue de  20.909962541999903 segundos\n"
     ]
    }
   ],
   "source": [
    "inicio = time.perf_counter()\n",
    "\n",
    "polinomio = pol_char_from_signless_lap(A,2000)\n",
    "\n",
    "final = time.perf_counter()\n",
    "\n",
    "print(\"Los coeficientes del polinomio característico son\", polinomio)\n",
    "\n",
    "print(\"El tiempo de ejecución fue de \", final-inicio,\"segundos\")"
   ]
  },
  {
   "cell_type": "markdown",
   "metadata": {},
   "source": [
    "## 3000 genes"
   ]
  },
  {
   "cell_type": "code",
   "execution_count": 9,
   "metadata": {},
   "outputs": [
    {
     "name": "stdout",
     "output_type": "stream",
     "text": [
      "Los coeficientes del polinomio característico son [ 1.00000000e+00 -3.78467800e+06  7.15948692e+12 ...             inf\n",
      "            -inf             inf]\n",
      "El tiempo de ejecución fue de  48.36551501500003 segundos\n"
     ]
    }
   ],
   "source": [
    "inicio = time.perf_counter()\n",
    "\n",
    "polinomio = pol_char_from_signless_lap(A,3000)\n",
    "\n",
    "final = time.perf_counter()\n",
    "\n",
    "print(\"Los coeficientes del polinomio característico son\", polinomio)\n",
    "\n",
    "print(\"El tiempo de ejecución fue de \", final-inicio,\"segundos\")"
   ]
  },
  {
   "cell_type": "markdown",
   "metadata": {},
   "source": [
    "## 4000 genes"
   ]
  },
  {
   "cell_type": "code",
   "execution_count": 10,
   "metadata": {},
   "outputs": [
    {
     "name": "stdout",
     "output_type": "stream",
     "text": [
      "Los coeficientes del polinomio característico son [ 1.00000000e+00 -6.73429600e+06  2.26696578e+13 ...             inf\n",
      "            -inf             inf]\n",
      "El tiempo de ejecución fue de  103.25166430600007 segundos\n"
     ]
    }
   ],
   "source": [
    "inicio = time.perf_counter()\n",
    "\n",
    "polinomio = pol_char_from_signless_lap(A,4000)\n",
    "\n",
    "final = time.perf_counter()\n",
    "\n",
    "print(\"Los coeficientes del polinomio característico son\", polinomio)\n",
    "\n",
    "print(\"El tiempo de ejecución fue de \", final-inicio,\"segundos\")"
   ]
  },
  {
   "cell_type": "markdown",
   "metadata": {},
   "source": [
    "## 5000 genes"
   ]
  },
  {
   "cell_type": "code",
   "execution_count": 11,
   "metadata": {},
   "outputs": [
    {
     "name": "stdout",
     "output_type": "stream",
     "text": [
      "Los coeficientes del polinomio característico son [ 1.00000000e+00 -1.05179340e+07  5.53023176e+13 ...             inf\n",
      "            -inf             inf]\n",
      "El tiempo de ejecución fue de  225.94665110899996 segundos\n"
     ]
    }
   ],
   "source": [
    "inicio = time.perf_counter()\n",
    "\n",
    "polinomio = pol_char_from_signless_lap(A,5000)\n",
    "\n",
    "final = time.perf_counter()\n",
    "\n",
    "print(\"Los coeficientes del polinomio característico son\", polinomio)\n",
    "\n",
    "print(\"El tiempo de ejecución fue de \", final-inicio,\"segundos\")"
   ]
  },
  {
   "cell_type": "markdown",
   "metadata": {},
   "source": [
    "## 6000 genes"
   ]
  },
  {
   "cell_type": "code",
   "execution_count": 12,
   "metadata": {},
   "outputs": [
    {
     "name": "stdout",
     "output_type": "stream",
     "text": [
      "Los coeficientes del polinomio característico son [ 1.00000000e+00 -1.51153600e+07  1.14217866e+14 ...             inf\n",
      "            -inf             inf]\n",
      "El tiempo de ejecución fue de  491.0024890710001 segundos\n"
     ]
    }
   ],
   "source": [
    "inicio = time.perf_counter()\n",
    "\n",
    "polinomio = pol_char_from_signless_lap(A,6000)\n",
    "\n",
    "final = time.perf_counter()\n",
    "\n",
    "print(\"Los coeficientes del polinomio característico son\", polinomio)\n",
    "\n",
    "print(\"El tiempo de ejecución fue de \", final-inicio,\"segundos\")"
   ]
  },
  {
   "cell_type": "markdown",
   "metadata": {},
   "source": [
    "## 7000 genes"
   ]
  },
  {
   "cell_type": "code",
   "execution_count": 13,
   "metadata": {},
   "outputs": [
    {
     "name": "stdout",
     "output_type": "stream",
     "text": [
      "Los coeficientes del polinomio característico son [ 1.00000000e+00 -2.05691240e+07  2.11513979e+14 ...             inf\n",
      "            -inf             inf]\n",
      "El tiempo de ejecución fue de  1019.7051259719997 segundos\n"
     ]
    }
   ],
   "source": [
    "inicio = time.perf_counter()\n",
    "\n",
    "polinomio = pol_char_from_signless_lap(A,7000)\n",
    "\n",
    "final = time.perf_counter()\n",
    "\n",
    "print(\"Los coeficientes del polinomio característico son\", polinomio)\n",
    "\n",
    "print(\"El tiempo de ejecución fue de \", final-inicio,\"segundos\")"
   ]
  },
  {
   "cell_type": "markdown",
   "metadata": {},
   "source": [
    "## 8000 genes"
   ]
  },
  {
   "cell_type": "code",
   "execution_count": 18,
   "metadata": {},
   "outputs": [
    {
     "name": "stdout",
     "output_type": "stream",
     "text": [
      "Los coeficientes del polinomio característico son [ 1.00000000e+00 -2.68269740e+07  3.59797947e+14 ...             inf\n",
      "            -inf             inf]\n",
      "El tiempo de ejecución fue de  4320.3833227840005 segundos\n"
     ]
    }
   ],
   "source": [
    "inicio = time.perf_counter()\n",
    "\n",
    "polinomio = pol_char_from_signless_lap(A,8000)\n",
    "\n",
    "final = time.perf_counter()\n",
    "\n",
    "print(\"Los coeficientes del polinomio característico son\", polinomio)\n",
    "\n",
    "print(\"El tiempo de ejecución fue de \", final-inicio,\"segundos\")"
   ]
  },
  {
   "cell_type": "code",
   "execution_count": null,
   "metadata": {},
   "outputs": [],
   "source": []
  }
 ],
 "metadata": {
  "kernelspec": {
   "display_name": "Python 3",
   "language": "python",
   "name": "python3"
  },
  "language_info": {
   "codemirror_mode": {
    "name": "ipython",
    "version": 3
   },
   "file_extension": ".py",
   "mimetype": "text/x-python",
   "name": "python",
   "nbconvert_exporter": "python",
   "pygments_lexer": "ipython3",
   "version": "3.7.4"
  }
 },
 "nbformat": 4,
 "nbformat_minor": 2
}
