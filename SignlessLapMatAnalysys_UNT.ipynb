{
 "cells": [
  {
   "cell_type": "code",
   "execution_count": 43,
   "metadata": {},
   "outputs": [],
   "source": [
    "import numpy as np\n",
    "import pandas as pd \n",
    "import networkx as nx\n",
    "import math\n",
    "import sympy as sp\n",
    "import matplotlib.pyplot as plt\n",
    "import time\n",
    "\n",
    "from sklearn import linear_model\n",
    "from sklearn.metrics import r2_score\n",
    "\n",
    "from sympy import *\n",
    "from numpy import linalg as LA\n",
    "from numpy.linalg import matrix_rank\n",
    "from array import array\n",
    "from scipy.optimize import curve_fit"
   ]
  },
  {
   "cell_type": "code",
   "execution_count": 2,
   "metadata": {},
   "outputs": [
    {
     "name": "stdout",
     "output_type": "stream",
     "text": [
      "File directory:/Users/alex/Desktop/MatrizAdjSano/MatrizAdjTumor/adjmatrix_UNT.txt\n"
     ]
    }
   ],
   "source": [
    "#Establecer directorio de datos\n",
    "\n",
    "DIR='/Users/alex/Desktop'\n",
    "FILE='/MatrizAdjSano/MatrizAdjTumor/adjmatrix_UNT.txt'\n",
    "\n",
    "file='{}{}'.format(DIR,FILE)\n",
    "\n",
    "print('File directory:{}'.format(file))\n",
    "\n"
   ]
  },
  {
   "cell_type": "code",
   "execution_count": 3,
   "metadata": {},
   "outputs": [],
   "source": [
    "data=pd.read_table(file)\n",
    "a=np.diag(np.ones(16748),0)\n",
    "A=data-a"
   ]
  },
  {
   "cell_type": "code",
   "execution_count": 4,
   "metadata": {},
   "outputs": [],
   "source": [
    "threshold = A.mean().mean()"
   ]
  },
  {
   "cell_type": "code",
   "execution_count": 5,
   "metadata": {},
   "outputs": [],
   "source": [
    "#https://stackoverflow.com/questions/13914920/networkx-extract-the-connected-component-containing-a-given-node-directed-grap?fbclid=IwAR0CLa62zO8y43PVzLDO54AZEo8Gozv4ai8hJDFKXXcgc8mZlN95wu3Xlio\n",
    "\n",
    "#Función para ver qué forma tiene la matriz del data set que estamos\n",
    "#estudiando \n",
    "\n",
    "def mat_shape(mat,n):\n",
    "    \n",
    "    new_data=mat.iloc[:n,:n]\n",
    "    \n",
    "    new_data2=new_data.apply(lambda x:(np.where(x<threshold,0,x)))\n",
    "    adj_mat=new_data2.apply(lambda x:(np.where(x>threshold,1,x)))\n",
    "    \n",
    "    #completar la matriz triangular superior para tener la forma completa de una matriz\n",
    "    # simétrica\n",
    "    \n",
    "    adj_mod=np.matrix(adj_mat.fillna(0))\n",
    "    adj_mod_trans=adj_mod.transpose()\n",
    "    simm_mat=adj_mod+adj_mod_trans\n",
    "    \n",
    "    \n",
    "    return simm_mat"
   ]
  },
  {
   "cell_type": "code",
   "execution_count": 6,
   "metadata": {},
   "outputs": [],
   "source": [
    "#Función para calcular el polinomio característico de la matriz laplaciana sin signo\n",
    "\n",
    "def pol_char_from_signless_lap(mat,n):\n",
    "    \n",
    "    \n",
    "    simm_mat=mat_shape(mat,n)\n",
    "    \n",
    "    Adj_to_nx=nx.from_numpy_matrix(simm_mat)\n",
    "    L_from_Adj=nx.laplacian_matrix(Adj_to_nx)\n",
    "    \n",
    "    L_arr=L_from_Adj.toarray()\n",
    "    L_np=np.matrix(L_arr)\n",
    "    \n",
    "    deg_Mat=L_np+simm_mat\n",
    "    \n",
    "    L_WO_Sign=deg_Mat+simm_mat\n",
    "    \n",
    "    pol_char=np.poly(L_WO_Sign)\n",
    "    \n",
    "    \n",
    "    \n",
    "    return pol_char"
   ]
  },
  {
   "cell_type": "markdown",
   "metadata": {},
   "source": [
    "## Análisis de la matriz laplciana sin signo para datos UNT"
   ]
  },
  {
   "cell_type": "markdown",
   "metadata": {},
   "source": [
    "## 1000 genes"
   ]
  },
  {
   "cell_type": "code",
   "execution_count": 7,
   "metadata": {},
   "outputs": [
    {
     "name": "stdout",
     "output_type": "stream",
     "text": [
      "Los coeficientes del polinomio característico son [ 1.00000000e+00 -4.20726000e+05  8.84157585e+10 ...             inf\n",
      "            -inf             inf]\n",
      "El tiempo de ejecución fue de  10.215920493000112 segundos\n"
     ]
    }
   ],
   "source": [
    "inicio = time.perf_counter()\n",
    "\n",
    "polinomio = pol_char_from_signless_lap(A,1000)\n",
    "\n",
    "final = time.perf_counter()\n",
    "\n",
    "print(\"Los coeficientes del polinomio característico son\", polinomio)\n",
    "\n",
    "print(\"El tiempo de ejecución fue de \", final-inicio,\"segundos\")"
   ]
  },
  {
   "cell_type": "markdown",
   "metadata": {},
   "source": [
    "## 2000 genes"
   ]
  },
  {
   "cell_type": "code",
   "execution_count": 8,
   "metadata": {},
   "outputs": [
    {
     "name": "stdout",
     "output_type": "stream",
     "text": [
      "Los coeficientes del polinomio característico son [ 1.00000000e+00 -1.68524400e+06  1.41930719e+12 ...             inf\n",
      "            -inf             inf]\n",
      "El tiempo de ejecución fue de  20.909962541999903 segundos\n"
     ]
    }
   ],
   "source": [
    "inicio = time.perf_counter()\n",
    "\n",
    "polinomio = pol_char_from_signless_lap(A,2000)\n",
    "\n",
    "final = time.perf_counter()\n",
    "\n",
    "print(\"Los coeficientes del polinomio característico son\", polinomio)\n",
    "\n",
    "print(\"El tiempo de ejecución fue de \", final-inicio,\"segundos\")"
   ]
  },
  {
   "cell_type": "markdown",
   "metadata": {},
   "source": [
    "## 3000 genes"
   ]
  },
  {
   "cell_type": "code",
   "execution_count": 9,
   "metadata": {},
   "outputs": [
    {
     "name": "stdout",
     "output_type": "stream",
     "text": [
      "Los coeficientes del polinomio característico son [ 1.00000000e+00 -3.78467800e+06  7.15948692e+12 ...             inf\n",
      "            -inf             inf]\n",
      "El tiempo de ejecución fue de  48.36551501500003 segundos\n"
     ]
    }
   ],
   "source": [
    "inicio = time.perf_counter()\n",
    "\n",
    "polinomio = pol_char_from_signless_lap(A,3000)\n",
    "\n",
    "final = time.perf_counter()\n",
    "\n",
    "print(\"Los coeficientes del polinomio característico son\", polinomio)\n",
    "\n",
    "print(\"El tiempo de ejecución fue de \", final-inicio,\"segundos\")"
   ]
  },
  {
   "cell_type": "markdown",
   "metadata": {},
   "source": [
    "## 4000 genes"
   ]
  },
  {
   "cell_type": "code",
   "execution_count": 10,
   "metadata": {},
   "outputs": [
    {
     "name": "stdout",
     "output_type": "stream",
     "text": [
      "Los coeficientes del polinomio característico son [ 1.00000000e+00 -6.73429600e+06  2.26696578e+13 ...             inf\n",
      "            -inf             inf]\n",
      "El tiempo de ejecución fue de  103.25166430600007 segundos\n"
     ]
    }
   ],
   "source": [
    "inicio = time.perf_counter()\n",
    "\n",
    "polinomio = pol_char_from_signless_lap(A,4000)\n",
    "\n",
    "final = time.perf_counter()\n",
    "\n",
    "print(\"Los coeficientes del polinomio característico son\", polinomio)\n",
    "\n",
    "print(\"El tiempo de ejecución fue de \", final-inicio,\"segundos\")"
   ]
  },
  {
   "cell_type": "markdown",
   "metadata": {},
   "source": [
    "## 5000 genes"
   ]
  },
  {
   "cell_type": "code",
   "execution_count": 11,
   "metadata": {},
   "outputs": [
    {
     "name": "stdout",
     "output_type": "stream",
     "text": [
      "Los coeficientes del polinomio característico son [ 1.00000000e+00 -1.05179340e+07  5.53023176e+13 ...             inf\n",
      "            -inf             inf]\n",
      "El tiempo de ejecución fue de  225.94665110899996 segundos\n"
     ]
    }
   ],
   "source": [
    "inicio = time.perf_counter()\n",
    "\n",
    "polinomio = pol_char_from_signless_lap(A,5000)\n",
    "\n",
    "final = time.perf_counter()\n",
    "\n",
    "print(\"Los coeficientes del polinomio característico son\", polinomio)\n",
    "\n",
    "print(\"El tiempo de ejecución fue de \", final-inicio,\"segundos\")"
   ]
  },
  {
   "cell_type": "markdown",
   "metadata": {},
   "source": [
    "## 6000 genes"
   ]
  },
  {
   "cell_type": "code",
   "execution_count": 12,
   "metadata": {},
   "outputs": [
    {
     "name": "stdout",
     "output_type": "stream",
     "text": [
      "Los coeficientes del polinomio característico son [ 1.00000000e+00 -1.51153600e+07  1.14217866e+14 ...             inf\n",
      "            -inf             inf]\n",
      "El tiempo de ejecución fue de  491.0024890710001 segundos\n"
     ]
    }
   ],
   "source": [
    "inicio = time.perf_counter()\n",
    "\n",
    "polinomio = pol_char_from_signless_lap(A,6000)\n",
    "\n",
    "final = time.perf_counter()\n",
    "\n",
    "print(\"Los coeficientes del polinomio característico son\", polinomio)\n",
    "\n",
    "print(\"El tiempo de ejecución fue de \", final-inicio,\"segundos\")"
   ]
  },
  {
   "cell_type": "markdown",
   "metadata": {},
   "source": [
    "## 7000 genes"
   ]
  },
  {
   "cell_type": "code",
   "execution_count": 13,
   "metadata": {},
   "outputs": [
    {
     "name": "stdout",
     "output_type": "stream",
     "text": [
      "Los coeficientes del polinomio característico son [ 1.00000000e+00 -2.05691240e+07  2.11513979e+14 ...             inf\n",
      "            -inf             inf]\n",
      "El tiempo de ejecución fue de  1019.7051259719997 segundos\n"
     ]
    }
   ],
   "source": [
    "inicio = time.perf_counter()\n",
    "\n",
    "polinomio = pol_char_from_signless_lap(A,7000)\n",
    "\n",
    "final = time.perf_counter()\n",
    "\n",
    "print(\"Los coeficientes del polinomio característico son\", polinomio)\n",
    "\n",
    "print(\"El tiempo de ejecución fue de \", final-inicio,\"segundos\")"
   ]
  },
  {
   "cell_type": "markdown",
   "metadata": {},
   "source": [
    "## 8000 genes"
   ]
  },
  {
   "cell_type": "code",
   "execution_count": 18,
   "metadata": {},
   "outputs": [
    {
     "name": "stdout",
     "output_type": "stream",
     "text": [
      "Los coeficientes del polinomio característico son [ 1.00000000e+00 -2.68269740e+07  3.59797947e+14 ...             inf\n",
      "            -inf             inf]\n",
      "El tiempo de ejecución fue de  4320.3833227840005 segundos\n"
     ]
    }
   ],
   "source": [
    "inicio = time.perf_counter()\n",
    "\n",
    "polinomio = pol_char_from_signless_lap(A,8000)\n",
    "\n",
    "final = time.perf_counter()\n",
    "\n",
    "print(\"Los coeficientes del polinomio característico son\", polinomio)\n",
    "\n",
    "print(\"El tiempo de ejecución fue de \", final-inicio,\"segundos\")"
   ]
  },
  {
   "cell_type": "code",
   "execution_count": 7,
   "metadata": {},
   "outputs": [],
   "source": [
    "#Esta es la función correcta\n",
    "# a -> valor inicial de la iteración(corresponde al número de filas y columnas inciciales \n",
    "# tomadas de la matriz laplaciana sin signo)\n",
    "\n",
    "# b -> cota superior de los valores de filas/columnas tomadas\n",
    "\n",
    "# c -> aumentos que tendrá n en cada iteración \n",
    "\n",
    "# d -> incremento que tendrá la secuencia de números den range\n",
    "\n",
    "# e -> aumento que debe tener el valor n cada que se inicia un nuevo ciclo for \n",
    "\n",
    "def cal_sev_coeff(a,b,c,d,e): \n",
    "    \n",
    "    arr=[]\n",
    "    n=a\n",
    "    \n",
    "    while n < b:\n",
    "        \n",
    "        m=n\n",
    "        for m in range(m,m+c,d):\n",
    "            \n",
    "            pol = pol_char_from_signless_lap(A,m)\n",
    "            pol_list = pol.tolist()\n",
    "            \n",
    "            arr.append(pol_list)\n",
    "            \n",
    "        n=n+e\n",
    "            \n",
    "    return arr "
   ]
  },
  {
   "cell_type": "code",
   "execution_count": 8,
   "metadata": {},
   "outputs": [],
   "source": [
    "# Función para calcular la conectividad algebraica a partir del out put \n",
    "# de la función anterior. Simplemente se multiplica por (- 1/2) cada\n",
    "# componente de la lista que arroja la función anterior.\n",
    "\n",
    "def get_alg_conn(lista_param):\n",
    "    \n",
    "    lista = []\n",
    "    for num in lista_param:\n",
    "        \n",
    "        lista.append(- num/2)\n",
    "        \n",
    "    return lista  "
   ]
  },
  {
   "cell_type": "markdown",
   "metadata": {},
   "source": [
    "# Conectividad algebraica"
   ]
  },
  {
   "cell_type": "markdown",
   "metadata": {},
   "source": [
    "### Desde el gen 1 hasta el 1000 (de 100 en 100)"
   ]
  },
  {
   "cell_type": "code",
   "execution_count": 9,
   "metadata": {},
   "outputs": [],
   "source": [
    "list_1000 = cal_sev_coeff(100,1100,100,100,100)"
   ]
  },
  {
   "cell_type": "code",
   "execution_count": 10,
   "metadata": {},
   "outputs": [
    {
     "data": {
      "text/plain": [
       "[-4250.000000000002,\n",
       " -16936.000000000015,\n",
       " -38248.00000000005,\n",
       " -67605.99999999997,\n",
       " -105334.00000000009,\n",
       " -151412.00000000003,\n",
       " -205934.0000000004,\n",
       " -268888.0000000004,\n",
       " -341300.0000000006,\n",
       " -420726.00000000076]"
      ]
     },
     "execution_count": 10,
     "metadata": {},
     "output_type": "execute_result"
    }
   ],
   "source": [
    "coeff_1000=[arr[1] for arr in list_1000]\n",
    "coeff_1000"
   ]
  },
  {
   "cell_type": "code",
   "execution_count": 12,
   "metadata": {},
   "outputs": [],
   "source": [
    "alg_conn1 = get_alg_conn(coeff_1000)"
   ]
  },
  {
   "cell_type": "markdown",
   "metadata": {},
   "source": [
    "### Desde el gen 1000 hasta el 2000 (de 100 en 100)"
   ]
  },
  {
   "cell_type": "code",
   "execution_count": 13,
   "metadata": {},
   "outputs": [],
   "source": [
    "list_2000 = cal_sev_coeff(1100,2100,100,100,100)"
   ]
  },
  {
   "cell_type": "code",
   "execution_count": 14,
   "metadata": {},
   "outputs": [
    {
     "data": {
      "text/plain": [
       "[-509964.00000000047,\n",
       " -606250.0000000012,\n",
       " -711852.000000002,\n",
       " -826468.0000000019,\n",
       " -950386.0000000021,\n",
       " -1081020.0000000014,\n",
       " -1220640.0000000044,\n",
       " -1368025.9999999993,\n",
       " -1522840.000000002,\n",
       " -1685244.0000000035]"
      ]
     },
     "execution_count": 14,
     "metadata": {},
     "output_type": "execute_result"
    }
   ],
   "source": [
    "coeff_2000=[arr[1] for arr in list_2000]\n",
    "coeff_2000"
   ]
  },
  {
   "cell_type": "code",
   "execution_count": 17,
   "metadata": {},
   "outputs": [],
   "source": [
    "alg_conn2 = get_alg_conn(coeff_2000)"
   ]
  },
  {
   "cell_type": "markdown",
   "metadata": {},
   "source": [
    "### Desde el gen 2000 hasta el 3000 (de 100 en 100)"
   ]
  },
  {
   "cell_type": "code",
   "execution_count": 19,
   "metadata": {},
   "outputs": [
    {
     "name": "stdout",
     "output_type": "stream",
     "text": [
      "El tiempo de ejecución fue de  314.83745394600555 segundos\n"
     ]
    }
   ],
   "source": [
    "inicio = time.perf_counter()\n",
    "\n",
    "list__3000 = cal_sev_coeff(2100,3100,100,100,100)\n",
    "\n",
    "final = time.perf_counter()\n",
    "\n",
    "print(\"El tiempo de ejecución fue de \", final-inicio,\"segundos\")"
   ]
  },
  {
   "cell_type": "code",
   "execution_count": 20,
   "metadata": {},
   "outputs": [
    {
     "data": {
      "text/plain": [
       "[-1864210.0000000047,\n",
       " -2045484.0000000019,\n",
       " -2234754.0000000033,\n",
       " -2431804.000000004,\n",
       " -2636508.0000000093,\n",
       " -2853995.9999999967,\n",
       " -3071706.0000000084,\n",
       " -3302502.0000000033,\n",
       " -3541426.0000000084,\n",
       " -3784677.9999999986]"
      ]
     },
     "execution_count": 20,
     "metadata": {},
     "output_type": "execute_result"
    }
   ],
   "source": [
    "coeff_3000=[arr[1] for arr in list__3000]\n",
    "coeff_3000"
   ]
  },
  {
   "cell_type": "code",
   "execution_count": 21,
   "metadata": {},
   "outputs": [],
   "source": [
    "alg_conn3 = get_alg_conn(coeff_3000)"
   ]
  },
  {
   "cell_type": "markdown",
   "metadata": {},
   "source": [
    "### Desde el gen 3000 hasta el 4000 (de 100 en 100)"
   ]
  },
  {
   "cell_type": "code",
   "execution_count": 22,
   "metadata": {},
   "outputs": [
    {
     "name": "stdout",
     "output_type": "stream",
     "text": [
      "El tiempo de ejecución fue de  669.1075665300013 segundos\n"
     ]
    }
   ],
   "source": [
    "inicio = time.perf_counter()\n",
    "\n",
    "list_4000 = cal_sev_coeff(3100,4100,100,100,100)\n",
    "\n",
    "final = time.perf_counter()\n",
    "\n",
    "print(\"El tiempo de ejecución fue de \", final-inicio,\"segundos\")"
   ]
  },
  {
   "cell_type": "code",
   "execution_count": 23,
   "metadata": {},
   "outputs": [
    {
     "data": {
      "text/plain": [
       "[-4040394.0000000065,\n",
       " -4302646.000000012,\n",
       " -4572374.000000016,\n",
       " -4857794.000000005,\n",
       " -5144832.000000019,\n",
       " -5440166.000000002,\n",
       " -5745810.000000015,\n",
       " -6069408.000000005,\n",
       " -6395854.000000022,\n",
       " -6734296.000000016]"
      ]
     },
     "execution_count": 23,
     "metadata": {},
     "output_type": "execute_result"
    }
   ],
   "source": [
    "coeff_4000=[arr[1] for arr in list_4000]\n",
    "coeff_4000"
   ]
  },
  {
   "cell_type": "code",
   "execution_count": 24,
   "metadata": {},
   "outputs": [],
   "source": [
    "alg_conn4 = get_alg_conn(coeff_4000)"
   ]
  },
  {
   "cell_type": "markdown",
   "metadata": {},
   "source": [
    "### Desde el gen 4000 hasta el 5000 (de 100 en 100)"
   ]
  },
  {
   "cell_type": "code",
   "execution_count": 25,
   "metadata": {},
   "outputs": [
    {
     "name": "stdout",
     "output_type": "stream",
     "text": [
      "El tiempo de ejecución fue de  1196.0534327529967 segundos\n"
     ]
    }
   ],
   "source": [
    "inicio = time.perf_counter()\n",
    "\n",
    "list_5000 = cal_sev_coeff(4100,5100,100,100,100)\n",
    "\n",
    "final = time.perf_counter()\n",
    "\n",
    "print(\"El tiempo de ejecución fue de \", final-inicio,\"segundos\")"
   ]
  },
  {
   "cell_type": "code",
   "execution_count": 26,
   "metadata": {},
   "outputs": [
    {
     "data": {
      "text/plain": [
       "[-7082610.000000029,\n",
       " -7430435.999999999,\n",
       " -7794514.000000004,\n",
       " -8156952.00000001,\n",
       " -8536480.00000001,\n",
       " -8916286.000000028,\n",
       " -9300422.000000032,\n",
       " -9700098.00000001,\n",
       " -10101672.00000005,\n",
       " -10517934.000000056]"
      ]
     },
     "execution_count": 26,
     "metadata": {},
     "output_type": "execute_result"
    }
   ],
   "source": [
    "coeff_5000=[arr[1] for arr in list_5000]\n",
    "coeff_5000"
   ]
  },
  {
   "cell_type": "code",
   "execution_count": 27,
   "metadata": {},
   "outputs": [],
   "source": [
    "alg_conn5 = get_alg_conn(coeff_5000)"
   ]
  },
  {
   "cell_type": "markdown",
   "metadata": {},
   "source": [
    "### Desde el gen 5000 hasta el 6000 (de 100 en 100)"
   ]
  },
  {
   "cell_type": "code",
   "execution_count": 28,
   "metadata": {},
   "outputs": [
    {
     "name": "stdout",
     "output_type": "stream",
     "text": [
      "El tiempo de ejecución fue de  2646.7087690120024 segundos\n"
     ]
    }
   ],
   "source": [
    "inicio = time.perf_counter()\n",
    "\n",
    "list_6000 = cal_sev_coeff(5100,6100,100,100,100)\n",
    "\n",
    "final = time.perf_counter()\n",
    "\n",
    "print(\"El tiempo de ejecución fue de \", final-inicio,\"segundos\")"
   ]
  },
  {
   "cell_type": "code",
   "execution_count": 29,
   "metadata": {},
   "outputs": [
    {
     "data": {
      "text/plain": [
       "[-10936276.000000013,\n",
       " -11359768.000000035,\n",
       " -11792537.999999993,\n",
       " -12236572.000000024,\n",
       " -12693446.000000063,\n",
       " -13167976.00000003,\n",
       " -13644743.999999978,\n",
       " -14121946.000000054,\n",
       " -14608918.000000004,\n",
       " -15115359.999999978]"
      ]
     },
     "execution_count": 29,
     "metadata": {},
     "output_type": "execute_result"
    }
   ],
   "source": [
    "coeff_6000=[arr[1] for arr in list_6000]\n",
    "coeff_6000"
   ]
  },
  {
   "cell_type": "code",
   "execution_count": 30,
   "metadata": {},
   "outputs": [],
   "source": [
    "alg_conn6 = get_alg_conn(coeff_6000)"
   ]
  },
  {
   "cell_type": "markdown",
   "metadata": {},
   "source": [
    "# Ajuste no lineal"
   ]
  },
  {
   "cell_type": "code",
   "execution_count": 31,
   "metadata": {},
   "outputs": [],
   "source": [
    "x_genes = [100, 200, 300, 400, 500, 600, 700, 800, 900, 1000, 1100, 1200, 1300, 1400, 1500, 1600, 1700, 1800, 1900, 2000, 2100, 2200, 2300, 2400, 2500, 2600, 2700, 2800, 2900, 3000, 3100, 3200, 3300, 3400, 3500, 3600, 3700, 3800, 3900, 4000, 4100, 4200, 4300, 4400, 4500, 4600, 4700, 4800, 4900, 5000, 5100, 5200, 5300, 5400, 5500, 5600, 5700, 5800, 5900, 6000]"
   ]
  },
  {
   "cell_type": "code",
   "execution_count": 40,
   "metadata": {},
   "outputs": [],
   "source": [
    "y_alg_conn = alg_conn1 + alg_conn2 + alg_conn3 +alg_conn4 +alg_conn5 +alg_conn6 "
   ]
  },
  {
   "cell_type": "code",
   "execution_count": 50,
   "metadata": {},
   "outputs": [
    {
     "data": {
      "text/plain": [
       "Text(0, 0.5, 'Número de bordes')"
      ]
     },
     "execution_count": 50,
     "metadata": {},
     "output_type": "execute_result"
    },
    {
     "data": {
      "image/png": "[encoded data removed]",
      "text/plain": [
       "<Figure size 432x288 with 1 Axes>"
      ]
     },
     "metadata": {
      "needs_background": "light"
     },
     "output_type": "display_data"
    }
   ],
   "source": [
    "plt.plot(x_genes,y_alg_conn,'o', color = 'mediumblue')\n",
    "plt.ticklabel_format(axis=\"x\",style=\"sci\",scilimits=(0,0))\n",
    "plt.ticklabel_format(axis=\"y\",style=\"sci\",scilimits=(0,0))\n",
    "plt.xlabel(\"Número de Genes\")\n",
    "plt.ylabel(\"Número de bordes\")"
   ]
  },
  {
   "cell_type": "code",
   "execution_count": 44,
   "metadata": {},
   "outputs": [],
   "source": [
    "def curve(X,m,c):\n",
    "    return(m*X**2-c*X**3+c*X**4)"
   ]
  },
  {
   "cell_type": "code",
   "execution_count": 45,
   "metadata": {},
   "outputs": [],
   "source": [
    "#p_par muestra qué valores de m y c que hacen que esta función polinómica se ajuste mejor a los puntos\n",
    "#p_cov es una matriz de covarianza que nos dice qué tan bien se ajusta esta función a nuestros\n",
    "# datos\n",
    "\n",
    "#parámetros adicionales: p0=[10,5],maxfev= 10000\n",
    "\n",
    "p_par1,p_cov1 = curve_fit(curve,x_genes,y_alg_conn)"
   ]
  },
  {
   "cell_type": "code",
   "execution_count": 47,
   "metadata": {},
   "outputs": [
    {
     "name": "stdout",
     "output_type": "stream",
     "text": [
      "[ 2.10908988e-01 -2.90900118e-11]\n"
     ]
    }
   ],
   "source": [
    "print(p_par1)"
   ]
  },
  {
   "cell_type": "code",
   "execution_count": 48,
   "metadata": {},
   "outputs": [
    {
     "name": "stdout",
     "output_type": "stream",
     "text": [
      "[[ 1.21553516e-08 -4.27196333e-16]\n",
      " [-4.27196333e-16  1.63469799e-23]]\n"
     ]
    }
   ],
   "source": [
    "print(p_cov1)"
   ]
  },
  {
   "cell_type": "code",
   "execution_count": 65,
   "metadata": {},
   "outputs": [
    {
     "data": {
      "image/png": "[encoded data removed]",
      "text/plain": [
       "<Figure size 432x288 with 1 Axes>"
      ]
     },
     "metadata": {
      "needs_background": "light"
     },
     "output_type": "display_data"
    }
   ],
   "source": [
    "x_lin = np.linspace(0,6000,60)\n",
    "\n",
    "fig, axes = plt.subplots()\n",
    "axes.scatter(x_genes, y_alg_conn,linewidths=0.0001,c=\"mediumblue\",label='Datos')\n",
    "axes.plot(x_lin,curve(x_lin,2.109089*10**(-1),-2.909001*10**(-11)),c= \"red\",linewidth=1.5,label='Modelo')\n",
    "plt.ticklabel_format(axis=\"x\",style=\"sci\",scilimits=(0,0))\n",
    "plt.ticklabel_format(axis=\"y\",style=\"sci\",scilimits=(0,0))\n",
    "plt.xlabel(\"Número de Genes\")\n",
    "plt.ylabel(\"Número de bordes\")\n",
    "plt.legend()\n",
    "plt.show()"
   ]
  },
  {
   "cell_type": "code",
   "execution_count": 52,
   "metadata": {},
   "outputs": [
    {
     "name": "stdout",
     "output_type": "stream",
     "text": [
      "R^2: 0.9995914161710229\n"
     ]
    }
   ],
   "source": [
    "print('R^2:', r2_score(y_alg_conn,curve(x_lin,2.109089*10**(-1),-2.909001*10**(-11))))"
   ]
  },
  {
   "cell_type": "code",
   "execution_count": 62,
   "metadata": {},
   "outputs": [
    {
     "data": {
      "image/png": "[encoded data removed]",
      "text/plain": [
       "<Figure size 432x288 with 1 Axes>"
      ]
     },
     "metadata": {
      "needs_background": "light"
     },
     "output_type": "display_data"
    }
   ],
   "source": [
    "x_lin = np.linspace(0,16748,60)\n",
    "\n",
    "fig, axes = plt.subplots()\n",
    "\n",
    "axes.plot(x_lin,curve(x_lin,2.064390*10**(-1),-8.608490*10**(-11)),'--',c= \"mediumblue\",linewidth=1.5,label='Modelo UNS')\n",
    "\n",
    "axes.plot(x_lin,curve(x_lin,2.109089*10**(-1),-2.909001*10**(-11)),'--',c= \"red\",linewidth=1.5,label='Modelo UNT')\n",
    "\n",
    "\n",
    "plt.ticklabel_format(axis=\"x\",style=\"sci\",scilimits=(0,0))\n",
    "plt.ticklabel_format(axis=\"y\",style=\"sci\",scilimits=(0,0))\n",
    "plt.xlabel(\"Número de Genes\")\n",
    "plt.ylabel(\"Número de bordes\")\n",
    "plt.legend()\n",
    "plt.show()"
   ]
  },
  {
   "cell_type": "code",
   "execution_count": 70,
   "metadata": {},
   "outputs": [],
   "source": [
    "# Predicción para el número de bordes con un total de 16748 genes. Para datos UNT.\n",
    "\n",
    "curv1 = curve(16748,2.109089*10**(-1),-2.909001*10**(-11))"
   ]
  },
  {
   "cell_type": "code",
   "execution_count": 71,
   "metadata": {},
   "outputs": [],
   "source": [
    "# Predicción para el número de bordes con un total de 16748 genes. Para datos UNS.\n",
    "\n",
    "curv2 = curve(16748,2.064390*10**(-1),-8.608490*10**(-11))"
   ]
  },
  {
   "cell_type": "code",
   "execution_count": 72,
   "metadata": {},
   "outputs": [
    {
     "data": {
      "text/plain": [
       "5737747.545600414"
      ]
     },
     "execution_count": 72,
     "metadata": {},
     "output_type": "execute_result"
    }
   ],
   "source": [
    "curv1-curv2"
   ]
  },
  {
   "cell_type": "code",
   "execution_count": null,
   "metadata": {},
   "outputs": [],
   "source": []
  }
 ],
 "metadata": {
  "kernelspec": {
   "display_name": "Python 3",
   "language": "python",
   "name": "python3"
  },
  "language_info": {
   "codemirror_mode": {
    "name": "ipython",
    "version": 3
   },
   "file_extension": ".py",
   "mimetype": "text/x-python",
   "name": "python",
   "nbconvert_exporter": "python",
   "pygments_lexer": "ipython3",
   "version": "3.7.4"
  }
 },
 "nbformat": 4,
 "nbformat_minor": 2
}
